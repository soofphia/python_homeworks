{
 "cells": [
  {
   "cell_type": "code",
   "execution_count": 35,
   "id": "929fe6c0-9a49-473c-9d03-ea85f5017566",
   "metadata": {
    "execution": {
     "iopub.execute_input": "2025-09-23T19:13:52.119119Z",
     "iopub.status.busy": "2025-09-23T19:13:52.117985Z",
     "iopub.status.idle": "2025-09-23T19:13:52.125155Z",
     "shell.execute_reply": "2025-09-23T19:13:52.124143Z",
     "shell.execute_reply.started": "2025-09-23T19:13:52.119119Z"
    }
   },
   "outputs": [],
   "source": [
    "import seaborn as sns\n",
    "import matplotlib.pyplot as plt\n",
    "import pandas as pd\n",
    "import numpy as np\n",
    "import plotly.express as px\n",
    "import plotly.graph_objects as go\n",
    "from plotly.subplots import make_subplots\n",
    "import warnings"
   ]
  },
  {
   "cell_type": "code",
   "execution_count": 2,
   "id": "8c48cbdd-dc33-4665-ab26-0c67e425d577",
   "metadata": {
    "execution": {
     "iopub.execute_input": "2025-09-23T18:19:48.027621Z",
     "iopub.status.busy": "2025-09-23T18:19:48.027621Z",
     "iopub.status.idle": "2025-09-23T18:19:48.130394Z",
     "shell.execute_reply": "2025-09-23T18:19:48.129386Z",
     "shell.execute_reply.started": "2025-09-23T18:19:48.027621Z"
    }
   },
   "outputs": [
    {
     "data": {
      "text/plain": [
       "(5110, 12)"
      ]
     },
     "execution_count": 2,
     "metadata": {},
     "output_type": "execute_result"
    }
   ],
   "source": [
    "# Завантажуємо дані\n",
    "df = pd.read_csv('../data/healthcare-dataset-stroke-data.csv', sep=None, engine='python')\n",
    "\n",
    "# Виволимо розмір датасету\n",
    "df.shape\n"
   ]
  },
  {
   "cell_type": "code",
   "execution_count": 36,
   "id": "1027c8e6-445b-4ab7-a675-68da6556adfe",
   "metadata": {
    "execution": {
     "iopub.execute_input": "2025-09-23T19:13:54.136454Z",
     "iopub.status.busy": "2025-09-23T19:13:54.136454Z",
     "iopub.status.idle": "2025-09-23T19:13:54.141676Z",
     "shell.execute_reply": "2025-09-23T19:13:54.140670Z",
     "shell.execute_reply.started": "2025-09-23T19:13:54.136454Z"
    }
   },
   "outputs": [],
   "source": [
    "warnings.filterwarnings(\"ignore\")"
   ]
  },
  {
   "cell_type": "code",
   "execution_count": 3,
   "id": "cd99c0e7-0ab4-47c5-8d96-e6521e861e9f",
   "metadata": {
    "execution": {
     "iopub.execute_input": "2025-09-23T18:19:48.130394Z",
     "iopub.status.busy": "2025-09-23T18:19:48.130394Z",
     "iopub.status.idle": "2025-09-23T18:19:48.175950Z",
     "shell.execute_reply": "2025-09-23T18:19:48.173941Z",
     "shell.execute_reply.started": "2025-09-23T18:19:48.130394Z"
    }
   },
   "outputs": [
    {
     "data": {
      "text/html": [
       "<div>\n",
       "<style scoped>\n",
       "    .dataframe tbody tr th:only-of-type {\n",
       "        vertical-align: middle;\n",
       "    }\n",
       "\n",
       "    .dataframe tbody tr th {\n",
       "        vertical-align: top;\n",
       "    }\n",
       "\n",
       "    .dataframe thead th {\n",
       "        text-align: right;\n",
       "    }\n",
       "</style>\n",
       "<table border=\"1\" class=\"dataframe\">\n",
       "  <thead>\n",
       "    <tr style=\"text-align: right;\">\n",
       "      <th></th>\n",
       "      <th>id</th>\n",
       "      <th>gender</th>\n",
       "      <th>age</th>\n",
       "      <th>hypertension</th>\n",
       "      <th>heart_disease</th>\n",
       "      <th>ever_married</th>\n",
       "      <th>work_type</th>\n",
       "      <th>Residence_type</th>\n",
       "      <th>avg_glucose_level</th>\n",
       "      <th>bmi</th>\n",
       "      <th>smoking_status</th>\n",
       "      <th>stroke</th>\n",
       "    </tr>\n",
       "  </thead>\n",
       "  <tbody>\n",
       "    <tr>\n",
       "      <th>0</th>\n",
       "      <td>9046</td>\n",
       "      <td>Male</td>\n",
       "      <td>67.0</td>\n",
       "      <td>0</td>\n",
       "      <td>1</td>\n",
       "      <td>Yes</td>\n",
       "      <td>Private</td>\n",
       "      <td>Urban</td>\n",
       "      <td>228.69</td>\n",
       "      <td>36.6</td>\n",
       "      <td>formerly smoked</td>\n",
       "      <td>1</td>\n",
       "    </tr>\n",
       "    <tr>\n",
       "      <th>1</th>\n",
       "      <td>51676</td>\n",
       "      <td>Female</td>\n",
       "      <td>61.0</td>\n",
       "      <td>0</td>\n",
       "      <td>0</td>\n",
       "      <td>Yes</td>\n",
       "      <td>Self-employed</td>\n",
       "      <td>Rural</td>\n",
       "      <td>202.21</td>\n",
       "      <td>NaN</td>\n",
       "      <td>never smoked</td>\n",
       "      <td>1</td>\n",
       "    </tr>\n",
       "    <tr>\n",
       "      <th>2</th>\n",
       "      <td>31112</td>\n",
       "      <td>Male</td>\n",
       "      <td>80.0</td>\n",
       "      <td>0</td>\n",
       "      <td>1</td>\n",
       "      <td>Yes</td>\n",
       "      <td>Private</td>\n",
       "      <td>Rural</td>\n",
       "      <td>105.92</td>\n",
       "      <td>32.5</td>\n",
       "      <td>never smoked</td>\n",
       "      <td>1</td>\n",
       "    </tr>\n",
       "    <tr>\n",
       "      <th>3</th>\n",
       "      <td>60182</td>\n",
       "      <td>Female</td>\n",
       "      <td>49.0</td>\n",
       "      <td>0</td>\n",
       "      <td>0</td>\n",
       "      <td>Yes</td>\n",
       "      <td>Private</td>\n",
       "      <td>Urban</td>\n",
       "      <td>171.23</td>\n",
       "      <td>34.4</td>\n",
       "      <td>smokes</td>\n",
       "      <td>1</td>\n",
       "    </tr>\n",
       "    <tr>\n",
       "      <th>4</th>\n",
       "      <td>1665</td>\n",
       "      <td>Female</td>\n",
       "      <td>79.0</td>\n",
       "      <td>1</td>\n",
       "      <td>0</td>\n",
       "      <td>Yes</td>\n",
       "      <td>Self-employed</td>\n",
       "      <td>Rural</td>\n",
       "      <td>174.12</td>\n",
       "      <td>24.0</td>\n",
       "      <td>never smoked</td>\n",
       "      <td>1</td>\n",
       "    </tr>\n",
       "    <tr>\n",
       "      <th>5</th>\n",
       "      <td>56669</td>\n",
       "      <td>Male</td>\n",
       "      <td>81.0</td>\n",
       "      <td>0</td>\n",
       "      <td>0</td>\n",
       "      <td>Yes</td>\n",
       "      <td>Private</td>\n",
       "      <td>Urban</td>\n",
       "      <td>186.21</td>\n",
       "      <td>29.0</td>\n",
       "      <td>formerly smoked</td>\n",
       "      <td>1</td>\n",
       "    </tr>\n",
       "    <tr>\n",
       "      <th>6</th>\n",
       "      <td>53882</td>\n",
       "      <td>Male</td>\n",
       "      <td>74.0</td>\n",
       "      <td>1</td>\n",
       "      <td>1</td>\n",
       "      <td>Yes</td>\n",
       "      <td>Private</td>\n",
       "      <td>Rural</td>\n",
       "      <td>70.09</td>\n",
       "      <td>27.4</td>\n",
       "      <td>never smoked</td>\n",
       "      <td>1</td>\n",
       "    </tr>\n",
       "    <tr>\n",
       "      <th>7</th>\n",
       "      <td>10434</td>\n",
       "      <td>Female</td>\n",
       "      <td>69.0</td>\n",
       "      <td>0</td>\n",
       "      <td>0</td>\n",
       "      <td>No</td>\n",
       "      <td>Private</td>\n",
       "      <td>Urban</td>\n",
       "      <td>94.39</td>\n",
       "      <td>22.8</td>\n",
       "      <td>never smoked</td>\n",
       "      <td>1</td>\n",
       "    </tr>\n",
       "    <tr>\n",
       "      <th>8</th>\n",
       "      <td>27419</td>\n",
       "      <td>Female</td>\n",
       "      <td>59.0</td>\n",
       "      <td>0</td>\n",
       "      <td>0</td>\n",
       "      <td>Yes</td>\n",
       "      <td>Private</td>\n",
       "      <td>Rural</td>\n",
       "      <td>76.15</td>\n",
       "      <td>NaN</td>\n",
       "      <td>Unknown</td>\n",
       "      <td>1</td>\n",
       "    </tr>\n",
       "    <tr>\n",
       "      <th>9</th>\n",
       "      <td>60491</td>\n",
       "      <td>Female</td>\n",
       "      <td>78.0</td>\n",
       "      <td>0</td>\n",
       "      <td>0</td>\n",
       "      <td>Yes</td>\n",
       "      <td>Private</td>\n",
       "      <td>Urban</td>\n",
       "      <td>58.57</td>\n",
       "      <td>24.2</td>\n",
       "      <td>Unknown</td>\n",
       "      <td>1</td>\n",
       "    </tr>\n",
       "  </tbody>\n",
       "</table>\n",
       "</div>"
      ],
      "text/plain": [
       "      id  gender   age  hypertension  heart_disease ever_married  \\\n",
       "0   9046    Male  67.0             0              1          Yes   \n",
       "1  51676  Female  61.0             0              0          Yes   \n",
       "2  31112    Male  80.0             0              1          Yes   \n",
       "3  60182  Female  49.0             0              0          Yes   \n",
       "4   1665  Female  79.0             1              0          Yes   \n",
       "5  56669    Male  81.0             0              0          Yes   \n",
       "6  53882    Male  74.0             1              1          Yes   \n",
       "7  10434  Female  69.0             0              0           No   \n",
       "8  27419  Female  59.0             0              0          Yes   \n",
       "9  60491  Female  78.0             0              0          Yes   \n",
       "\n",
       "       work_type Residence_type  avg_glucose_level   bmi   smoking_status  \\\n",
       "0        Private          Urban             228.69  36.6  formerly smoked   \n",
       "1  Self-employed          Rural             202.21   NaN     never smoked   \n",
       "2        Private          Rural             105.92  32.5     never smoked   \n",
       "3        Private          Urban             171.23  34.4           smokes   \n",
       "4  Self-employed          Rural             174.12  24.0     never smoked   \n",
       "5        Private          Urban             186.21  29.0  formerly smoked   \n",
       "6        Private          Rural              70.09  27.4     never smoked   \n",
       "7        Private          Urban              94.39  22.8     never smoked   \n",
       "8        Private          Rural              76.15   NaN          Unknown   \n",
       "9        Private          Urban              58.57  24.2          Unknown   \n",
       "\n",
       "   stroke  \n",
       "0       1  \n",
       "1       1  \n",
       "2       1  \n",
       "3       1  \n",
       "4       1  \n",
       "5       1  \n",
       "6       1  \n",
       "7       1  \n",
       "8       1  \n",
       "9       1  "
      ]
     },
     "execution_count": 3,
     "metadata": {},
     "output_type": "execute_result"
    }
   ],
   "source": [
    "# Виводимо перші 10 рядків, аби попередньо ознайомитись із записами в датафреймі\n",
    "df.head(10)\n"
   ]
  },
  {
   "cell_type": "code",
   "execution_count": 4,
   "id": "0622e653-74cd-4dee-8e47-e946e5569da7",
   "metadata": {
    "execution": {
     "iopub.execute_input": "2025-09-23T18:19:48.176891Z",
     "iopub.status.busy": "2025-09-23T18:19:48.176891Z",
     "iopub.status.idle": "2025-09-23T18:19:48.218162Z",
     "shell.execute_reply": "2025-09-23T18:19:48.217762Z",
     "shell.execute_reply.started": "2025-09-23T18:19:48.176891Z"
    }
   },
   "outputs": [
    {
     "name": "stdout",
     "output_type": "stream",
     "text": [
      "<class 'pandas.core.frame.DataFrame'>\n",
      "RangeIndex: 5110 entries, 0 to 5109\n",
      "Data columns (total 12 columns):\n",
      " #   Column             Non-Null Count  Dtype  \n",
      "---  ------             --------------  -----  \n",
      " 0   id                 5110 non-null   int64  \n",
      " 1   gender             5110 non-null   object \n",
      " 2   age                5110 non-null   float64\n",
      " 3   hypertension       5110 non-null   int64  \n",
      " 4   heart_disease      5110 non-null   int64  \n",
      " 5   ever_married       5110 non-null   object \n",
      " 6   work_type          5110 non-null   object \n",
      " 7   Residence_type     5110 non-null   object \n",
      " 8   avg_glucose_level  5110 non-null   float64\n",
      " 9   bmi                4909 non-null   float64\n",
      " 10  smoking_status     5110 non-null   object \n",
      " 11  stroke             5110 non-null   int64  \n",
      "dtypes: float64(3), int64(4), object(5)\n",
      "memory usage: 479.2+ KB\n",
      "None\n"
     ]
    }
   ],
   "source": [
    "# General information about the dataset\n",
    "print(df.info())"
   ]
  },
  {
   "cell_type": "code",
   "execution_count": 5,
   "id": "c7d7b967-de9c-4d69-aed6-9702878d81f5",
   "metadata": {
    "execution": {
     "iopub.execute_input": "2025-09-23T18:19:48.218162Z",
     "iopub.status.busy": "2025-09-23T18:19:48.218162Z",
     "iopub.status.idle": "2025-09-23T18:19:48.236244Z",
     "shell.execute_reply": "2025-09-23T18:19:48.234862Z",
     "shell.execute_reply.started": "2025-09-23T18:19:48.218162Z"
    }
   },
   "outputs": [
    {
     "name": "stdout",
     "output_type": "stream",
     "text": [
      "Missing values:\n",
      "id                     0\n",
      "gender                 0\n",
      "age                    0\n",
      "hypertension           0\n",
      "heart_disease          0\n",
      "ever_married           0\n",
      "work_type              0\n",
      "Residence_type         0\n",
      "avg_glucose_level      0\n",
      "bmi                  201\n",
      "smoking_status         0\n",
      "stroke                 0\n",
      "dtype: int64\n"
     ]
    }
   ],
   "source": [
    "# Checking for NULL values\n",
    "print(\"Missing values:\")\n",
    "print(df.isnull().sum())"
   ]
  },
  {
   "cell_type": "code",
   "execution_count": 6,
   "id": "c7f03923-1a26-48bd-b64b-9c29eaddd2cc",
   "metadata": {
    "execution": {
     "iopub.execute_input": "2025-09-23T18:19:48.236244Z",
     "iopub.status.busy": "2025-09-23T18:19:48.236244Z",
     "iopub.status.idle": "2025-09-23T18:19:48.258200Z",
     "shell.execute_reply": "2025-09-23T18:19:48.258200Z",
     "shell.execute_reply.started": "2025-09-23T18:19:48.236244Z"
    }
   },
   "outputs": [],
   "source": [
    "# Changing missing values in bmi column with the mean value\n",
    "num_cols = df.select_dtypes(include=[\"Int64\", \"float\"]).columns\n",
    "for col in num_cols:\n",
    "    df[col].fillna(df[col].median(), inplace= True)\n"
   ]
  },
  {
   "cell_type": "code",
   "execution_count": 7,
   "id": "d6368954-a91c-42cb-82ba-298ab7e71b3d",
   "metadata": {
    "execution": {
     "iopub.execute_input": "2025-09-23T18:19:48.258200Z",
     "iopub.status.busy": "2025-09-23T18:19:48.258200Z",
     "iopub.status.idle": "2025-09-23T18:19:48.282372Z",
     "shell.execute_reply": "2025-09-23T18:19:48.282372Z",
     "shell.execute_reply.started": "2025-09-23T18:19:48.258200Z"
    }
   },
   "outputs": [
    {
     "name": "stdout",
     "output_type": "stream",
     "text": [
      "Duplicated values:\n",
      "0\n"
     ]
    }
   ],
   "source": [
    "# Checking for duplicates\n",
    "print(\"Duplicated values:\")\n",
    "print(df.duplicated().sum())\n"
   ]
  },
  {
   "cell_type": "code",
   "execution_count": 17,
   "id": "90503f51-5fdb-4fd3-a603-70e6c95c0e2e",
   "metadata": {
    "execution": {
     "iopub.execute_input": "2025-09-23T18:26:29.530974Z",
     "iopub.status.busy": "2025-09-23T18:26:29.530974Z",
     "iopub.status.idle": "2025-09-23T18:26:29.569624Z",
     "shell.execute_reply": "2025-09-23T18:26:29.569624Z",
     "shell.execute_reply.started": "2025-09-23T18:26:29.530974Z"
    }
   },
   "outputs": [
    {
     "data": {
      "text/html": [
       "<div>\n",
       "<style scoped>\n",
       "    .dataframe tbody tr th:only-of-type {\n",
       "        vertical-align: middle;\n",
       "    }\n",
       "\n",
       "    .dataframe tbody tr th {\n",
       "        vertical-align: top;\n",
       "    }\n",
       "\n",
       "    .dataframe thead th {\n",
       "        text-align: right;\n",
       "    }\n",
       "</style>\n",
       "<table border=\"1\" class=\"dataframe\">\n",
       "  <thead>\n",
       "    <tr style=\"text-align: right;\">\n",
       "      <th></th>\n",
       "      <th>age</th>\n",
       "      <th>avg_glucose_level</th>\n",
       "      <th>bmi</th>\n",
       "    </tr>\n",
       "  </thead>\n",
       "  <tbody>\n",
       "    <tr>\n",
       "      <th>count</th>\n",
       "      <td>5110.00</td>\n",
       "      <td>5110.00</td>\n",
       "      <td>5110.00</td>\n",
       "    </tr>\n",
       "    <tr>\n",
       "      <th>mean</th>\n",
       "      <td>43.23</td>\n",
       "      <td>106.15</td>\n",
       "      <td>28.86</td>\n",
       "    </tr>\n",
       "    <tr>\n",
       "      <th>std</th>\n",
       "      <td>22.61</td>\n",
       "      <td>45.28</td>\n",
       "      <td>7.70</td>\n",
       "    </tr>\n",
       "    <tr>\n",
       "      <th>min</th>\n",
       "      <td>0.08</td>\n",
       "      <td>55.12</td>\n",
       "      <td>10.30</td>\n",
       "    </tr>\n",
       "    <tr>\n",
       "      <th>25%</th>\n",
       "      <td>25.00</td>\n",
       "      <td>77.24</td>\n",
       "      <td>23.80</td>\n",
       "    </tr>\n",
       "    <tr>\n",
       "      <th>50%</th>\n",
       "      <td>45.00</td>\n",
       "      <td>91.88</td>\n",
       "      <td>28.10</td>\n",
       "    </tr>\n",
       "    <tr>\n",
       "      <th>75%</th>\n",
       "      <td>61.00</td>\n",
       "      <td>114.09</td>\n",
       "      <td>32.80</td>\n",
       "    </tr>\n",
       "    <tr>\n",
       "      <th>max</th>\n",
       "      <td>82.00</td>\n",
       "      <td>271.74</td>\n",
       "      <td>97.60</td>\n",
       "    </tr>\n",
       "  </tbody>\n",
       "</table>\n",
       "</div>"
      ],
      "text/plain": [
       "           age  avg_glucose_level      bmi\n",
       "count  5110.00            5110.00  5110.00\n",
       "mean     43.23             106.15    28.86\n",
       "std      22.61              45.28     7.70\n",
       "min       0.08              55.12    10.30\n",
       "25%      25.00              77.24    23.80\n",
       "50%      45.00              91.88    28.10\n",
       "75%      61.00             114.09    32.80\n",
       "max      82.00             271.74    97.60"
      ]
     },
     "execution_count": 17,
     "metadata": {},
     "output_type": "execute_result"
    }
   ],
   "source": [
    "# The describtion of basic information about the values\n",
    "stats = df[['age', 'avg_glucose_level', 'bmi']].describe()\n",
    "stats.round(2)\n"
   ]
  },
  {
   "cell_type": "code",
   "execution_count": 15,
   "id": "2ca0672c-c9de-41ac-816b-543ac7fee1af",
   "metadata": {
    "execution": {
     "iopub.execute_input": "2025-09-23T18:26:22.301491Z",
     "iopub.status.busy": "2025-09-23T18:26:22.301491Z",
     "iopub.status.idle": "2025-09-23T18:26:22.329235Z",
     "shell.execute_reply": "2025-09-23T18:26:22.328775Z",
     "shell.execute_reply.started": "2025-09-23T18:26:22.301491Z"
    }
   },
   "outputs": [
    {
     "data": {
      "text/plain": [
       "gender            3\n",
       "ever_married      2\n",
       "work_type         5\n",
       "Residence_type    2\n",
       "smoking_status    4\n",
       "dtype: int64"
      ]
     },
     "execution_count": 15,
     "metadata": {},
     "output_type": "execute_result"
    }
   ],
   "source": [
    "# Визначимо категоріальні колонки\n",
    "cat_cols = ['gender', 'ever_married', 'work_type', 'Residence_type', 'smoking_status']\n",
    "# Checking for unique values in categorical columns \n",
    "df[cat_cols].nunique()\n"
   ]
  },
  {
   "cell_type": "code",
   "execution_count": 16,
   "id": "0d6447d3-d672-4dad-ba7a-03ae89c07646",
   "metadata": {
    "execution": {
     "iopub.execute_input": "2025-09-23T18:26:24.652539Z",
     "iopub.status.busy": "2025-09-23T18:26:24.652539Z",
     "iopub.status.idle": "2025-09-23T18:26:24.669440Z",
     "shell.execute_reply": "2025-09-23T18:26:24.667438Z",
     "shell.execute_reply.started": "2025-09-23T18:26:24.652539Z"
    }
   },
   "outputs": [],
   "source": [
    "# Converting categorical values into categories for memory efficiency\n",
    "df[cat_cols] = df[cat_cols].astype('category')\n"
   ]
  },
  {
   "cell_type": "code",
   "execution_count": 20,
   "id": "1c2b0d78-18be-405c-ab87-d80b66017997",
   "metadata": {
    "execution": {
     "iopub.execute_input": "2025-09-23T18:28:20.232059Z",
     "iopub.status.busy": "2025-09-23T18:28:20.232059Z",
     "iopub.status.idle": "2025-09-23T18:28:20.249710Z",
     "shell.execute_reply": "2025-09-23T18:28:20.249710Z",
     "shell.execute_reply.started": "2025-09-23T18:28:20.232059Z"
    }
   },
   "outputs": [
    {
     "name": "stdout",
     "output_type": "stream",
     "text": [
      "Lowercase Columns: Index(['id', 'gender', 'age', 'hypertension', 'heart_disease', 'ever_married',\n",
      "       'work_type', 'residence_type', 'avg_glucose_level', 'bmi',\n",
      "       'smoking_status', 'stroke'],\n",
      "      dtype='object')\n"
     ]
    }
   ],
   "source": [
    "# Standardization of column names\n",
    "df.columns = df.columns.str.lower()\n",
    "print(\"Lowercase Columns:\", df.columns)\n"
   ]
  },
  {
   "cell_type": "code",
   "execution_count": 22,
   "id": "5ae375dc-67d7-4988-868a-6ba80446734d",
   "metadata": {
    "execution": {
     "iopub.execute_input": "2025-09-23T18:56:38.578722Z",
     "iopub.status.busy": "2025-09-23T18:56:38.576696Z",
     "iopub.status.idle": "2025-09-23T18:56:38.649778Z",
     "shell.execute_reply": "2025-09-23T18:56:38.642150Z",
     "shell.execute_reply.started": "2025-09-23T18:56:38.578722Z"
    }
   },
   "outputs": [],
   "source": [
    "# Creating new groups for bmi column based on medical categories\n",
    "def bmi_category(bmi):\n",
    "    if bmi < 18.5:\n",
    "        return \"Underweight\"\n",
    "    elif 18.5 <= bmi < 25:\n",
    "        return \"Normal weight\"\n",
    "    elif 25 <= bmi < 30:\n",
    "        return \"Overweight\"\n",
    "    else:\n",
    "        return \"Obese\"\n",
    "df['bmi_category'] = df['bmi'].apply(bmi_category)\n"
   ]
  },
  {
   "cell_type": "code",
   "execution_count": 39,
   "id": "6b4bd67b-0d0a-4c39-a1a7-5790d5535ee7",
   "metadata": {
    "execution": {
     "iopub.execute_input": "2025-09-23T19:14:49.245595Z",
     "iopub.status.busy": "2025-09-23T19:14:49.245595Z",
     "iopub.status.idle": "2025-09-23T19:14:49.571102Z",
     "shell.execute_reply": "2025-09-23T19:14:49.570789Z",
     "shell.execute_reply.started": "2025-09-23T19:14:49.245595Z"
    }
   },
   "outputs": [
    {
     "data": {
      "image/png": "[encoded data removed]",
      "text/plain": [
       "<Figure size 1000x600 with 1 Axes>"
      ]
     },
     "metadata": {},
     "output_type": "display_data"
    }
   ],
   "source": [
    "# Age distribution of Patients\n",
    "plt.figure(figsize=(10,6))\n",
    "sns.histplot(df['age'], bins=50, kde=True, color=\"green\")\n",
    "plt.title('Age disrtibution of Patients')\n",
    "plt.xlabel('Age')\n",
    "plt.ylabel('Count')\n",
    "plt.show()\n"
   ]
  },
  {
   "cell_type": "code",
   "execution_count": 49,
   "id": "bab6d796-3fef-4d67-8ca1-ee3cbdb90f07",
   "metadata": {
    "execution": {
     "iopub.execute_input": "2025-09-23T19:24:00.019875Z",
     "iopub.status.busy": "2025-09-23T19:24:00.019875Z",
     "iopub.status.idle": "2025-09-23T19:24:00.154026Z",
     "shell.execute_reply": "2025-09-23T19:24:00.154026Z",
     "shell.execute_reply.started": "2025-09-23T19:24:00.019875Z"
    }
   },
   "outputs": [
    {
     "data": {
      "image/png": "[encoded data removed]",
      "text/plain": [
       "<Figure size 600x400 with 1 Axes>"
      ]
     },
     "metadata": {},
     "output_type": "display_data"
    }
   ],
   "source": [
    "# Gender distribution of Patients\n",
    "plt.figure(figsize=(6,4))\n",
    "sns.countplot(x=\"gender\", data=df, palette=(\"lightgreen\", \"skyblue\"))\n",
    "plt.title(\"Gender Distribution of Patients\")\n",
    "plt.show()\n"
   ]
  },
  {
   "cell_type": "code",
   "execution_count": 52,
   "id": "16e7d27c-534d-4581-9023-a4001bf8cfc4",
   "metadata": {
    "execution": {
     "iopub.execute_input": "2025-09-23T19:26:57.896698Z",
     "iopub.status.busy": "2025-09-23T19:26:57.895708Z",
     "iopub.status.idle": "2025-09-23T19:26:57.992623Z",
     "shell.execute_reply": "2025-09-23T19:26:57.992623Z",
     "shell.execute_reply.started": "2025-09-23T19:26:57.896698Z"
    }
   },
   "outputs": [
    {
     "data": {
      "image/png": "[encoded data removed]",
      "text/plain": [
       "<Figure size 600x600 with 1 Axes>"
      ]
     },
     "metadata": {},
     "output_type": "display_data"
    }
   ],
   "source": [
    "# Gender distribution of Patients\n",
    "gender_counts = df['gender'].value_counts()\n",
    "\n",
    "colors = ['lightgreen', 'skyblue']\n",
    "\n",
    "plt.figure(figsize=(6, 6))\n",
    "plt.pie(\n",
    "    gender_counts,\n",
    "    labels=gender_counts.index,\n",
    "    autopct='%1.1f%%',\n",
    "    startangle=90,\n",
    "    colors=colors\n",
    ")\n",
    "plt.title(\"Gender Distribution\")\n",
    "plt.show()"
   ]
  }
 ],
 "metadata": {
  "kernelspec": {
   "display_name": "Python [conda env:base] *",
   "language": "python",
   "name": "conda-base-py"
  },
  "language_info": {
   "codemirror_mode": {
    "name": "ipython",
    "version": 3
   },
   "file_extension": ".py",
   "mimetype": "text/x-python",
   "name": "python",
   "nbconvert_exporter": "python",
   "pygments_lexer": "ipython3",
   "version": "3.11.7"
  }
 },
 "nbformat": 4,
 "nbformat_minor": 5
}
