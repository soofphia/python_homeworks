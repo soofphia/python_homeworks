{
 "cells": [
  {
   "cell_type": "markdown",
   "metadata": {
    "id": "olyuwbpjrmvn"
   },
   "source": [
    "# Домашнє завдання до теми \"Основи роботи з даними у Pandas\""
   ]
  },
  {
   "cell_type": "markdown",
   "metadata": {
    "id": "vP2PEJyq8Yrj"
   },
   "source": [
    "В цьому домашньому завданні продовжуємо працювати з набором даних `supermarket_sales.csv`."
   ]
  },
  {
   "cell_type": "markdown",
   "metadata": {
    "id": "dh9lfpDb8gBL"
   },
   "source": [
    "0. Імпортуйте бібліотеку pandas та зчитайте дані у змінну `df` типу `pandas.DataFrame`."
   ]
  },
  {
   "cell_type": "code",
   "execution_count": 6,
   "metadata": {
    "execution": {
     "iopub.execute_input": "2025-07-06T08:20:49.215699Z",
     "iopub.status.busy": "2025-07-06T08:20:49.215699Z",
     "iopub.status.idle": "2025-07-06T08:20:49.227509Z",
     "shell.execute_reply": "2025-07-06T08:20:49.226496Z",
     "shell.execute_reply.started": "2025-07-06T08:20:49.215699Z"
    },
    "id": "xBI9gJMK8qnl"
   },
   "outputs": [],
   "source": [
    "import pandas as pd\n",
    "data_path = '../data/supermarket_sales.csv'\n",
    "df = pd.read_csv(data_path)"
   ]
  },
  {
   "cell_type": "markdown",
   "metadata": {
    "ExecuteTime": {
     "end_time": "2021-09-20T19:44:56.499824Z",
     "start_time": "2021-09-20T19:44:56.496923Z"
    },
    "id": "ca064875"
   },
   "source": [
    "1. За допомогою бібліотеки Pandas виведіть перші 4 і останні 4 записи у наборі даних (це дві окремі команди). Треба саме 4! Не 5."
   ]
  },
  {
   "cell_type": "code",
   "execution_count": 17,
   "metadata": {
    "ExecuteTime": {
     "end_time": "2021-12-08T18:46:42.601691Z",
     "start_time": "2021-12-08T18:46:42.570962Z"
    },
    "execution": {
     "iopub.execute_input": "2025-07-06T13:27:04.168323Z",
     "iopub.status.busy": "2025-07-06T13:27:04.168323Z",
     "iopub.status.idle": "2025-07-06T13:27:04.183777Z",
     "shell.execute_reply": "2025-07-06T13:27:04.182778Z",
     "shell.execute_reply.started": "2025-07-06T13:27:04.168323Z"
    },
    "id": "d095f26b"
   },
   "outputs": [
    {
     "data": {
      "text/html": [
       "<div>\n",
       "<style scoped>\n",
       "    .dataframe tbody tr th:only-of-type {\n",
       "        vertical-align: middle;\n",
       "    }\n",
       "\n",
       "    .dataframe tbody tr th {\n",
       "        vertical-align: top;\n",
       "    }\n",
       "\n",
       "    .dataframe thead th {\n",
       "        text-align: right;\n",
       "    }\n",
       "</style>\n",
       "<table border=\"1\" class=\"dataframe\">\n",
       "  <thead>\n",
       "    <tr style=\"text-align: right;\">\n",
       "      <th></th>\n",
       "      <th>Invoice ID</th>\n",
       "      <th>Branch</th>\n",
       "      <th>City</th>\n",
       "      <th>Customer type</th>\n",
       "      <th>Gender</th>\n",
       "      <th>Product line</th>\n",
       "      <th>Unit price</th>\n",
       "      <th>Quantity</th>\n",
       "      <th>Tax 5%</th>\n",
       "      <th>Total</th>\n",
       "      <th>Date</th>\n",
       "      <th>Time</th>\n",
       "      <th>Payment</th>\n",
       "      <th>cogs</th>\n",
       "      <th>gross margin percentage</th>\n",
       "      <th>gross income</th>\n",
       "      <th>Rating</th>\n",
       "    </tr>\n",
       "  </thead>\n",
       "  <tbody>\n",
       "    <tr>\n",
       "      <th>0</th>\n",
       "      <td>750-67-8428</td>\n",
       "      <td>A</td>\n",
       "      <td>Yangon</td>\n",
       "      <td>Member</td>\n",
       "      <td>Female</td>\n",
       "      <td>Health and beauty</td>\n",
       "      <td>74.69</td>\n",
       "      <td>7</td>\n",
       "      <td>26.1415</td>\n",
       "      <td>548.9715</td>\n",
       "      <td>1/5/2019</td>\n",
       "      <td>13:08</td>\n",
       "      <td>Ewallet</td>\n",
       "      <td>522.83</td>\n",
       "      <td>4.761905</td>\n",
       "      <td>26.1415</td>\n",
       "      <td>9.1</td>\n",
       "    </tr>\n",
       "    <tr>\n",
       "      <th>1</th>\n",
       "      <td>226-31-3081</td>\n",
       "      <td>C</td>\n",
       "      <td>Naypyitaw</td>\n",
       "      <td>Normal</td>\n",
       "      <td>Female</td>\n",
       "      <td>Electronic accessories</td>\n",
       "      <td>15.28</td>\n",
       "      <td>5</td>\n",
       "      <td>3.8200</td>\n",
       "      <td>80.2200</td>\n",
       "      <td>3/8/2019</td>\n",
       "      <td>10:29</td>\n",
       "      <td>Cash</td>\n",
       "      <td>76.40</td>\n",
       "      <td>4.761905</td>\n",
       "      <td>3.8200</td>\n",
       "      <td>9.6</td>\n",
       "    </tr>\n",
       "    <tr>\n",
       "      <th>2</th>\n",
       "      <td>631-41-3108</td>\n",
       "      <td>A</td>\n",
       "      <td>Yangon</td>\n",
       "      <td>Normal</td>\n",
       "      <td>Male</td>\n",
       "      <td>Home and lifestyle</td>\n",
       "      <td>46.33</td>\n",
       "      <td>7</td>\n",
       "      <td>16.2155</td>\n",
       "      <td>340.5255</td>\n",
       "      <td>3/3/2019</td>\n",
       "      <td>13:23</td>\n",
       "      <td>Credit card</td>\n",
       "      <td>324.31</td>\n",
       "      <td>4.761905</td>\n",
       "      <td>16.2155</td>\n",
       "      <td>7.4</td>\n",
       "    </tr>\n",
       "    <tr>\n",
       "      <th>3</th>\n",
       "      <td>123-19-1176</td>\n",
       "      <td>A</td>\n",
       "      <td>Yangon</td>\n",
       "      <td>Member</td>\n",
       "      <td>Male</td>\n",
       "      <td>Health and beauty</td>\n",
       "      <td>58.22</td>\n",
       "      <td>8</td>\n",
       "      <td>23.2880</td>\n",
       "      <td>489.0480</td>\n",
       "      <td>1/27/2019</td>\n",
       "      <td>20:33</td>\n",
       "      <td>Ewallet</td>\n",
       "      <td>465.76</td>\n",
       "      <td>4.761905</td>\n",
       "      <td>23.2880</td>\n",
       "      <td>8.4</td>\n",
       "    </tr>\n",
       "  </tbody>\n",
       "</table>\n",
       "</div>"
      ],
      "text/plain": [
       "    Invoice ID Branch       City Customer type  Gender  \\\n",
       "0  750-67-8428      A     Yangon        Member  Female   \n",
       "1  226-31-3081      C  Naypyitaw        Normal  Female   \n",
       "2  631-41-3108      A     Yangon        Normal    Male   \n",
       "3  123-19-1176      A     Yangon        Member    Male   \n",
       "\n",
       "             Product line  Unit price  Quantity   Tax 5%     Total       Date  \\\n",
       "0       Health and beauty       74.69         7  26.1415  548.9715   1/5/2019   \n",
       "1  Electronic accessories       15.28         5   3.8200   80.2200   3/8/2019   \n",
       "2      Home and lifestyle       46.33         7  16.2155  340.5255   3/3/2019   \n",
       "3       Health and beauty       58.22         8  23.2880  489.0480  1/27/2019   \n",
       "\n",
       "    Time      Payment    cogs  gross margin percentage  gross income  Rating  \n",
       "0  13:08      Ewallet  522.83                 4.761905       26.1415     9.1  \n",
       "1  10:29         Cash   76.40                 4.761905        3.8200     9.6  \n",
       "2  13:23  Credit card  324.31                 4.761905       16.2155     7.4  \n",
       "3  20:33      Ewallet  465.76                 4.761905       23.2880     8.4  "
      ]
     },
     "execution_count": 17,
     "metadata": {},
     "output_type": "execute_result"
    }
   ],
   "source": [
    "df_shape = df.shape\n",
    "#перші 4 записи\n",
    "df.head(4)"
   ]
  },
  {
   "cell_type": "code",
   "execution_count": 16,
   "metadata": {
    "execution": {
     "iopub.execute_input": "2025-07-06T13:26:58.523729Z",
     "iopub.status.busy": "2025-07-06T13:26:58.522732Z",
     "iopub.status.idle": "2025-07-06T13:26:58.537698Z",
     "shell.execute_reply": "2025-07-06T13:26:58.536698Z",
     "shell.execute_reply.started": "2025-07-06T13:26:58.523729Z"
    }
   },
   "outputs": [
    {
     "data": {
      "text/html": [
       "<div>\n",
       "<style scoped>\n",
       "    .dataframe tbody tr th:only-of-type {\n",
       "        vertical-align: middle;\n",
       "    }\n",
       "\n",
       "    .dataframe tbody tr th {\n",
       "        vertical-align: top;\n",
       "    }\n",
       "\n",
       "    .dataframe thead th {\n",
       "        text-align: right;\n",
       "    }\n",
       "</style>\n",
       "<table border=\"1\" class=\"dataframe\">\n",
       "  <thead>\n",
       "    <tr style=\"text-align: right;\">\n",
       "      <th></th>\n",
       "      <th>Invoice ID</th>\n",
       "      <th>Branch</th>\n",
       "      <th>City</th>\n",
       "      <th>Customer type</th>\n",
       "      <th>Gender</th>\n",
       "      <th>Product line</th>\n",
       "      <th>Unit price</th>\n",
       "      <th>Quantity</th>\n",
       "      <th>Tax 5%</th>\n",
       "      <th>Total</th>\n",
       "      <th>Date</th>\n",
       "      <th>Time</th>\n",
       "      <th>Payment</th>\n",
       "      <th>cogs</th>\n",
       "      <th>gross margin percentage</th>\n",
       "      <th>gross income</th>\n",
       "      <th>Rating</th>\n",
       "    </tr>\n",
       "  </thead>\n",
       "  <tbody>\n",
       "    <tr>\n",
       "      <th>996</th>\n",
       "      <td>303-96-2227</td>\n",
       "      <td>B</td>\n",
       "      <td>Mandalay</td>\n",
       "      <td>Normal</td>\n",
       "      <td>Female</td>\n",
       "      <td>Home and lifestyle</td>\n",
       "      <td>97.38</td>\n",
       "      <td>10</td>\n",
       "      <td>48.690</td>\n",
       "      <td>1022.490</td>\n",
       "      <td>3/2/2019</td>\n",
       "      <td>17:16</td>\n",
       "      <td>Ewallet</td>\n",
       "      <td>973.80</td>\n",
       "      <td>4.761905</td>\n",
       "      <td>48.690</td>\n",
       "      <td>4.4</td>\n",
       "    </tr>\n",
       "    <tr>\n",
       "      <th>997</th>\n",
       "      <td>727-02-1313</td>\n",
       "      <td>A</td>\n",
       "      <td>Yangon</td>\n",
       "      <td>Member</td>\n",
       "      <td>Male</td>\n",
       "      <td>Food and beverages</td>\n",
       "      <td>31.84</td>\n",
       "      <td>1</td>\n",
       "      <td>1.592</td>\n",
       "      <td>33.432</td>\n",
       "      <td>2/9/2019</td>\n",
       "      <td>13:22</td>\n",
       "      <td>Cash</td>\n",
       "      <td>31.84</td>\n",
       "      <td>4.761905</td>\n",
       "      <td>1.592</td>\n",
       "      <td>7.7</td>\n",
       "    </tr>\n",
       "    <tr>\n",
       "      <th>998</th>\n",
       "      <td>347-56-2442</td>\n",
       "      <td>A</td>\n",
       "      <td>Yangon</td>\n",
       "      <td>Normal</td>\n",
       "      <td>Male</td>\n",
       "      <td>Home and lifestyle</td>\n",
       "      <td>65.82</td>\n",
       "      <td>1</td>\n",
       "      <td>3.291</td>\n",
       "      <td>69.111</td>\n",
       "      <td>2/22/2019</td>\n",
       "      <td>15:33</td>\n",
       "      <td>Cash</td>\n",
       "      <td>65.82</td>\n",
       "      <td>4.761905</td>\n",
       "      <td>3.291</td>\n",
       "      <td>4.1</td>\n",
       "    </tr>\n",
       "    <tr>\n",
       "      <th>999</th>\n",
       "      <td>849-09-3807</td>\n",
       "      <td>A</td>\n",
       "      <td>Yangon</td>\n",
       "      <td>Member</td>\n",
       "      <td>Female</td>\n",
       "      <td>Fashion accessories</td>\n",
       "      <td>88.34</td>\n",
       "      <td>7</td>\n",
       "      <td>30.919</td>\n",
       "      <td>649.299</td>\n",
       "      <td>2/18/2019</td>\n",
       "      <td>13:28</td>\n",
       "      <td>Cash</td>\n",
       "      <td>618.38</td>\n",
       "      <td>4.761905</td>\n",
       "      <td>30.919</td>\n",
       "      <td>6.6</td>\n",
       "    </tr>\n",
       "  </tbody>\n",
       "</table>\n",
       "</div>"
      ],
      "text/plain": [
       "      Invoice ID Branch      City Customer type  Gender         Product line  \\\n",
       "996  303-96-2227      B  Mandalay        Normal  Female   Home and lifestyle   \n",
       "997  727-02-1313      A    Yangon        Member    Male   Food and beverages   \n",
       "998  347-56-2442      A    Yangon        Normal    Male   Home and lifestyle   \n",
       "999  849-09-3807      A    Yangon        Member  Female  Fashion accessories   \n",
       "\n",
       "     Unit price  Quantity  Tax 5%     Total       Date   Time  Payment  \\\n",
       "996       97.38        10  48.690  1022.490   3/2/2019  17:16  Ewallet   \n",
       "997       31.84         1   1.592    33.432   2/9/2019  13:22     Cash   \n",
       "998       65.82         1   3.291    69.111  2/22/2019  15:33     Cash   \n",
       "999       88.34         7  30.919   649.299  2/18/2019  13:28     Cash   \n",
       "\n",
       "       cogs  gross margin percentage  gross income  Rating  \n",
       "996  973.80                 4.761905        48.690     4.4  \n",
       "997   31.84                 4.761905         1.592     7.7  \n",
       "998   65.82                 4.761905         3.291     4.1  \n",
       "999  618.38                 4.761905        30.919     6.6  "
      ]
     },
     "execution_count": 16,
     "metadata": {},
     "output_type": "execute_result"
    }
   ],
   "source": [
    "#останні 4 записи\n",
    "df.tail(4)"
   ]
  },
  {
   "cell_type": "markdown",
   "metadata": {
    "ExecuteTime": {
     "end_time": "2022-11-01T16:50:46.961201Z",
     "start_time": "2022-11-01T16:50:46.955894Z"
    },
    "id": "3e4c4fb3"
   },
   "source": [
    "Очікуваний результат:"
   ]
  },
  {
   "cell_type": "markdown",
   "metadata": {
    "id": "f037ac2b"
   },
   "source": [
    "![](https://drive.google.com/uc?export=view&id=1F5XlzBOOTMsedpsYqz6NnXjIPTDe6jpx)"
   ]
  },
  {
   "cell_type": "markdown",
   "metadata": {
    "id": "167fuYhB_nCP"
   },
   "source": [
    "2. Виведіть рядки даних з індексами з 615 по 619 включно."
   ]
  },
  {
   "cell_type": "code",
   "execution_count": 20,
   "metadata": {
    "execution": {
     "iopub.execute_input": "2025-07-06T13:27:57.178537Z",
     "iopub.status.busy": "2025-07-06T13:27:57.170576Z",
     "iopub.status.idle": "2025-07-06T13:27:57.199354Z",
     "shell.execute_reply": "2025-07-06T13:27:57.196841Z",
     "shell.execute_reply.started": "2025-07-06T13:27:57.178537Z"
    },
    "id": "ytZryG8Z_1f_"
   },
   "outputs": [
    {
     "data": {
      "text/html": [
       "<div>\n",
       "<style scoped>\n",
       "    .dataframe tbody tr th:only-of-type {\n",
       "        vertical-align: middle;\n",
       "    }\n",
       "\n",
       "    .dataframe tbody tr th {\n",
       "        vertical-align: top;\n",
       "    }\n",
       "\n",
       "    .dataframe thead th {\n",
       "        text-align: right;\n",
       "    }\n",
       "</style>\n",
       "<table border=\"1\" class=\"dataframe\">\n",
       "  <thead>\n",
       "    <tr style=\"text-align: right;\">\n",
       "      <th></th>\n",
       "      <th>Invoice ID</th>\n",
       "      <th>Branch</th>\n",
       "      <th>City</th>\n",
       "      <th>Customer type</th>\n",
       "      <th>Gender</th>\n",
       "      <th>Product line</th>\n",
       "      <th>Unit price</th>\n",
       "      <th>Quantity</th>\n",
       "      <th>Tax 5%</th>\n",
       "      <th>Total</th>\n",
       "      <th>Date</th>\n",
       "      <th>Time</th>\n",
       "      <th>Payment</th>\n",
       "      <th>cogs</th>\n",
       "      <th>gross margin percentage</th>\n",
       "      <th>gross income</th>\n",
       "      <th>Rating</th>\n",
       "    </tr>\n",
       "  </thead>\n",
       "  <tbody>\n",
       "    <tr>\n",
       "      <th>615</th>\n",
       "      <td>509-29-3912</td>\n",
       "      <td>A</td>\n",
       "      <td>Yangon</td>\n",
       "      <td>Member</td>\n",
       "      <td>Female</td>\n",
       "      <td>Sports and travel</td>\n",
       "      <td>38.72</td>\n",
       "      <td>9</td>\n",
       "      <td>17.4240</td>\n",
       "      <td>365.9040</td>\n",
       "      <td>3/20/2019</td>\n",
       "      <td>12:24</td>\n",
       "      <td>Ewallet</td>\n",
       "      <td>348.48</td>\n",
       "      <td>4.761905</td>\n",
       "      <td>17.4240</td>\n",
       "      <td>4.2</td>\n",
       "    </tr>\n",
       "    <tr>\n",
       "      <th>616</th>\n",
       "      <td>327-40-9673</td>\n",
       "      <td>B</td>\n",
       "      <td>Mandalay</td>\n",
       "      <td>Member</td>\n",
       "      <td>Male</td>\n",
       "      <td>Sports and travel</td>\n",
       "      <td>72.60</td>\n",
       "      <td>6</td>\n",
       "      <td>21.7800</td>\n",
       "      <td>457.3800</td>\n",
       "      <td>1/13/2019</td>\n",
       "      <td>19:51</td>\n",
       "      <td>Cash</td>\n",
       "      <td>435.60</td>\n",
       "      <td>4.761905</td>\n",
       "      <td>21.7800</td>\n",
       "      <td>6.9</td>\n",
       "    </tr>\n",
       "    <tr>\n",
       "      <th>617</th>\n",
       "      <td>840-19-2096</td>\n",
       "      <td>C</td>\n",
       "      <td>Naypyitaw</td>\n",
       "      <td>Member</td>\n",
       "      <td>Male</td>\n",
       "      <td>Electronic accessories</td>\n",
       "      <td>87.91</td>\n",
       "      <td>5</td>\n",
       "      <td>21.9775</td>\n",
       "      <td>461.5275</td>\n",
       "      <td>3/14/2019</td>\n",
       "      <td>18:10</td>\n",
       "      <td>Ewallet</td>\n",
       "      <td>439.55</td>\n",
       "      <td>4.761905</td>\n",
       "      <td>21.9775</td>\n",
       "      <td>4.4</td>\n",
       "    </tr>\n",
       "    <tr>\n",
       "      <th>618</th>\n",
       "      <td>828-46-6863</td>\n",
       "      <td>A</td>\n",
       "      <td>Yangon</td>\n",
       "      <td>Member</td>\n",
       "      <td>Male</td>\n",
       "      <td>Food and beverages</td>\n",
       "      <td>98.53</td>\n",
       "      <td>6</td>\n",
       "      <td>29.5590</td>\n",
       "      <td>620.7390</td>\n",
       "      <td>1/23/2019</td>\n",
       "      <td>11:22</td>\n",
       "      <td>Credit card</td>\n",
       "      <td>591.18</td>\n",
       "      <td>4.761905</td>\n",
       "      <td>29.5590</td>\n",
       "      <td>4.0</td>\n",
       "    </tr>\n",
       "    <tr>\n",
       "      <th>619</th>\n",
       "      <td>641-96-3695</td>\n",
       "      <td>C</td>\n",
       "      <td>Naypyitaw</td>\n",
       "      <td>Member</td>\n",
       "      <td>Female</td>\n",
       "      <td>Fashion accessories</td>\n",
       "      <td>43.46</td>\n",
       "      <td>6</td>\n",
       "      <td>13.0380</td>\n",
       "      <td>273.7980</td>\n",
       "      <td>2/7/2019</td>\n",
       "      <td>17:55</td>\n",
       "      <td>Ewallet</td>\n",
       "      <td>260.76</td>\n",
       "      <td>4.761905</td>\n",
       "      <td>13.0380</td>\n",
       "      <td>8.5</td>\n",
       "    </tr>\n",
       "  </tbody>\n",
       "</table>\n",
       "</div>"
      ],
      "text/plain": [
       "      Invoice ID Branch       City Customer type  Gender  \\\n",
       "615  509-29-3912      A     Yangon        Member  Female   \n",
       "616  327-40-9673      B   Mandalay        Member    Male   \n",
       "617  840-19-2096      C  Naypyitaw        Member    Male   \n",
       "618  828-46-6863      A     Yangon        Member    Male   \n",
       "619  641-96-3695      C  Naypyitaw        Member  Female   \n",
       "\n",
       "               Product line  Unit price  Quantity   Tax 5%     Total  \\\n",
       "615       Sports and travel       38.72         9  17.4240  365.9040   \n",
       "616       Sports and travel       72.60         6  21.7800  457.3800   \n",
       "617  Electronic accessories       87.91         5  21.9775  461.5275   \n",
       "618      Food and beverages       98.53         6  29.5590  620.7390   \n",
       "619     Fashion accessories       43.46         6  13.0380  273.7980   \n",
       "\n",
       "          Date   Time      Payment    cogs  gross margin percentage  \\\n",
       "615  3/20/2019  12:24      Ewallet  348.48                 4.761905   \n",
       "616  1/13/2019  19:51         Cash  435.60                 4.761905   \n",
       "617  3/14/2019  18:10      Ewallet  439.55                 4.761905   \n",
       "618  1/23/2019  11:22  Credit card  591.18                 4.761905   \n",
       "619   2/7/2019  17:55      Ewallet  260.76                 4.761905   \n",
       "\n",
       "     gross income  Rating  \n",
       "615       17.4240     4.2  \n",
       "616       21.7800     6.9  \n",
       "617       21.9775     4.4  \n",
       "618       29.5590     4.0  \n",
       "619       13.0380     8.5  "
      ]
     },
     "execution_count": 20,
     "metadata": {},
     "output_type": "execute_result"
    }
   ],
   "source": [
    "df[615:620]"
   ]
  },
  {
   "cell_type": "markdown",
   "metadata": {
    "id": "uMLwIMBlhAcY"
   },
   "source": [
    "Очікуваний результат:"
   ]
  },
  {
   "cell_type": "markdown",
   "metadata": {
    "id": "yxrvqGnNhCsX"
   },
   "source": [
    "![](https://drive.google.com/uc?export=view&id=1Otufe_TXRmjZxWigzBiVBLCAVUfEReXM)"
   ]
  },
  {
   "cell_type": "markdown",
   "metadata": {
    "id": "2d54e0e4"
   },
   "source": [
    "3. Виведіть назви колонок у наборі даних разом з їхніми типами. Це можна зробити кількома способами, важливо аби в результаті були назви колонок і відповідні їм типи."
   ]
  },
  {
   "cell_type": "code",
   "execution_count": 23,
   "metadata": {
    "ExecuteTime": {
     "end_time": "2021-12-08T18:46:42.609601Z",
     "start_time": "2021-12-08T18:46:42.604424Z"
    },
    "execution": {
     "iopub.execute_input": "2025-07-06T13:29:20.313161Z",
     "iopub.status.busy": "2025-07-06T13:29:20.313161Z",
     "iopub.status.idle": "2025-07-06T13:29:20.319843Z",
     "shell.execute_reply": "2025-07-06T13:29:20.318665Z",
     "shell.execute_reply.started": "2025-07-06T13:29:20.313161Z"
    },
    "id": "513f5a99"
   },
   "outputs": [
    {
     "data": {
      "text/plain": [
       "Invoice ID                  object\n",
       "Branch                      object\n",
       "City                        object\n",
       "Customer type               object\n",
       "Gender                      object\n",
       "Product line                object\n",
       "Unit price                 float64\n",
       "Quantity                     int64\n",
       "Tax 5%                     float64\n",
       "Total                      float64\n",
       "Date                        object\n",
       "Time                        object\n",
       "Payment                     object\n",
       "cogs                       float64\n",
       "gross margin percentage    float64\n",
       "gross income               float64\n",
       "Rating                     float64\n",
       "dtype: object"
      ]
     },
     "execution_count": 23,
     "metadata": {},
     "output_type": "execute_result"
    }
   ],
   "source": [
    "df.dtypes"
   ]
  },
  {
   "cell_type": "markdown",
   "metadata": {
    "ExecuteTime": {
     "end_time": "2022-11-01T16:50:46.961201Z",
     "start_time": "2022-11-01T16:50:46.955894Z"
    },
    "id": "3c380f93"
   },
   "source": [
    "Очікуваний результат (один з можливих форматів):"
   ]
  },
  {
   "cell_type": "markdown",
   "metadata": {
    "id": "28f7beff"
   },
   "source": [
    "![](https://drive.google.com/uc?export=view&id=1ASh6-S-_f3X9fTQAPIvnHMFZamTBjNkL)"
   ]
  },
  {
   "cell_type": "markdown",
   "metadata": {
    "id": "aX2LEmuG8xyA"
   },
   "source": [
    "4. Користуючись методом `DataFrame.describe()` виявіть 1, 25, 50, 75 і 99 персентилі колонки `gross income`. Знайдіть, яке значення відповідає 75отму персентилю цієї колонки і що це означає? Як би Ви його пояснили простими словами колегам? Відповідь напишіть текстом в окремій клітинці типу Markdown."
   ]
  },
  {
   "cell_type": "code",
   "execution_count": 27,
   "metadata": {
    "execution": {
     "iopub.execute_input": "2025-07-06T13:34:08.315178Z",
     "iopub.status.busy": "2025-07-06T13:34:08.315178Z",
     "iopub.status.idle": "2025-07-06T13:34:08.322761Z",
     "shell.execute_reply": "2025-07-06T13:34:08.322761Z",
     "shell.execute_reply.started": "2025-07-06T13:34:08.315178Z"
    },
    "id": "Paso6rPV894s"
   },
   "outputs": [
    {
     "name": "stdout",
     "output_type": "stream",
     "text": [
      "count    1000.000000\n",
      "mean       15.379369\n",
      "std        11.708825\n",
      "min         0.508500\n",
      "1%          0.913735\n",
      "25%         5.924875\n",
      "50%        12.088000\n",
      "75%        22.445250\n",
      "99%        45.250750\n",
      "max        49.650000\n",
      "Name: gross income, dtype: float64\n"
     ]
    }
   ],
   "source": [
    "percentiles = df['gross income'].describe(percentiles = [0.01, 0.25, 0.5, 0.75, 0.99])\n",
    "print(percentiles)"
   ]
  },
  {
   "cell_type": "markdown",
   "metadata": {},
   "source": [
    "Значення 75-го персентиля є більшим за середнє й меншим за 25% значень, тобто цей показник межує між середніми й найбільшими показниками. Таким чином, якщо прибуток >22.45— здійснені транзакції були в топ 25 серед усіх показників транзакцій."
   ]
  },
  {
   "cell_type": "markdown",
   "metadata": {
    "id": "HX-oXoo4jCuE"
   },
   "source": [
    "Очікуваний результат:"
   ]
  },
  {
   "cell_type": "markdown",
   "metadata": {
    "id": "Qi9Qi8LhjFRw"
   },
   "source": [
    "![](https://drive.google.com/uc?export=view&id=1bDa1YFUWDsPm78Lnpy2geQND8M1HEQiT)"
   ]
  },
  {
   "cell_type": "markdown",
   "metadata": {
    "id": "X2FWqJYr9Eul"
   },
   "source": [
    "5. Виведіть кількість інвойсів за кожним унікальним містом в наборі даних.\n",
    "\n",
    "  Підказка: інвойс - це один рядок в цьому наборі даних, ми можемо цим скористатись аби швидко отримати відповідь."
   ]
  },
  {
   "cell_type": "code",
   "execution_count": 30,
   "metadata": {
    "execution": {
     "iopub.execute_input": "2025-07-06T13:43:46.105707Z",
     "iopub.status.busy": "2025-07-06T13:43:46.105707Z",
     "iopub.status.idle": "2025-07-06T13:43:46.111212Z",
     "shell.execute_reply": "2025-07-06T13:43:46.111212Z",
     "shell.execute_reply.started": "2025-07-06T13:43:46.105707Z"
    },
    "id": "StVtKfWY-13y"
   },
   "outputs": [
    {
     "data": {
      "text/plain": [
       "Index(['Invoice ID', 'Branch', 'City', 'Customer type', 'Gender',\n",
       "       'Product line', 'Unit price', 'Quantity', 'Tax 5%', 'Total', 'Date',\n",
       "       'Time', 'Payment', 'cogs', 'gross margin percentage', 'gross income',\n",
       "       'Rating'],\n",
       "      dtype='object')"
      ]
     },
     "execution_count": 30,
     "metadata": {},
     "output_type": "execute_result"
    }
   ],
   "source": [
    "df.columns"
   ]
  },
  {
   "cell_type": "code",
   "execution_count": 32,
   "metadata": {
    "execution": {
     "iopub.execute_input": "2025-07-06T13:48:29.051250Z",
     "iopub.status.busy": "2025-07-06T13:48:29.050253Z",
     "iopub.status.idle": "2025-07-06T13:48:29.057720Z",
     "shell.execute_reply": "2025-07-06T13:48:29.056700Z",
     "shell.execute_reply.started": "2025-07-06T13:48:29.051250Z"
    }
   },
   "outputs": [
    {
     "data": {
      "text/plain": [
       "City\n",
       "Yangon       340\n",
       "Mandalay     332\n",
       "Naypyitaw    328\n",
       "Name: count, dtype: int64"
      ]
     },
     "execution_count": 32,
     "metadata": {},
     "output_type": "execute_result"
    }
   ],
   "source": [
    "invoice_count = df['City'].value_counts()\n",
    "invoice_count"
   ]
  },
  {
   "cell_type": "markdown",
   "metadata": {
    "id": "MxdJBddujhRx"
   },
   "source": [
    "Очікуваний результат:"
   ]
  },
  {
   "cell_type": "markdown",
   "metadata": {
    "id": "DGmeHKZYjoTp"
   },
   "source": [
    "![](https://drive.google.com/uc?export=view&id=1G8c6M875NOW7oU3OtZegTOnyD2y8lhAV)"
   ]
  },
  {
   "cell_type": "markdown",
   "metadata": {
    "id": "-k-yG_rR-3Og"
   },
   "source": [
    "6. Виведіть, який відсоток інвойсів припадає на кожне унікальне місто."
   ]
  },
  {
   "cell_type": "code",
   "execution_count": 33,
   "metadata": {
    "execution": {
     "iopub.execute_input": "2025-07-06T13:50:43.933987Z",
     "iopub.status.busy": "2025-07-06T13:50:43.933987Z",
     "iopub.status.idle": "2025-07-06T13:50:43.949274Z",
     "shell.execute_reply": "2025-07-06T13:50:43.948274Z",
     "shell.execute_reply.started": "2025-07-06T13:50:43.933987Z"
    },
    "id": "_PBLxP7B_LdF"
   },
   "outputs": [
    {
     "data": {
      "text/plain": [
       "City\n",
       "Yangon       0.340\n",
       "Mandalay     0.332\n",
       "Naypyitaw    0.328\n",
       "Name: count, dtype: float64"
      ]
     },
     "execution_count": 33,
     "metadata": {},
     "output_type": "execute_result"
    }
   ],
   "source": [
    "invoice_count/invoice_count.sum()"
   ]
  },
  {
   "cell_type": "markdown",
   "metadata": {
    "id": "hk_BB1Uxj_G5"
   },
   "source": [
    "Очікуваний результат:"
   ]
  },
  {
   "cell_type": "markdown",
   "metadata": {
    "id": "vAQ3z60ukBVG"
   },
   "source": [
    "![](https://drive.google.com/uc?export=view&id=1yZZpWhL2y8DX9rSRioYCRh1VbJgcf3fY)"
   ]
  },
  {
   "cell_type": "markdown",
   "metadata": {
    "id": "RUkVnzp_B5uZ"
   },
   "source": [
    "7.1. Використовуючи фільтрацію даних, знайдіть середнє значення `gross income` для міст `Yangon` та `Mandalay`. В якому місті воно більше?\n",
    "\n",
    "7.2 Сформулюйте 3 гіпотези, чому в одному місті gross income вище, як можна дізнатись чи правдива ця гіпотеза з використанням даних (наявних і додаткових), та як висновки з цих гіпотез можна використати для прийняття рішень як підвищити прибуток в мережі супермаркетів. Відповідь напишіть текстом в окремій клітинці типу Markdown.\n",
    "\n",
    "Це завдання - на продуктове мислення. Якщо не знаєте, які гіпотези сформулювати - напишіть ті, які здаються вам зовсім примітивними. Важливо навчитись висловлювати свої гіпотези щодо даних, і з часом та досвідом вони будуть ставати щоразу глибше і точніше. Весь аналіз даних будується на тому, що ми перевіряємо певні гіпотези та робимо висновки і рекоемндації на основі своїх досліджень."
   ]
  },
  {
   "cell_type": "code",
   "execution_count": 46,
   "metadata": {
    "execution": {
     "iopub.execute_input": "2025-07-06T14:02:29.860091Z",
     "iopub.status.busy": "2025-07-06T14:02:29.859093Z",
     "iopub.status.idle": "2025-07-06T14:02:29.869272Z",
     "shell.execute_reply": "2025-07-06T14:02:29.867272Z",
     "shell.execute_reply.started": "2025-07-06T14:02:29.860091Z"
    },
    "id": "8RwoGA7l_OhV"
   },
   "outputs": [
    {
     "name": "stdout",
     "output_type": "stream",
     "text": [
      "14.874001470588235 15.232024096385542\n"
     ]
    }
   ],
   "source": [
    "Yangon_mean = df[df.City == 'Yangon']['gross income'].mean()\n",
    "Mandalay_mean = df[df.City == 'Mandalay']['gross income'].mean()\n",
    "print (Yangon_mean, Mandalay_mean)"
   ]
  },
  {
   "cell_type": "markdown",
   "metadata": {},
   "source": [
    "Середнє значення gross income більше в Mandalay. Населення Yangon перевищує населення Mandalay у 5 разів, крім цього воно є більш етнічно різноманітним. Очікуваним результатом був би протилежний до отриманого, якщо враховувати таку значну різницю в кількості населення. Можливо це зумовлено політичними подіями, які значніше відобразились саме на Yangon. Можливо, продукція менш орієнтована на мешканців великих індустріалізованих міст (Yangon є значно більш індустріалізованим у порівнянні з Mandalay і менш традиційним). Можливо середнє значення gross income у Yangon перетягується ближче до менших значень через велику кількість замовлень на незначні суми, у той час, коли великі замовлення становлять меншість.\n",
    "\n",
    "Останнє легко було б перевірити, проглянувши всі значення по обраних містах, і подивитись, чи немає аутлаєрів, чи є якась тенденція на часті замовлення з невеликою ціною і тд.\n",
    "Перші дві гіпотези можна перевірити з джерел, які б пояснили економічні й політичні особливості обох регіонів. Крім, у нагоді можуть стати світові й локальні новинні ресурси."
   ]
  },
  {
   "cell_type": "markdown",
   "metadata": {
    "id": "iXq3ODp1khy1"
   },
   "source": [
    "Очікуваний результат:"
   ]
  },
  {
   "cell_type": "markdown",
   "metadata": {
    "id": "4lcu3YwqkkF8"
   },
   "source": [
    "![](https://drive.google.com/uc?export=view&id=1JdXUmK46WcoXUJYP7NS2SJlr2XjBbpQ8)"
   ]
  },
  {
   "cell_type": "markdown",
   "metadata": {
    "id": "wNMcnnPQOrwb"
   },
   "source": [
    "8. Для продовження дослідження різниці у прибутках в магазинах давайте зʼясуємо, чи відрізняється маржа ('gross margin percentage') для різних інвойсів в магазині? Перевірте це програмно на даних виходячи з того функціоналу, який ми вже пройшли у лекціях.\n",
    "\n",
    "Дайте на основі отриманого результату відповідь: \"У всіх всіх інвойсах однакова маржа\" або \"Маржа відрізняється для різних інвойсів\"."
   ]
  },
  {
   "cell_type": "code",
   "execution_count": 51,
   "metadata": {
    "execution": {
     "iopub.execute_input": "2025-07-06T14:28:27.152281Z",
     "iopub.status.busy": "2025-07-06T14:28:27.152281Z",
     "iopub.status.idle": "2025-07-06T14:28:27.166720Z",
     "shell.execute_reply": "2025-07-06T14:28:27.165705Z",
     "shell.execute_reply.started": "2025-07-06T14:28:27.152281Z"
    },
    "id": "mTWYzSVaPNsb"
   },
   "outputs": [
    {
     "name": "stdout",
     "output_type": "stream",
     "text": [
      "У всіх всіх інвойсах однакова маржа\n"
     ]
    }
   ],
   "source": [
    "unique_margins = df['gross margin percentage'].nunique()\n",
    "if unique_margins == 1:\n",
    "    print(\"У всіх всіх інвойсах однакова маржа\")\n",
    "else:\n",
    "    \"Маржа відрізняється для різних інвойсів\""
   ]
  },
  {
   "cell_type": "markdown",
   "metadata": {
    "id": "YXlTdvOtnYPr"
   },
   "source": [
    "Очікуваний результат: відповідь щодо маржі в усіх інвойсах на основі отриманих результатів"
   ]
  },
  {
   "cell_type": "markdown",
   "metadata": {
    "id": "NF3oAHQOOSN5"
   },
   "source": [
    "9. Врахуовуючи висновок в попередньому завданні, дослідимо як продаються в цих містах різні категорії товарів. Виведіть відсотковий розпоіділ кількості інвойсів по категоріям товарів `Product line` в містах `Yangon` та `Mandalay`."
   ]
  },
  {
   "cell_type": "code",
   "execution_count": 69,
   "metadata": {
    "execution": {
     "iopub.execute_input": "2025-07-06T14:37:21.674078Z",
     "iopub.status.busy": "2025-07-06T14:37:21.674078Z",
     "iopub.status.idle": "2025-07-06T14:37:21.683071Z",
     "shell.execute_reply": "2025-07-06T14:37:21.682070Z",
     "shell.execute_reply.started": "2025-07-06T14:37:21.674078Z"
    },
    "id": "nUgdZmbzQDo4"
   },
   "outputs": [
    {
     "name": "stdout",
     "output_type": "stream",
     "text": [
      "Product line\n",
      "Home and lifestyle        0.191176\n",
      "Electronic accessories    0.176471\n",
      "Sports and travel         0.173529\n",
      "Food and beverages        0.170588\n",
      "Fashion accessories       0.150000\n",
      "Health and beauty         0.138235\n",
      "Name: count, dtype: float64\n",
      "\n",
      "\n",
      "Product line\n",
      "Fashion accessories       0.186747\n",
      "Sports and travel         0.186747\n",
      "Electronic accessories    0.165663\n",
      "Health and beauty         0.159639\n",
      "Food and beverages        0.150602\n",
      "Home and lifestyle        0.150602\n",
      "Name: count, dtype: float64\n"
     ]
    }
   ],
   "source": [
    "Yangon_sales = df[df.City == 'Yangon']['Product line'].value_counts()\n",
    "Mandalay_sales = df[df.City == 'Mandalay']['Product line'].value_counts()\n",
    "print (Yangon_sales/Yangon_sales.sum()) \n",
    "print(\"\\n\")\n",
    "print (Mandalay_sales/Mandalay_sales.sum())"
   ]
  },
  {
   "cell_type": "markdown",
   "metadata": {
    "id": "vFhFKSl7meGY"
   },
   "source": [
    "Очікуваний результат для кожного з міст:"
   ]
  },
  {
   "cell_type": "markdown",
   "metadata": {
    "id": "pzpOAqu1miuo"
   },
   "source": [
    "![](https://drive.google.com/uc?export=view&id=1IbG58YK5KVqC-wCnllF1btgEgfWTbi_O)"
   ]
  },
  {
   "cell_type": "markdown",
   "metadata": {
    "id": "imwzMiV4mrXn"
   },
   "source": [
    "![](https://drive.google.com/uc?export=view&id=1aKOkLmlMq1sOh4GbwyaQyjfhNJzdU4Yh)"
   ]
  }
 ],
 "metadata": {
  "colab": {
   "provenance": []
  },
  "kernelspec": {
   "display_name": "Python [conda env:base] *",
   "language": "python",
   "name": "conda-base-py"
  },
  "language_info": {
   "codemirror_mode": {
    "name": "ipython",
    "version": 3
   },
   "file_extension": ".py",
   "mimetype": "text/x-python",
   "name": "python",
   "nbconvert_exporter": "python",
   "pygments_lexer": "ipython3",
   "version": "3.11.7"
  }
 },
 "nbformat": 4,
 "nbformat_minor": 4
}
