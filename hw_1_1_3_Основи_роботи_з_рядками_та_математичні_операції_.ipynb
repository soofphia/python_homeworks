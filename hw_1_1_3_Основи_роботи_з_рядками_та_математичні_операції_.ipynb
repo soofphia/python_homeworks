{
 "cells": [
  {
   "cell_type": "markdown",
   "metadata": {
    "id": "9ngpqNFm8w1a"
   },
   "source": [
    "# Домашнє завдання до теми \"Основи роботи з рядками та математичні операції\""
   ]
  },
  {
   "cell_type": "markdown",
   "metadata": {
    "id": "DEkQSeSyTum-"
   },
   "source": [
    "1. Створіть змінні `a`, `b`, `c` та `d`, задайте їм значення відповідно 101, 210, 111, 402, та обчисліть з допомогою Python наступний вираз:  $$ \\frac{(a+b) * c}{d} $$\n",
    "\n",
    "**Важливо**: тут ми маємо обчислити значення саме з використанням змінних, а не просто чисел, як би ми робили у калькуряторі. Змінні потрібні аби за бажання ми могли змінити їх значення та не переписувати код обчислення виразу, бо він буде працювати для різних значень змінних."
   ]
  },
  {
   "cell_type": "code",
   "execution_count": 1,
   "metadata": {
    "execution": {
     "iopub.execute_input": "2025-06-29T09:22:44.364889Z",
     "iopub.status.busy": "2025-06-29T09:22:44.363889Z",
     "iopub.status.idle": "2025-06-29T09:22:44.370410Z",
     "shell.execute_reply": "2025-06-29T09:22:44.370410Z",
     "shell.execute_reply.started": "2025-06-29T09:22:44.364889Z"
    },
    "id": "u1ICQq5L3eKH"
   },
   "outputs": [
    {
     "data": {
      "text/plain": [
       "85.8731343283582"
      ]
     },
     "execution_count": 1,
     "metadata": {},
     "output_type": "execute_result"
    }
   ],
   "source": [
    "a = 101\n",
    "b = 210\n",
    "c = 111\n",
    "d = 402\n",
    "((a + b)*c)/d"
   ]
  },
  {
   "cell_type": "markdown",
   "metadata": {
    "id": "FnBVPt7G3bcR"
   },
   "source": [
    "Очікувана відповідь: 85.8731343283582"
   ]
  },
  {
   "cell_type": "markdown",
   "metadata": {
    "id": "HI3eEYZRT4Cn"
   },
   "source": [
    "2. Якою буде остача від ділення числа 11283 на 89? Обчисліть з допомогою Python."
   ]
  },
  {
   "cell_type": "code",
   "execution_count": 3,
   "metadata": {
    "execution": {
     "iopub.execute_input": "2025-06-29T09:24:28.003166Z",
     "iopub.status.busy": "2025-06-29T09:24:28.003166Z",
     "iopub.status.idle": "2025-06-29T09:24:28.023081Z",
     "shell.execute_reply": "2025-06-29T09:24:28.022079Z",
     "shell.execute_reply.started": "2025-06-29T09:24:28.003166Z"
    },
    "id": "ejZc3ng_TpgY"
   },
   "outputs": [
    {
     "name": "stdout",
     "output_type": "stream",
     "text": [
      "69\n"
     ]
    }
   ],
   "source": [
    "print(11283 % 89)"
   ]
  },
  {
   "cell_type": "markdown",
   "metadata": {
    "id": "RO02CqdqT9oG"
   },
   "source": [
    "3. Скільки цілих разів поміститься число 89 в 11283? (Або що те саме: який буде результат цілочисельного ділення 11283 на 89?)"
   ]
  },
  {
   "cell_type": "code",
   "execution_count": 4,
   "metadata": {
    "execution": {
     "iopub.execute_input": "2025-06-29T09:24:50.345164Z",
     "iopub.status.busy": "2025-06-29T09:24:50.345164Z",
     "iopub.status.idle": "2025-06-29T09:24:50.349921Z",
     "shell.execute_reply": "2025-06-29T09:24:50.349921Z",
     "shell.execute_reply.started": "2025-06-29T09:24:50.345164Z"
    },
    "id": "KEUb9lO5T_PI"
   },
   "outputs": [
    {
     "data": {
      "text/plain": [
       "126"
      ]
     },
     "execution_count": 4,
     "metadata": {},
     "output_type": "execute_result"
    }
   ],
   "source": [
    "11283//89"
   ]
  },
  {
   "cell_type": "markdown",
   "metadata": {
    "id": "5fnIPumiT_rt"
   },
   "source": [
    "4. Запишіть у змінну `name` ваше імʼя."
   ]
  },
  {
   "cell_type": "code",
   "execution_count": 8,
   "metadata": {
    "execution": {
     "iopub.execute_input": "2025-06-29T09:27:39.672757Z",
     "iopub.status.busy": "2025-06-29T09:27:39.671758Z",
     "iopub.status.idle": "2025-06-29T09:27:39.676412Z",
     "shell.execute_reply": "2025-06-29T09:27:39.675576Z",
     "shell.execute_reply.started": "2025-06-29T09:27:39.672757Z"
    },
    "id": "xP7Mbq45UFlV"
   },
   "outputs": [],
   "source": [
    "name = 'Sofiia'"
   ]
  },
  {
   "cell_type": "markdown",
   "metadata": {
    "id": "fR9TqY79UNDL"
   },
   "source": [
    "5. Запишіть у змінну `surname` ваше прізвище."
   ]
  },
  {
   "cell_type": "code",
   "execution_count": 14,
   "metadata": {
    "execution": {
     "iopub.execute_input": "2025-06-29T09:29:59.016537Z",
     "iopub.status.busy": "2025-06-29T09:29:59.016537Z",
     "iopub.status.idle": "2025-06-29T09:29:59.021358Z",
     "shell.execute_reply": "2025-06-29T09:29:59.021358Z",
     "shell.execute_reply.started": "2025-06-29T09:29:59.016537Z"
    },
    "id": "0qHjyMyvUOM1"
   },
   "outputs": [],
   "source": [
    "surname = 'Mizerniuk'"
   ]
  },
  {
   "cell_type": "markdown",
   "metadata": {
    "id": "zqKncQLwUOxh"
   },
   "source": [
    "6. Сконкатенуйте імʼя та прізвище в одну фразу через пробіл. Запишіть результат у нову змінну `name_surname` та виведіть результат на екран.  "
   ]
  },
  {
   "cell_type": "code",
   "execution_count": 16,
   "metadata": {
    "execution": {
     "iopub.execute_input": "2025-06-29T09:30:29.441592Z",
     "iopub.status.busy": "2025-06-29T09:30:29.441592Z",
     "iopub.status.idle": "2025-06-29T09:30:29.454401Z",
     "shell.execute_reply": "2025-06-29T09:30:29.454401Z",
     "shell.execute_reply.started": "2025-06-29T09:30:29.441592Z"
    },
    "id": "8E-blvN-UTPg"
   },
   "outputs": [
    {
     "data": {
      "text/plain": [
       "'Sofiia Mizerniuk'"
      ]
     },
     "execution_count": 16,
     "metadata": {},
     "output_type": "execute_result"
    }
   ],
   "source": [
    "name_surname = name + ' ' + surname\n",
    "name_surname"
   ]
  },
  {
   "cell_type": "markdown",
   "metadata": {
    "id": "_Unl7EXlUgYn"
   },
   "source": [
    "Очікувана відповідь (тільки з вашими даними): 'Hanna Pylieva'"
   ]
  },
  {
   "cell_type": "markdown",
   "metadata": {
    "id": "z-3FI0IrUT0U"
   },
   "source": [
    "7. Зробіть усі літери змінної `name_surname` заглавними використовуючи метод рядків в Python:"
   ]
  },
  {
   "cell_type": "code",
   "execution_count": 17,
   "metadata": {
    "execution": {
     "iopub.execute_input": "2025-06-29T09:32:29.645745Z",
     "iopub.status.busy": "2025-06-29T09:32:29.645745Z",
     "iopub.status.idle": "2025-06-29T09:32:29.663630Z",
     "shell.execute_reply": "2025-06-29T09:32:29.663630Z",
     "shell.execute_reply.started": "2025-06-29T09:32:29.645745Z"
    },
    "id": "9ahIwyT5UblY"
   },
   "outputs": [
    {
     "data": {
      "text/plain": [
       "'SOFIIA MIZERNIUK'"
      ]
     },
     "execution_count": 17,
     "metadata": {},
     "output_type": "execute_result"
    }
   ],
   "source": [
    "name_surname.upper()"
   ]
  },
  {
   "cell_type": "markdown",
   "metadata": {
    "id": "6PDcqfmdUcLo"
   },
   "source": [
    "Очікувана відповідь (тільки з вашими даними): 'HANNA PYLIEVA'"
   ]
  },
  {
   "cell_type": "markdown",
   "metadata": {
    "id": "qNl8KxeXUtnL"
   },
   "source": [
    "8. Виведіть третю літеру вашого `name_surname`. Тут уважно, треба саме третя літера. Згадайте, з якого значення починається індексування значень в Python."
   ]
  },
  {
   "cell_type": "code",
   "execution_count": 18,
   "metadata": {
    "execution": {
     "iopub.execute_input": "2025-06-29T09:35:41.506359Z",
     "iopub.status.busy": "2025-06-29T09:35:41.506359Z",
     "iopub.status.idle": "2025-06-29T09:35:41.525452Z",
     "shell.execute_reply": "2025-06-29T09:35:41.525452Z",
     "shell.execute_reply.started": "2025-06-29T09:35:41.506359Z"
    },
    "id": "Tp7stqAhUvJz"
   },
   "outputs": [
    {
     "name": "stdout",
     "output_type": "stream",
     "text": [
      "f\n"
     ]
    }
   ],
   "source": [
    "print(name_surname[2])"
   ]
  },
  {
   "cell_type": "markdown",
   "metadata": {
    "id": "GYWHqb3UUvqk"
   },
   "source": [
    "Очікувана відповідь (тільки з вашими даними): 'n'"
   ]
  },
  {
   "cell_type": "markdown",
   "metadata": {
    "id": "1f3cc1a7",
    "pycharm": {
     "name": "#%% md\n"
    }
   },
   "source": [
    "9. Виведіть першу та останню літеру вашого прізвища."
   ]
  },
  {
   "cell_type": "code",
   "execution_count": 19,
   "metadata": {
    "execution": {
     "iopub.execute_input": "2025-06-29T09:37:00.157964Z",
     "iopub.status.busy": "2025-06-29T09:37:00.157964Z",
     "iopub.status.idle": "2025-06-29T09:37:00.163973Z",
     "shell.execute_reply": "2025-06-29T09:37:00.162970Z",
     "shell.execute_reply.started": "2025-06-29T09:37:00.157964Z"
    },
    "id": "s1ZgN3xuUyB8"
   },
   "outputs": [
    {
     "name": "stdout",
     "output_type": "stream",
     "text": [
      "M k\n"
     ]
    }
   ],
   "source": [
    "print(surname[0], surname[8])"
   ]
  },
  {
   "cell_type": "markdown",
   "metadata": {
    "id": "KjlFjjhHVAt2"
   },
   "source": [
    "Очікувана відповідь (тільки з вашими даними): ('P', 'a')"
   ]
  },
  {
   "cell_type": "markdown",
   "metadata": {
    "id": "UYLoho3DVMt2"
   },
   "source": [
    "10. Виведіть довжину вашого прізвища."
   ]
  },
  {
   "cell_type": "code",
   "execution_count": 24,
   "metadata": {
    "execution": {
     "iopub.execute_input": "2025-06-29T09:37:27.864980Z",
     "iopub.status.busy": "2025-06-29T09:37:27.864980Z",
     "iopub.status.idle": "2025-06-29T09:37:27.884306Z",
     "shell.execute_reply": "2025-06-29T09:37:27.883383Z",
     "shell.execute_reply.started": "2025-06-29T09:37:27.864980Z"
    },
    "id": "0TPJBh0LVA8q"
   },
   "outputs": [
    {
     "data": {
      "text/plain": [
       "9"
      ]
     },
     "execution_count": 24,
     "metadata": {},
     "output_type": "execute_result"
    }
   ],
   "source": [
    "len(surname)"
   ]
  },
  {
   "cell_type": "markdown",
   "metadata": {
    "id": "9FaxqvVgVRYW"
   },
   "source": [
    "Очікувана відповідь (тільки з вашими даними): 7\n"
   ]
  },
  {
   "cell_type": "markdown",
   "metadata": {
    "id": "JN2wxSlGVVAj"
   },
   "source": [
    "11. Виведіть кількість літер `a` у столиці Мадагаскару `Antananarivo`. Важливо врахувати всі літери, як великі, так і маленькі."
   ]
  },
  {
   "cell_type": "code",
   "execution_count": 28,
   "metadata": {
    "execution": {
     "iopub.execute_input": "2025-06-29T09:47:51.147884Z",
     "iopub.status.busy": "2025-06-29T09:47:51.147884Z",
     "iopub.status.idle": "2025-06-29T09:47:51.153016Z",
     "shell.execute_reply": "2025-06-29T09:47:51.152017Z",
     "shell.execute_reply.started": "2025-06-29T09:47:51.147884Z"
    },
    "id": "LCeHHz9bVUgL"
   },
   "outputs": [
    {
     "name": "stdout",
     "output_type": "stream",
     "text": [
      "4\n"
     ]
    }
   ],
   "source": [
    "capital = 'Antananarivo'\n",
    "count_a = capital.lower().count('a')\n",
    "print (count_a)"
   ]
  },
  {
   "cell_type": "markdown",
   "metadata": {
    "id": "Ux4SQiuSVo92"
   },
   "source": [
    "Очікувана відповідь: 4"
   ]
  },
  {
   "cell_type": "markdown",
   "metadata": {
    "id": "mwEs0xnmVtes"
   },
   "source": [
    "12. Створіть рядок `my_string` зі значенням: \"The quick brown fox jumps over the lazy dog!!!\".   \n",
    "Перевірте, чи починається рядок `my_string` з \"The\" і чи закінчується він \"dog!\". Виведіть результати на екран."
   ]
  },
  {
   "cell_type": "code",
   "execution_count": 31,
   "metadata": {
    "execution": {
     "iopub.execute_input": "2025-06-29T09:54:05.747879Z",
     "iopub.status.busy": "2025-06-29T09:54:05.747879Z",
     "iopub.status.idle": "2025-06-29T09:54:05.752558Z",
     "shell.execute_reply": "2025-06-29T09:54:05.752558Z",
     "shell.execute_reply.started": "2025-06-29T09:54:05.747879Z"
    },
    "id": "VlXDNpXcVs59"
   },
   "outputs": [
    {
     "name": "stdout",
     "output_type": "stream",
     "text": [
      "True False\n"
     ]
    }
   ],
   "source": [
    "my_string = 'The quick brown fox jumps over the lazy dog!!!'\n",
    "starts_with = my_string.startswith('The')\n",
    "ends_with = my_string.endswith('dog!')\n",
    "print (starts_with, ends_with)"
   ]
  },
  {
   "cell_type": "markdown",
   "metadata": {
    "id": "Yc-UwtqvV_h0"
   },
   "source": [
    "13. Розділіть рядок `my_string` на список окремих слів, а потім з'єднайте всі слова через нижнє підкреслювання. Виведіть результат на екран."
   ]
  },
  {
   "cell_type": "code",
   "execution_count": 36,
   "metadata": {
    "execution": {
     "iopub.execute_input": "2025-06-29T10:06:57.758619Z",
     "iopub.status.busy": "2025-06-29T10:06:57.758619Z",
     "iopub.status.idle": "2025-06-29T10:06:57.766257Z",
     "shell.execute_reply": "2025-06-29T10:06:57.765226Z",
     "shell.execute_reply.started": "2025-06-29T10:06:57.758619Z"
    },
    "id": "m5I48Ii-WDSK"
   },
   "outputs": [
    {
     "data": {
      "text/plain": [
       "'The_quick_brown_fox_jumps_over_the_lazy_dog!!!'"
      ]
     },
     "execution_count": 36,
     "metadata": {},
     "output_type": "execute_result"
    }
   ],
   "source": [
    "new_my_string = my_string.split(' ')\n",
    "result_string = '_'.join(new_my_string)\n",
    "result_string"
   ]
  },
  {
   "cell_type": "markdown",
   "metadata": {
    "id": "UqvD1_jIXRhx"
   },
   "source": [
    "Очікуваний результат: `The_quick_brown_fox_jumps_over_the_lazy_dog!!!`"
   ]
  }
 ],
 "metadata": {
  "colab": {
   "provenance": []
  },
  "kernelspec": {
   "display_name": "Python [conda env:base] *",
   "language": "python",
   "name": "conda-base-py"
  },
  "language_info": {
   "codemirror_mode": {
    "name": "ipython",
    "version": 3
   },
   "file_extension": ".py",
   "mimetype": "text/x-python",
   "name": "python",
   "nbconvert_exporter": "python",
   "pygments_lexer": "ipython3",
   "version": "3.11.7"
  }
 },
 "nbformat": 4,
 "nbformat_minor": 4
}
