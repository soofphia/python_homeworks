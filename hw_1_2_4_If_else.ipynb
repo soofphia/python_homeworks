{
 "cells": [
  {
   "cell_type": "markdown",
   "metadata": {
    "id": "ZrhGiOYxAAbb"
   },
   "source": [
    "#Домашнє завдання до теми \"Конструкція if...else\""
   ]
  },
  {
   "cell_type": "markdown",
   "metadata": {
    "id": "mpXlwoNP-cWT"
   },
   "source": [
    "1. **Перевірка температури:**\n",
    "   - Завдання:\n",
    "     - Дано заздалегідь визначену змінну температури `temperature`. Перевірте її значення.\n",
    "     - Якщо температура вище 25 градусів Цельсія, виведіть \"Це теплий день.\"\n",
    "     - Якщо температура знаходиться в межах від 15 до 25 градусів Цельсія (включно), виведіть \"Це приємний день.\"\n",
    "     - В іншому випадку виведіть \"Це холодний день.\""
   ]
  },
  {
   "cell_type": "code",
   "execution_count": 1,
   "metadata": {
    "execution": {
     "iopub.execute_input": "2025-06-29T20:14:59.971633Z",
     "iopub.status.busy": "2025-06-29T20:14:59.971633Z",
     "iopub.status.idle": "2025-06-29T20:14:59.981809Z",
     "shell.execute_reply": "2025-06-29T20:14:59.981809Z",
     "shell.execute_reply.started": "2025-06-29T20:14:59.971633Z"
    },
    "id": "fho34W3U-ssw"
   },
   "outputs": [],
   "source": [
    "temperature = 20"
   ]
  },
  {
   "cell_type": "code",
   "execution_count": 4,
   "metadata": {
    "execution": {
     "iopub.execute_input": "2025-06-29T20:19:25.724928Z",
     "iopub.status.busy": "2025-06-29T20:19:25.724928Z",
     "iopub.status.idle": "2025-06-29T20:19:25.733368Z",
     "shell.execute_reply": "2025-06-29T20:19:25.732361Z",
     "shell.execute_reply.started": "2025-06-29T20:19:25.724928Z"
    },
    "id": "CC3TlffAAPxK"
   },
   "outputs": [
    {
     "name": "stdout",
     "output_type": "stream",
     "text": [
      "Це приємний день.\n"
     ]
    }
   ],
   "source": [
    "if temperature > 25:\n",
    "    print (\"Це теплий день.\")\n",
    "elif  15 <= temperature <= 25:\n",
    "    print (\"Це приємний день.\")\n",
    "else:\n",
    "    print (\"Це холодний день.\")"
   ]
  },
  {
   "cell_type": "markdown",
   "metadata": {
    "id": "ANFbi11m-4v_"
   },
   "source": [
    "2. **Калькулятор оцінок:**\n",
    "   - Завдання:\n",
    "     - Дано заздалегідь визначену змінну `score` із результатом іспиту (зі 100 балів). Ваша задача визначити відповідну літеру цієї оцінки за правилами нижче.\n",
    "     - Якщо оцінка 90 або вище, виведіть \"A\".\n",
    "     - Якщо оцінка знаходиться в межах від 80 до 89, виведіть \"B\".\n",
    "     - Якщо оцінка знаходиться в межах від 70 до 79, виведіть \"C\".\n",
    "     - Якщо оцінка знаходиться в межах від 60 до 69, виведіть \"D\".\n",
    "     - В іншому випадку виведіть \"F\".\n",
    "     \n"
   ]
  },
  {
   "cell_type": "code",
   "execution_count": 5,
   "metadata": {
    "execution": {
     "iopub.execute_input": "2025-06-29T20:20:49.736808Z",
     "iopub.status.busy": "2025-06-29T20:20:49.736808Z",
     "iopub.status.idle": "2025-06-29T20:20:49.752827Z",
     "shell.execute_reply": "2025-06-29T20:20:49.752827Z",
     "shell.execute_reply.started": "2025-06-29T20:20:49.736808Z"
    },
    "id": "2w0dAfBw_ew2"
   },
   "outputs": [],
   "source": [
    "score = 75"
   ]
  },
  {
   "cell_type": "code",
   "execution_count": 6,
   "metadata": {
    "execution": {
     "iopub.execute_input": "2025-06-29T20:23:22.939574Z",
     "iopub.status.busy": "2025-06-29T20:23:22.939574Z",
     "iopub.status.idle": "2025-06-29T20:23:22.952398Z",
     "shell.execute_reply": "2025-06-29T20:23:22.952398Z",
     "shell.execute_reply.started": "2025-06-29T20:23:22.939574Z"
    },
    "id": "ZdJsRZ0WAQVD"
   },
   "outputs": [
    {
     "name": "stdout",
     "output_type": "stream",
     "text": [
      "C\n"
     ]
    }
   ],
   "source": [
    "if score > 90:\n",
    "    print ('A')\n",
    "elif 80 <= score <= 89:\n",
    "    print ('B')\n",
    "elif 70 <= score <= 79:\n",
    "    print ('C')\n",
    "elif 60 <= score <= 69:\n",
    "    print ('D')\n",
    "else:\n",
    "    print ('F')"
   ]
  },
  {
   "cell_type": "markdown",
   "metadata": {
    "id": "ohXlepp7_dns"
   },
   "source": [
    "\n",
    "\n",
    "3. **Перевірка на високосний рік:**\n",
    "   - Завдання:\n",
    "     - Дано заздалегідь визначену змінну року `year`. Перевірте, чи є рік високосним роком. Правила для перевірки наведені нижче.\n",
    "     - Якщо рік ділиться на 4 і не ділиться на 100, або він ділиться на 400, виведіть \"Високосний рік\".\n",
    "     - В іншому випадку виведіть \"Не високосний рік\".\n"
   ]
  },
  {
   "cell_type": "code",
   "execution_count": 7,
   "metadata": {
    "execution": {
     "iopub.execute_input": "2025-06-29T20:25:28.303085Z",
     "iopub.status.busy": "2025-06-29T20:25:28.303085Z",
     "iopub.status.idle": "2025-06-29T20:25:28.308574Z",
     "shell.execute_reply": "2025-06-29T20:25:28.308574Z",
     "shell.execute_reply.started": "2025-06-29T20:25:28.303085Z"
    },
    "id": "i4OUe6Kh_sAk"
   },
   "outputs": [],
   "source": [
    "year = 2024  # Приклад року"
   ]
  },
  {
   "cell_type": "code",
   "execution_count": 8,
   "metadata": {
    "execution": {
     "iopub.execute_input": "2025-06-29T20:28:01.783208Z",
     "iopub.status.busy": "2025-06-29T20:28:01.783208Z",
     "iopub.status.idle": "2025-06-29T20:28:01.789917Z",
     "shell.execute_reply": "2025-06-29T20:28:01.789917Z",
     "shell.execute_reply.started": "2025-06-29T20:28:01.783208Z"
    },
    "id": "yTWX7B4JARhH"
   },
   "outputs": [
    {
     "name": "stdout",
     "output_type": "stream",
     "text": [
      "Високосний рік\n"
     ]
    }
   ],
   "source": [
    "if (year % 4 == 0 and year % 100 != 0) or (year % 400 == 0):\n",
    "    print (\"Високосний рік\")\n",
    "else:\n",
    "    print (\"Не високосний рік\")"
   ]
  }
 ],
 "metadata": {
  "colab": {
   "provenance": []
  },
  "kernelspec": {
   "display_name": "Python [conda env:base] *",
   "language": "python",
   "name": "conda-base-py"
  },
  "language_info": {
   "codemirror_mode": {
    "name": "ipython",
    "version": 3
   },
   "file_extension": ".py",
   "mimetype": "text/x-python",
   "name": "python",
   "nbconvert_exporter": "python",
   "pygments_lexer": "ipython3",
   "version": "3.11.7"
  }
 },
 "nbformat": 4,
 "nbformat_minor": 4
}
