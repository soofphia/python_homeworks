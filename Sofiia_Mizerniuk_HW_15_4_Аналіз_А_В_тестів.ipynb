{
 "cells": [
  {
   "cell_type": "markdown",
   "metadata": {
    "ExecuteTime": {
     "end_time": "2022-12-10T17:43:42.137588Z",
     "start_time": "2022-12-10T17:43:42.124712Z"
    },
    "id": "f41183ed"
   },
   "source": [
    "## Аналіз A/B-тестів\n",
    "\n",
    "Ви - аналітик даних в ІТ-компанії і до вас надійшла задача проаналізувати дані A/B тесту в популярній [грі Cookie Cats](https://www.facebook.com/cookiecatsgame). Це - гра-головоломка в стилі «з’єднай три», де гравець повинен з’єднати плитки одного кольору, щоб очистити дошку та виграти рівень. На дошці також зображені співаючі котики :)\n",
    "\n",
    "Під час проходження гри гравці стикаються з воротами, які змушують їх чекати деякий час, перш ніж вони зможуть прогресувати або зробити покупку в додатку.\n",
    "\n",
    "У цьому блоці завдань ми проаналізуємо результати A/B тесту, коли перші ворота в Cookie Cats було переміщено з рівня 30 на рівень 40. Зокрема, ми хочемо зрозуміти, як це вплинуло на утримання (retention) гравців. Тобто хочемо зрозуміти, чи переміщення воріт на 10 рівнів пізніше якимось чином вплинуло на те, що користувачі перестають грати в гру раніше чи пізніше з точки зору кількості їх днів з моменту встановлення гри.\n",
    "\n",
    "Будемо працювати з даними з файлу `cookie_cats.csv`. Колонки в даних наступні:\n",
    "\n",
    "- `userid` - унікальний номер, який ідентифікує кожного гравця.\n",
    "- `version` - чи потрапив гравець в контрольну групу (gate_30 - ворота на 30 рівні) чи тестову групу (gate_40 - ворота на 40 рівні).\n",
    "- `sum_gamerounds` - кількість ігрових раундів, зіграних гравцем протягом першого тижня після встановлення\n",
    "- `retention_1` - чи через 1 день після встановлення гравець повернувся і почав грати?\n",
    "- `retention_7` - чи через 7 днів після встановлення гравець повернувся і почав грати?\n",
    "\n",
    "Коли гравець встановлював гру, його випадковим чином призначали до групи gate_30 або gate_40."
   ]
  },
  {
   "cell_type": "markdown",
   "metadata": {
    "id": "XKhHA3eiueo0"
   },
   "source": [
    "1. Для початку, уявімо, що ми тільки плануємо проведення зазначеного А/B-тесту і хочемо зрозуміти, дані про скількох користувачів нам треба зібрати, аби досягнути відчутного ефекту. Відчутним ефектом ми вважатимемо збільшення утримання на 1% після внесення зміни. Обчисліть, скільки користувачів сумарно нам треба аби досягнути такого ефекту, якщо продакт менеджер нам повідомив, що базове утримання є 19%."
   ]
  },
  {
   "cell_type": "code",
   "execution_count": 1,
   "metadata": {
    "execution": {
     "iopub.execute_input": "2025-10-18T14:18:09.580185Z",
     "iopub.status.busy": "2025-10-18T14:18:09.580185Z",
     "iopub.status.idle": "2025-10-18T14:18:12.991512Z",
     "shell.execute_reply": "2025-10-18T14:18:12.991512Z",
     "shell.execute_reply.started": "2025-10-18T14:18:09.580185Z"
    },
    "id": "TcZ32BcIufKU"
   },
   "outputs": [],
   "source": [
    "import numpy as np\n",
    "import pandas as pd\n",
    "import scipy.stats as stats\n",
    "import statsmodels.stats.api as sms\n",
    "import matplotlib as mpl\n",
    "import matplotlib.pyplot as plt\n",
    "import seaborn as sns\n",
    "from math import ceil\n",
    "\n",
    "%matplotlib inline"
   ]
  },
  {
   "cell_type": "code",
   "execution_count": 2,
   "metadata": {
    "execution": {
     "iopub.execute_input": "2025-10-18T14:18:12.991512Z",
     "iopub.status.busy": "2025-10-18T14:18:12.991512Z",
     "iopub.status.idle": "2025-10-18T14:18:13.000874Z",
     "shell.execute_reply": "2025-10-18T14:18:13.000874Z",
     "shell.execute_reply.started": "2025-10-18T14:18:12.991512Z"
    }
   },
   "outputs": [],
   "source": [
    "effect_size = sms.proportion_effectsize(0.2, 0.19)    # Розрахунок розміру ефекту на основі наших очікуваних показників"
   ]
  },
  {
   "cell_type": "code",
   "execution_count": 3,
   "metadata": {
    "execution": {
     "iopub.execute_input": "2025-10-18T14:18:13.007169Z",
     "iopub.status.busy": "2025-10-18T14:18:13.000874Z",
     "iopub.status.idle": "2025-10-18T14:18:13.018084Z",
     "shell.execute_reply": "2025-10-18T14:18:13.018084Z",
     "shell.execute_reply.started": "2025-10-18T14:18:13.007169Z"
    }
   },
   "outputs": [
    {
     "data": {
      "text/plain": [
       "0.025241594409087353"
      ]
     },
     "execution_count": 3,
     "metadata": {},
     "output_type": "execute_result"
    }
   ],
   "source": [
    "effect_size"
   ]
  },
  {
   "cell_type": "code",
   "execution_count": 4,
   "metadata": {
    "execution": {
     "iopub.execute_input": "2025-10-18T14:18:13.021101Z",
     "iopub.status.busy": "2025-10-18T14:18:13.021101Z",
     "iopub.status.idle": "2025-10-18T14:18:13.068600Z",
     "shell.execute_reply": "2025-10-18T14:18:13.068600Z",
     "shell.execute_reply.started": "2025-10-18T14:18:13.021101Z"
    }
   },
   "outputs": [
    {
     "name": "stdout",
     "output_type": "stream",
     "text": [
      "24638\n"
     ]
    }
   ],
   "source": [
    "required_n = sms.NormalIndPower().solve_power(\n",
    "    effect_size,\n",
    "    power=0.8,\n",
    "    alpha=0.05,\n",
    "    ratio=1\n",
    "    )                                                  # Розрахунок необхідного розміру вибірки\n",
    "\n",
    "required_n = ceil(required_n)                          # Округлення до наступного цілого числа\n",
    "\n",
    "print(required_n)"
   ]
  },
  {
   "cell_type": "markdown",
   "metadata": {
    "id": "22f03df4"
   },
   "source": [
    "2. Зчитайте дані АВ тесту у змінну `df` та виведіть середнє значення показника показник `retention_7` (утримання на 7 день) по версіям гри. Сформулюйте гіпотезу: яка версія дає краще утримання через 7 днів після встановлення гри?"
   ]
  },
  {
   "cell_type": "code",
   "execution_count": 5,
   "metadata": {
    "execution": {
     "iopub.execute_input": "2025-10-18T14:18:13.114268Z",
     "iopub.status.busy": "2025-10-18T14:18:13.114268Z",
     "iopub.status.idle": "2025-10-18T14:18:13.820108Z",
     "shell.execute_reply": "2025-10-18T14:18:13.820108Z",
     "shell.execute_reply.started": "2025-10-18T14:18:13.114268Z"
    },
    "id": "MVzMTs-jh22b"
   },
   "outputs": [
    {
     "data": {
      "text/plain": [
       "(90189, 5)"
      ]
     },
     "execution_count": 5,
     "metadata": {},
     "output_type": "execute_result"
    }
   ],
   "source": [
    "# Завантажуємо дані\n",
    "df = pd.read_csv('../data/cookie_cats.csv', sep=None, engine='python')\n",
    "\n",
    "# Виволимо розмір датасету\n",
    "df.shape"
   ]
  },
  {
   "cell_type": "code",
   "execution_count": 6,
   "metadata": {
    "execution": {
     "iopub.execute_input": "2025-10-18T14:18:13.824468Z",
     "iopub.status.busy": "2025-10-18T14:18:13.824468Z",
     "iopub.status.idle": "2025-10-18T14:18:13.879508Z",
     "shell.execute_reply": "2025-10-18T14:18:13.876855Z",
     "shell.execute_reply.started": "2025-10-18T14:18:13.824468Z"
    }
   },
   "outputs": [
    {
     "name": "stdout",
     "output_type": "stream",
     "text": [
      "<class 'pandas.core.frame.DataFrame'>\n",
      "RangeIndex: 90189 entries, 0 to 90188\n",
      "Data columns (total 5 columns):\n",
      " #   Column          Non-Null Count  Dtype \n",
      "---  ------          --------------  ----- \n",
      " 0   userid          90189 non-null  int64 \n",
      " 1   version         90189 non-null  object\n",
      " 2   sum_gamerounds  90189 non-null  int64 \n",
      " 3   retention_1     90189 non-null  bool  \n",
      " 4   retention_7     90189 non-null  bool  \n",
      "dtypes: bool(2), int64(2), object(1)\n",
      "memory usage: 2.2+ MB\n"
     ]
    }
   ],
   "source": [
    "df.info()"
   ]
  },
  {
   "cell_type": "code",
   "execution_count": 7,
   "metadata": {
    "execution": {
     "iopub.execute_input": "2025-10-18T14:18:13.881960Z",
     "iopub.status.busy": "2025-10-18T14:18:13.881960Z",
     "iopub.status.idle": "2025-10-18T14:18:13.914946Z",
     "shell.execute_reply": "2025-10-18T14:18:13.911725Z",
     "shell.execute_reply.started": "2025-10-18T14:18:13.881960Z"
    }
   },
   "outputs": [
    {
     "data": {
      "text/plain": [
       "version\n",
       "gate_30    0.190201\n",
       "gate_40    0.182000\n",
       "Name: retention_7, dtype: float64"
      ]
     },
     "execution_count": 7,
     "metadata": {},
     "output_type": "execute_result"
    }
   ],
   "source": [
    "# Середнє retention_7 для різних версій гри\n",
    "\n",
    "retension_mean = df.groupby('version')['retention_7'].mean()\n",
    "retension_mean"
   ]
  },
  {
   "cell_type": "markdown",
   "metadata": {},
   "source": [
    "<span style=\"color:green\">**Спостереження: контрольна група gate_30 має кращі  показники утримання користувачів на 7 день.**</span>"
   ]
  },
  {
   "cell_type": "markdown",
   "metadata": {
    "id": "74e9c6ca"
   },
   "source": [
    "3. Перевірте з допомогою пасуючого варіанту z-тесту, чи дає якась з версій гри кращий показник `retention_7` на рівні значущості 0.05. Обчисліть також довірчі інтервали для варіантів до переміщення воріт і після. Виведіть результат у форматі:\n",
    "\n",
    "    ```\n",
    "    z statistic: ...\n",
    "    p-value: ...\n",
    "    Довірчий інтервал 95% для групи control: [..., ...]\n",
    "    Довірчий інтервал 95% для групи treatment: [..., ...]\n",
    "    ```\n",
    "\n",
    "    де замість `...` - обчислені значення.\n",
    "    \n",
    "    В якості висновку дайте відповідь на два питання:  \n",
    "\n",
    "      1. Чи є статистична значущою різниця між поведінкою користувачів у різних версіях гри?   \n",
    "      2. Чи перетинаються довірчі інтервали утримання користувачів з різних версій гри? Про що це каже?  \n"
   ]
  },
  {
   "cell_type": "code",
   "execution_count": 12,
   "metadata": {
    "execution": {
     "iopub.execute_input": "2025-10-18T14:23:23.597064Z",
     "iopub.status.busy": "2025-10-18T14:23:23.597064Z",
     "iopub.status.idle": "2025-10-18T14:23:23.639353Z",
     "shell.execute_reply": "2025-10-18T14:23:23.639353Z",
     "shell.execute_reply.started": "2025-10-18T14:23:23.597064Z"
    },
    "id": "kXQE4gyjh5MS"
   },
   "outputs": [
    {
     "name": "stdout",
     "output_type": "stream",
     "text": [
      "Є 0 користувачів, які зустрічаються кілька разів у наборі даних.\n"
     ]
    }
   ],
   "source": [
    "session_counts = df['userid'].value_counts(ascending=False)\n",
    "multi_users = session_counts[session_counts > 1].count()\n",
    "\n",
    "print(f'Є {multi_users} користувачів, які зустрічаються кілька разів у наборі даних.')"
   ]
  },
  {
   "cell_type": "code",
   "execution_count": 13,
   "metadata": {
    "execution": {
     "iopub.execute_input": "2025-10-18T14:32:46.159214Z",
     "iopub.status.busy": "2025-10-18T14:32:46.156557Z",
     "iopub.status.idle": "2025-10-18T14:32:46.178492Z",
     "shell.execute_reply": "2025-10-18T14:32:46.175081Z",
     "shell.execute_reply.started": "2025-10-18T14:32:46.159214Z"
    }
   },
   "outputs": [],
   "source": [
    "from statsmodels.stats.proportion import proportions_ztest, proportion_confint"
   ]
  },
  {
   "cell_type": "code",
   "execution_count": 14,
   "metadata": {
    "execution": {
     "iopub.execute_input": "2025-10-18T14:32:50.593058Z",
     "iopub.status.busy": "2025-10-18T14:32:50.593058Z",
     "iopub.status.idle": "2025-10-18T14:32:50.654018Z",
     "shell.execute_reply": "2025-10-18T14:32:50.652994Z",
     "shell.execute_reply.started": "2025-10-18T14:32:50.593058Z"
    }
   },
   "outputs": [],
   "source": [
    "control = df[df['version'] == 'gate_30'].copy()\n",
    "treatment = df[df['version'] == 'gate_40'].copy()"
   ]
  },
  {
   "cell_type": "code",
   "execution_count": 15,
   "metadata": {
    "execution": {
     "iopub.execute_input": "2025-10-18T14:33:45.042440Z",
     "iopub.status.busy": "2025-10-18T14:33:45.042440Z",
     "iopub.status.idle": "2025-10-18T14:33:45.063840Z",
     "shell.execute_reply": "2025-10-18T14:33:45.061828Z",
     "shell.execute_reply.started": "2025-10-18T14:33:45.042440Z"
    }
   },
   "outputs": [],
   "source": [
    "ab_test = pd.concat([control, treatment], axis=0)\n",
    "ab_test.reset_index(drop=True, inplace=True)"
   ]
  },
  {
   "cell_type": "code",
   "execution_count": 16,
   "metadata": {
    "execution": {
     "iopub.execute_input": "2025-10-18T14:33:58.038200Z",
     "iopub.status.busy": "2025-10-18T14:33:58.038200Z",
     "iopub.status.idle": "2025-10-18T14:33:58.083750Z",
     "shell.execute_reply": "2025-10-18T14:33:58.081738Z",
     "shell.execute_reply.started": "2025-10-18T14:33:58.038200Z"
    }
   },
   "outputs": [
    {
     "data": {
      "text/html": [
       "<div>\n",
       "<style scoped>\n",
       "    .dataframe tbody tr th:only-of-type {\n",
       "        vertical-align: middle;\n",
       "    }\n",
       "\n",
       "    .dataframe tbody tr th {\n",
       "        vertical-align: top;\n",
       "    }\n",
       "\n",
       "    .dataframe thead th {\n",
       "        text-align: right;\n",
       "    }\n",
       "</style>\n",
       "<table border=\"1\" class=\"dataframe\">\n",
       "  <thead>\n",
       "    <tr style=\"text-align: right;\">\n",
       "      <th></th>\n",
       "      <th>userid</th>\n",
       "      <th>version</th>\n",
       "      <th>sum_gamerounds</th>\n",
       "      <th>retention_1</th>\n",
       "      <th>retention_7</th>\n",
       "    </tr>\n",
       "  </thead>\n",
       "  <tbody>\n",
       "    <tr>\n",
       "      <th>0</th>\n",
       "      <td>116</td>\n",
       "      <td>gate_30</td>\n",
       "      <td>3</td>\n",
       "      <td>False</td>\n",
       "      <td>False</td>\n",
       "    </tr>\n",
       "    <tr>\n",
       "      <th>1</th>\n",
       "      <td>337</td>\n",
       "      <td>gate_30</td>\n",
       "      <td>38</td>\n",
       "      <td>True</td>\n",
       "      <td>False</td>\n",
       "    </tr>\n",
       "    <tr>\n",
       "      <th>2</th>\n",
       "      <td>1066</td>\n",
       "      <td>gate_30</td>\n",
       "      <td>0</td>\n",
       "      <td>False</td>\n",
       "      <td>False</td>\n",
       "    </tr>\n",
       "    <tr>\n",
       "      <th>3</th>\n",
       "      <td>2101</td>\n",
       "      <td>gate_30</td>\n",
       "      <td>0</td>\n",
       "      <td>False</td>\n",
       "      <td>False</td>\n",
       "    </tr>\n",
       "    <tr>\n",
       "      <th>4</th>\n",
       "      <td>2179</td>\n",
       "      <td>gate_30</td>\n",
       "      <td>39</td>\n",
       "      <td>True</td>\n",
       "      <td>False</td>\n",
       "    </tr>\n",
       "  </tbody>\n",
       "</table>\n",
       "</div>"
      ],
      "text/plain": [
       "   userid  version  sum_gamerounds  retention_1  retention_7\n",
       "0     116  gate_30               3        False        False\n",
       "1     337  gate_30              38         True        False\n",
       "2    1066  gate_30               0        False        False\n",
       "3    2101  gate_30               0        False        False\n",
       "4    2179  gate_30              39         True        False"
      ]
     },
     "execution_count": 16,
     "metadata": {},
     "output_type": "execute_result"
    }
   ],
   "source": [
    "ab_test.head()"
   ]
  },
  {
   "cell_type": "code",
   "execution_count": 17,
   "metadata": {
    "execution": {
     "iopub.execute_input": "2025-10-18T14:34:46.956524Z",
     "iopub.status.busy": "2025-10-18T14:34:46.956524Z",
     "iopub.status.idle": "2025-10-18T14:34:46.993924Z",
     "shell.execute_reply": "2025-10-18T14:34:46.993924Z",
     "shell.execute_reply.started": "2025-10-18T14:34:46.956524Z"
    }
   },
   "outputs": [
    {
     "name": "stdout",
     "output_type": "stream",
     "text": [
      "<class 'pandas.core.frame.DataFrame'>\n",
      "RangeIndex: 90189 entries, 0 to 90188\n",
      "Data columns (total 5 columns):\n",
      " #   Column          Non-Null Count  Dtype \n",
      "---  ------          --------------  ----- \n",
      " 0   userid          90189 non-null  int64 \n",
      " 1   version         90189 non-null  object\n",
      " 2   sum_gamerounds  90189 non-null  int64 \n",
      " 3   retention_1     90189 non-null  bool  \n",
      " 4   retention_7     90189 non-null  bool  \n",
      "dtypes: bool(2), int64(2), object(1)\n",
      "memory usage: 2.2+ MB\n"
     ]
    }
   ],
   "source": [
    "ab_test.info()"
   ]
  },
  {
   "cell_type": "code",
   "execution_count": 18,
   "metadata": {
    "execution": {
     "iopub.execute_input": "2025-10-18T14:35:14.075621Z",
     "iopub.status.busy": "2025-10-18T14:35:14.075621Z",
     "iopub.status.idle": "2025-10-18T14:35:14.097553Z",
     "shell.execute_reply": "2025-10-18T14:35:14.095541Z",
     "shell.execute_reply.started": "2025-10-18T14:35:14.075621Z"
    }
   },
   "outputs": [
    {
     "data": {
      "text/plain": [
       "version\n",
       "gate_40    45489\n",
       "gate_30    44700\n",
       "Name: count, dtype: int64"
      ]
     },
     "execution_count": 18,
     "metadata": {},
     "output_type": "execute_result"
    }
   ],
   "source": [
    "ab_test['version'].value_counts()"
   ]
  },
  {
   "cell_type": "code",
   "execution_count": 20,
   "metadata": {
    "execution": {
     "iopub.execute_input": "2025-10-18T14:39:19.846865Z",
     "iopub.status.busy": "2025-10-18T14:39:19.846865Z",
     "iopub.status.idle": "2025-10-18T14:39:20.001220Z",
     "shell.execute_reply": "2025-10-18T14:39:20.001220Z",
     "shell.execute_reply.started": "2025-10-18T14:39:19.846865Z"
    }
   },
   "outputs": [
    {
     "data": {
      "text/html": [
       "<style type=\"text/css\">\n",
       "</style>\n",
       "<table id=\"T_95fa1\">\n",
       "  <thead>\n",
       "    <tr>\n",
       "      <th class=\"blank level0\" >&nbsp;</th>\n",
       "      <th id=\"T_95fa1_level0_col0\" class=\"col_heading level0 col0\" >conversion_rate</th>\n",
       "      <th id=\"T_95fa1_level0_col1\" class=\"col_heading level0 col1\" >std_deviation</th>\n",
       "      <th id=\"T_95fa1_level0_col2\" class=\"col_heading level0 col2\" >std_error</th>\n",
       "    </tr>\n",
       "    <tr>\n",
       "      <th class=\"index_name level0\" >version</th>\n",
       "      <th class=\"blank col0\" >&nbsp;</th>\n",
       "      <th class=\"blank col1\" >&nbsp;</th>\n",
       "      <th class=\"blank col2\" >&nbsp;</th>\n",
       "    </tr>\n",
       "  </thead>\n",
       "  <tbody>\n",
       "    <tr>\n",
       "      <th id=\"T_95fa1_level0_row0\" class=\"row_heading level0 row0\" >gate_30</th>\n",
       "      <td id=\"T_95fa1_row0_col0\" class=\"data row0 col0\" >0.19020</td>\n",
       "      <td id=\"T_95fa1_row0_col1\" class=\"data row0 col1\" >0.39246</td>\n",
       "      <td id=\"T_95fa1_row0_col2\" class=\"data row0 col2\" >0.00186</td>\n",
       "    </tr>\n",
       "    <tr>\n",
       "      <th id=\"T_95fa1_level0_row1\" class=\"row_heading level0 row1\" >gate_40</th>\n",
       "      <td id=\"T_95fa1_row1_col0\" class=\"data row1 col0\" >0.18200</td>\n",
       "      <td id=\"T_95fa1_row1_col1\" class=\"data row1 col1\" >0.38585</td>\n",
       "      <td id=\"T_95fa1_row1_col2\" class=\"data row1 col2\" >0.00181</td>\n",
       "    </tr>\n",
       "  </tbody>\n",
       "</table>\n"
      ],
      "text/plain": [
       "<pandas.io.formats.style.Styler at 0x15a56753d10>"
      ]
     },
     "execution_count": 20,
     "metadata": {},
     "output_type": "execute_result"
    }
   ],
   "source": [
    "conversion_rates = ab_test.groupby('version')['retention_7']\n",
    "conversion_rates = conversion_rates.agg(['mean', 'std', stats.sem])\n",
    "conversion_rates.columns = ['conversion_rate', 'std_deviation', 'std_error']\n",
    "\n",
    "conversion_rates.style.format('{:.5f}')"
   ]
  },
  {
   "cell_type": "code",
   "execution_count": 26,
   "metadata": {
    "execution": {
     "iopub.execute_input": "2025-10-18T14:43:03.311501Z",
     "iopub.status.busy": "2025-10-18T14:43:03.311501Z",
     "iopub.status.idle": "2025-10-18T14:43:03.351969Z",
     "shell.execute_reply": "2025-10-18T14:43:03.348978Z",
     "shell.execute_reply.started": "2025-10-18T14:43:03.311501Z"
    }
   },
   "outputs": [],
   "source": [
    "control_results = ab_test[ab_test['version'] == 'gate_30']['retention_7']\n",
    "treatment_results = ab_test[ab_test['version'] == 'gate_40']['retention_7']"
   ]
  },
  {
   "cell_type": "code",
   "execution_count": 27,
   "metadata": {
    "execution": {
     "iopub.execute_input": "2025-10-18T14:43:05.129353Z",
     "iopub.status.busy": "2025-10-18T14:43:05.129353Z",
     "iopub.status.idle": "2025-10-18T14:43:05.152365Z",
     "shell.execute_reply": "2025-10-18T14:43:05.150339Z",
     "shell.execute_reply.started": "2025-10-18T14:43:05.129353Z"
    }
   },
   "outputs": [],
   "source": [
    "n_con = control_results.count()\n",
    "n_treat = treatment_results.count()\n",
    "successes = [control_results.sum(), treatment_results.sum()]\n",
    "nobs = [n_con, n_treat]"
   ]
  },
  {
   "cell_type": "code",
   "execution_count": 28,
   "metadata": {
    "execution": {
     "iopub.execute_input": "2025-10-18T14:43:06.795042Z",
     "iopub.status.busy": "2025-10-18T14:43:06.795042Z",
     "iopub.status.idle": "2025-10-18T14:43:06.804210Z",
     "shell.execute_reply": "2025-10-18T14:43:06.804210Z",
     "shell.execute_reply.started": "2025-10-18T14:43:06.795042Z"
    }
   },
   "outputs": [
    {
     "data": {
      "text/plain": [
       "[8502, 8279]"
      ]
     },
     "execution_count": 28,
     "metadata": {},
     "output_type": "execute_result"
    }
   ],
   "source": [
    "successes"
   ]
  },
  {
   "cell_type": "code",
   "execution_count": 31,
   "metadata": {
    "execution": {
     "iopub.execute_input": "2025-10-18T14:51:06.840218Z",
     "iopub.status.busy": "2025-10-18T14:51:06.838190Z",
     "iopub.status.idle": "2025-10-18T14:51:06.863741Z",
     "shell.execute_reply": "2025-10-18T14:51:06.857402Z",
     "shell.execute_reply.started": "2025-10-18T14:51:06.840218Z"
    }
   },
   "outputs": [],
   "source": [
    "from statsmodels.stats.proportion import proportions_ztest, proportion_confint"
   ]
  },
  {
   "cell_type": "code",
   "execution_count": 35,
   "metadata": {
    "execution": {
     "iopub.execute_input": "2025-10-18T14:51:59.874717Z",
     "iopub.status.busy": "2025-10-18T14:51:59.865232Z",
     "iopub.status.idle": "2025-10-18T14:51:59.907859Z",
     "shell.execute_reply": "2025-10-18T14:51:59.903935Z",
     "shell.execute_reply.started": "2025-10-18T14:51:59.874717Z"
    }
   },
   "outputs": [
    {
     "name": "stdout",
     "output_type": "stream",
     "text": [
      "z statistic: 3.16\n",
      "p-value: 0.002\n",
      "Довірчий інтервал 95% для групи control: [0.187, 0.194]\n",
      "Довірчий інтервал 95% для групи treatment: [0.178, 0.186]\n"
     ]
    }
   ],
   "source": [
    "z_stat, pval = proportions_ztest(successes, nobs=nobs)\n",
    "\n",
    "lower_con, upper_con = proportion_confint(successes[0], nobs[0], alpha=0.05)\n",
    "lower_treat, upper_treat = proportion_confint(successes[1], nobs[1], alpha=0.05)\n",
    "\n",
    "print(f'z statistic: {z_stat:.2f}')\n",
    "print(f'p-value: {pval:.3f}')\n",
    "print(f'Довірчий інтервал 95% для групи control: [{lower_con:.3f}, {upper_con:.3f}]')\n",
    "print(f'Довірчий інтервал 95% для групи treatment: [{lower_treat:.3f}, {upper_treat:.3f}]')"
   ]
  },
  {
   "cell_type": "markdown",
   "metadata": {},
   "source": [
    "Різниця між групами спостереження значуща, адже p-value = 0.002 < 0.05."
   ]
  },
  {
   "cell_type": "code",
   "execution_count": 42,
   "metadata": {
    "execution": {
     "iopub.execute_input": "2025-10-18T15:08:49.750405Z",
     "iopub.status.busy": "2025-10-18T15:08:49.737100Z",
     "iopub.status.idle": "2025-10-18T15:08:49.772045Z",
     "shell.execute_reply": "2025-10-18T15:08:49.770033Z",
     "shell.execute_reply.started": "2025-10-18T15:08:49.750405Z"
    }
   },
   "outputs": [
    {
     "name": "stdout",
     "output_type": "stream",
     "text": [
      "Інтервали не перетинаються — різниця, ймовірно, є суттєвою.\n"
     ]
    }
   ],
   "source": [
    "overlap = not (upper_con < lower_treat or upper_treat < lower_con)\n",
    "if overlap:\n",
    "    print(\"Інтервали перетинаються — різниця не є очевидною.\")\n",
    "else:\n",
    "    print(\"Інтервали не перетинаються — різниця, ймовірно, є суттєвою.\")"
   ]
  },
  {
   "cell_type": "markdown",
   "metadata": {},
   "source": [
    "Інтервали не перетинаються, що підтрверджує те, що різниця є статистично значущою."
   ]
  },
  {
   "cell_type": "markdown",
   "metadata": {
    "ExecuteTime": {
     "end_time": "2022-12-10T20:50:10.709766Z",
     "start_time": "2022-12-10T20:50:10.639999Z"
    },
    "id": "076cd867"
   },
   "source": [
    "4. Виконайте тест Хі-квадрат на рівні значущості 5% аби визначити, чи є залежність між версією гри та утриманням гравця на 7ий день після реєстрації.\n",
    "\n",
    "    - Напишіть, як для цього тесту будуть сформульовані гіпотези.\n",
    "    - Проведіть обчислення, виведіть p-значення і напишіть висновок за результатами тесту.\n"
   ]
  },
  {
   "cell_type": "markdown",
   "metadata": {},
   "source": [
    "H_0 = версія гри не впливає на утримання користувача </br>\n",
    "H_1 = версія гри впливає на утримання користувача"
   ]
  },
  {
   "cell_type": "code",
   "execution_count": 39,
   "metadata": {
    "execution": {
     "iopub.execute_input": "2025-10-18T14:55:32.708766Z",
     "iopub.status.busy": "2025-10-18T14:55:32.708766Z",
     "iopub.status.idle": "2025-10-18T14:55:32.841375Z",
     "shell.execute_reply": "2025-10-18T14:55:32.840941Z",
     "shell.execute_reply.started": "2025-10-18T14:55:32.708766Z"
    }
   },
   "outputs": [
    {
     "data": {
      "text/html": [
       "<div>\n",
       "<style scoped>\n",
       "    .dataframe tbody tr th:only-of-type {\n",
       "        vertical-align: middle;\n",
       "    }\n",
       "\n",
       "    .dataframe tbody tr th {\n",
       "        vertical-align: top;\n",
       "    }\n",
       "\n",
       "    .dataframe thead th {\n",
       "        text-align: right;\n",
       "    }\n",
       "</style>\n",
       "<table border=\"1\" class=\"dataframe\">\n",
       "  <thead>\n",
       "    <tr style=\"text-align: right;\">\n",
       "      <th>retention_7</th>\n",
       "      <th>False</th>\n",
       "      <th>True</th>\n",
       "    </tr>\n",
       "    <tr>\n",
       "      <th>version</th>\n",
       "      <th></th>\n",
       "      <th></th>\n",
       "    </tr>\n",
       "  </thead>\n",
       "  <tbody>\n",
       "    <tr>\n",
       "      <th>gate_30</th>\n",
       "      <td>36198</td>\n",
       "      <td>8502</td>\n",
       "    </tr>\n",
       "    <tr>\n",
       "      <th>gate_40</th>\n",
       "      <td>37210</td>\n",
       "      <td>8279</td>\n",
       "    </tr>\n",
       "  </tbody>\n",
       "</table>\n",
       "</div>"
      ],
      "text/plain": [
       "retention_7  False  True \n",
       "version                  \n",
       "gate_30      36198   8502\n",
       "gate_40      37210   8279"
      ]
     },
     "execution_count": 39,
     "metadata": {},
     "output_type": "execute_result"
    }
   ],
   "source": [
    "pd.crosstab(ab_test['version'], ab_test['retention_7'])"
   ]
  },
  {
   "cell_type": "code",
   "execution_count": 40,
   "metadata": {
    "execution": {
     "iopub.execute_input": "2025-10-18T14:55:58.227063Z",
     "iopub.status.busy": "2025-10-18T14:55:58.218829Z",
     "iopub.status.idle": "2025-10-18T14:55:58.319694Z",
     "shell.execute_reply": "2025-10-18T14:55:58.317200Z",
     "shell.execute_reply.started": "2025-10-18T14:55:58.227063Z"
    }
   },
   "outputs": [],
   "source": [
    "crosstab = pd.crosstab(ab_test['version'], ab_test['retention_7'])"
   ]
  },
  {
   "cell_type": "code",
   "execution_count": 41,
   "metadata": {
    "execution": {
     "iopub.execute_input": "2025-10-18T14:56:00.334130Z",
     "iopub.status.busy": "2025-10-18T14:56:00.334130Z",
     "iopub.status.idle": "2025-10-18T14:56:00.390192Z",
     "shell.execute_reply": "2025-10-18T14:56:00.384906Z",
     "shell.execute_reply.started": "2025-10-18T14:56:00.334130Z"
    },
    "id": "kcwD-91Fh84n"
   },
   "outputs": [
    {
     "name": "stdout",
     "output_type": "stream",
     "text": [
      "χ² = 9.959\n",
      "p-value = 0.00160\n",
      "Ступені свободи = 1\n",
      "Очікувані частоти:\n",
      " [[36382.90257127  8317.09742873]\n",
      " [37025.09742873  8463.90257127]]\n"
     ]
    }
   ],
   "source": [
    "chi2, p, dof, expected = stats.chi2_contingency(crosstab)\n",
    "\n",
    "print(f\"χ² = {chi2:.3f}\")\n",
    "print(f\"p-value = {p:.5f}\")\n",
    "print(f\"Ступені свободи = {dof}\")\n",
    "print(\"Очікувані частоти:\\n\", expected)"
   ]
  },
  {
   "cell_type": "markdown",
   "metadata": {},
   "source": [
    "Тест Хі-квадрат показав, що між зміною рівня і утриманням користувачів є зв'язок."
   ]
  }
 ],
 "metadata": {
  "colab": {
   "provenance": []
  },
  "kernelspec": {
   "display_name": "Python [conda env:base] *",
   "language": "python",
   "name": "conda-base-py"
  },
  "language_info": {
   "codemirror_mode": {
    "name": "ipython",
    "version": 3
   },
   "file_extension": ".py",
   "mimetype": "text/x-python",
   "name": "python",
   "nbconvert_exporter": "python",
   "pygments_lexer": "ipython3",
   "version": "3.11.7"
  }
 },
 "nbformat": 4,
 "nbformat_minor": 4
}
