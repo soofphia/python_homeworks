{
 "cells": [
  {
   "cell_type": "markdown",
   "metadata": {
    "id": "QtHabST6Ez_n"
   },
   "source": [
    "# Домашнє завдання до теми \"Functions\""
   ]
  },
  {
   "cell_type": "markdown",
   "metadata": {
    "id": "6pg_NzFq5_kO"
   },
   "source": [
    "1. Напишіть фукнцію `print_message`, яка виводить на екран \"Я програмую на Python💪\" і викличіть цю фукнцію 5 разів (найкраще це зробити в циклі).\n",
    "\n",
    "  **Увага**: фукнція має робити чітко лише зазначений функціонал. Наявність додаткового функціоналу і аргументів, які не потрібні для виконання безпосередньо завдання, буде вважатись помилкою."
   ]
  },
  {
   "cell_type": "code",
   "execution_count": 8,
   "metadata": {
    "execution": {
     "iopub.execute_input": "2025-06-30T19:52:45.173234Z",
     "iopub.status.busy": "2025-06-30T19:52:45.173234Z",
     "iopub.status.idle": "2025-06-30T19:52:45.179013Z",
     "shell.execute_reply": "2025-06-30T19:52:45.178011Z",
     "shell.execute_reply.started": "2025-06-30T19:52:45.173234Z"
    },
    "id": "RbXsfwI_D8ql"
   },
   "outputs": [
    {
     "name": "stdout",
     "output_type": "stream",
     "text": [
      "Я програмую на Python💪\n",
      "Я програмую на Python💪\n",
      "Я програмую на Python💪\n",
      "Я програмую на Python💪\n",
      "Я програмую на Python💪\n"
     ]
    }
   ],
   "source": [
    "def print_message():\n",
    "    print (f\"Я програмую на Python💪\")\n",
    "for _ in range(5):\n",
    "    print_message()"
   ]
  },
  {
   "cell_type": "markdown",
   "metadata": {
    "id": "oyRpWRXWBL9N"
   },
   "source": [
    "2. Напишіть функцію `calculation` яка приймає на вхід 4 аргументи типу int - `a`, `b`, `c`, `d` і вертає результат обчислення такої формули: $ (a + b - c) * d $.\n",
    "\n",
    "  Викличте функцію на наступному наборі аргументів і виведіть результат на екран:\n",
    "  ```\n",
    "  a = 16\n",
    "  b = 4\n",
    "  c = 9\n",
    "  d = 3\n",
    "  ```"
   ]
  },
  {
   "cell_type": "code",
   "execution_count": 11,
   "metadata": {
    "execution": {
     "iopub.execute_input": "2025-06-30T19:56:27.899724Z",
     "iopub.status.busy": "2025-06-30T19:56:27.899724Z",
     "iopub.status.idle": "2025-06-30T19:56:27.906329Z",
     "shell.execute_reply": "2025-06-30T19:56:27.905330Z",
     "shell.execute_reply.started": "2025-06-30T19:56:27.899724Z"
    },
    "id": "Ggt2tx6kD-LS"
   },
   "outputs": [
    {
     "name": "stdout",
     "output_type": "stream",
     "text": [
      "33\n"
     ]
    }
   ],
   "source": [
    "def calculation():\n",
    "    a = 16\n",
    "    b = 4\n",
    "    c = 9\n",
    "    d = 3\n",
    "    return (a + b - c) * d\n",
    "print (calculation())"
   ]
  },
  {
   "cell_type": "markdown",
   "metadata": {
    "id": "5hf1CbllDU_t"
   },
   "source": [
    "3. Напишіть функцію, яка додає до аргумента 15 і вертає результат додавання. Викличте функцію, передаючи в якості аргументів кожну з наступних змінних по черзі, і виведіть кожного разу результат на екран.\n",
    "```\n",
    "x = 9\n",
    "y = 14\n",
    "z = -19\n",
    "```"
   ]
  },
  {
   "cell_type": "code",
   "execution_count": 13,
   "metadata": {
    "execution": {
     "iopub.execute_input": "2025-07-01T12:48:40.235553Z",
     "iopub.status.busy": "2025-07-01T12:48:40.220019Z",
     "iopub.status.idle": "2025-07-01T12:48:40.242565Z",
     "shell.execute_reply": "2025-07-01T12:48:40.242565Z",
     "shell.execute_reply.started": "2025-07-01T12:48:40.235553Z"
    },
    "id": "GvEs_nUtD_Cd"
   },
   "outputs": [
    {
     "name": "stdout",
     "output_type": "stream",
     "text": [
      "24\n",
      "29\n",
      "-4\n"
     ]
    }
   ],
   "source": [
    "def add_15(n):\n",
    "    return n + 15\n",
    "x = 9\n",
    "y = 14\n",
    "z = -19\n",
    "print(add_15(x))\n",
    "print(add_15(y))\n",
    "print(add_15(z))"
   ]
  },
  {
   "cell_type": "markdown",
   "metadata": {
    "id": "bUuVBhie53uK"
   },
   "source": [
    "4. Напишіть функцію `multipy_numbers`, яка приймає два числа як аргументи і повертає їх добуток.\n",
    "\n",
    "  Викличіть функцію `multipy_numbers` на парах чисел\n",
    "- 10 і 2\n",
    "- 7 і 8\n",
    "- 1024 і 999.\n",
    "  \n",
    "  Виведіть результат кожного виклику.\n",
    "  При виконанні цього завдання з використанням циклу - отримаєте 2х балів за нього :)"
   ]
  },
  {
   "cell_type": "code",
   "execution_count": 20,
   "metadata": {
    "execution": {
     "iopub.execute_input": "2025-07-01T12:55:53.622727Z",
     "iopub.status.busy": "2025-07-01T12:55:53.622727Z",
     "iopub.status.idle": "2025-07-01T12:55:53.631993Z",
     "shell.execute_reply": "2025-07-01T12:55:53.631993Z",
     "shell.execute_reply.started": "2025-07-01T12:55:53.622727Z"
    },
    "id": "cDqrgZ4YEAKj"
   },
   "outputs": [
    {
     "name": "stdout",
     "output_type": "stream",
     "text": [
      "20\n",
      "56\n",
      "1022976\n"
     ]
    }
   ],
   "source": [
    "# без циклу\n",
    "def multipy_numbers(x, y):\n",
    "    return (x * y)\n",
    "print(multipy_numbers(10, 2))\n",
    "print(multipy_numbers(7, 8))\n",
    "print(multipy_numbers(1024, 999))"
   ]
  },
  {
   "cell_type": "code",
   "execution_count": 21,
   "metadata": {
    "execution": {
     "iopub.execute_input": "2025-07-01T12:57:39.001810Z",
     "iopub.status.busy": "2025-07-01T12:57:39.001810Z",
     "iopub.status.idle": "2025-07-01T12:57:39.008500Z",
     "shell.execute_reply": "2025-07-01T12:57:39.008500Z",
     "shell.execute_reply.started": "2025-07-01T12:57:39.001810Z"
    }
   },
   "outputs": [
    {
     "name": "stdout",
     "output_type": "stream",
     "text": [
      "20\n",
      "56\n",
      "1022976\n"
     ]
    }
   ],
   "source": [
    "# з циклом\n",
    "def multipy_numbers(x, y):\n",
    "    return (x * y)\n",
    "pairs = [(10, 2), (7, 8), (1024, 999)]\n",
    "for x, y in pairs: \n",
    "    print (multipy_numbers(x, y))"
   ]
  },
  {
   "cell_type": "markdown",
   "metadata": {
    "id": "I03t46k27dDZ"
   },
   "source": [
    "5. **Ділення з перевіркою типів.**  \n",
    "\n",
    "  1. Напишіть функцію `int_division` яка приймає на вхід два аргументи типу `int` - `a` і `b`, і виконує ділення першого аргумента на другий: `a/b`. При цьому функція перед діленням перевіряє, чи другий аргумент не дорівнює 0. Якщо другий аргумент не 0, фукнція вертає результат ділення, інакше - замість виконання ділення, вертає повідомлення на екран \"Не можу виконати ділення на 0\".\n",
    "\n",
    "    Якщо типи, надані у функцію, не `int` - функція виводить повідомлення \"Не працюю з такими типами даних.\".\n",
    "\n",
    "  2. Запустіть функцію на наступних парах чисел:\n",
    "- 12 і 6\n",
    "- 20 і 0\n",
    "- 112 і 10\n",
    "- 99 і 0\n",
    "- 11 i 1.1\n",
    "\n",
    "    і виведіть на екран повідомлення \"Результат роботи функції: \" - і далі те, що повернула функція.\n",
    "\n",
    "  3. Дайте відповідь на питання: \"Чому в деяких випадках функція повернула None?\""
   ]
  },
  {
   "cell_type": "code",
   "execution_count": 33,
   "metadata": {
    "execution": {
     "iopub.execute_input": "2025-07-01T13:17:14.801036Z",
     "iopub.status.busy": "2025-07-01T13:17:14.801036Z",
     "iopub.status.idle": "2025-07-01T13:17:14.819384Z",
     "shell.execute_reply": "2025-07-01T13:17:14.819384Z",
     "shell.execute_reply.started": "2025-07-01T13:17:14.801036Z"
    },
    "id": "1-EQhxrAEEAb"
   },
   "outputs": [
    {
     "name": "stdout",
     "output_type": "stream",
     "text": [
      "Пара (12, 6): Результат дії: 2.0\n",
      "Пара (20, 0): Результат дії: Не можу виконати ділення на 0\n",
      "Пара (112, 10): Результат дії: 11.2\n",
      "Пара (99, 0): Результат дії: Не можу виконати ділення на 0\n",
      "Пара (11, 1.1): Результат дії: Не працюю з такими типами даних.\n"
     ]
    }
   ],
   "source": [
    "def int_division(a, b):\n",
    "    if not isinstance (a, int) or not isinstance (b, int):\n",
    "        return f\"Не працюю з такими типами даних.\"\n",
    "    if b == 0:\n",
    "        return f\"Не можу виконати ділення на 0\"\n",
    "    return a / b\n",
    "pairs = [(12, 6), (20, 0), (112, 10), (99, 0), (11, 1.1)]\n",
    "for a, b in pairs:\n",
    "    result = int_division(a, b)\n",
    "    print (f\"Пара ({a}, {b}): Результат дії: {result}\")"
   ]
  },
  {
   "cell_type": "markdown",
   "metadata": {
    "execution": {
     "iopub.execute_input": "2025-07-01T13:19:09.344661Z",
     "iopub.status.busy": "2025-07-01T13:19:09.344661Z",
     "iopub.status.idle": "2025-07-01T13:19:09.357253Z",
     "shell.execute_reply": "2025-07-01T13:19:09.357253Z",
     "shell.execute_reply.started": "2025-07-01T13:19:09.344661Z"
    }
   },
   "source": [
    "Для останньої пари чисел (11, 1.1) результатом дії функції є None, так як тип 1.1 не int, а float."
   ]
  }
 ],
 "metadata": {
  "colab": {
   "provenance": []
  },
  "kernelspec": {
   "display_name": "Python [conda env:base] *",
   "language": "python",
   "name": "conda-base-py"
  },
  "language_info": {
   "codemirror_mode": {
    "name": "ipython",
    "version": 3
   },
   "file_extension": ".py",
   "mimetype": "text/x-python",
   "name": "python",
   "nbconvert_exporter": "python",
   "pygments_lexer": "ipython3",
   "version": "3.11.7"
  }
 },
 "nbformat": 4,
 "nbformat_minor": 4
}
