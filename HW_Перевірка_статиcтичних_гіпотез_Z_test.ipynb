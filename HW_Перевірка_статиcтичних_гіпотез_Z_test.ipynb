{
 "cells": [
  {
   "cell_type": "markdown",
   "id": "e152f6d6",
   "metadata": {
    "ExecuteTime": {
     "end_time": "2022-12-10T14:29:24.703416Z",
     "start_time": "2022-12-10T14:29:24.688485Z"
    },
    "id": "e152f6d6"
   },
   "source": [
    "#Перевірка статиcтичних гіпотез. Z-test.\n",
    "\n"
   ]
  },
  {
   "cell_type": "markdown",
   "id": "cd404683",
   "metadata": {
    "id": "cd404683"
   },
   "source": [
    "0. Зчитайте дані з `data.csv` у змінну data, яка має тип pandas.DataFrame. Ми будемо далі працювати з цією змінною."
   ]
  },
  {
   "cell_type": "code",
   "execution_count": 1,
   "id": "b20b6ba2",
   "metadata": {
    "execution": {
     "iopub.execute_input": "2025-09-05T10:44:32.367795Z",
     "iopub.status.busy": "2025-09-05T10:44:32.367795Z",
     "iopub.status.idle": "2025-09-05T10:44:33.791382Z",
     "shell.execute_reply": "2025-09-05T10:44:33.790686Z",
     "shell.execute_reply.started": "2025-09-05T10:44:32.367795Z"
    },
    "id": "b20b6ba2"
   },
   "outputs": [],
   "source": [
    "import numpy as np\n",
    "import pandas as pd\n",
    "import matplotlib.pyplot as plt\n",
    "import seaborn as sns\n",
    "from scipy import stats\n",
    "\n",
    "data_path = '../data/data.csv'\n",
    "data = pd.read_csv(data_path)"
   ]
  },
  {
   "cell_type": "markdown",
   "id": "3d06cbbf",
   "metadata": {
    "id": "3d06cbbf"
   },
   "source": [
    "Запустіть код нижче. Для коректної робити всіх подальших методів дані мають бути у вигляді одновимірного `numpy.ndarray` вектора та мати розмірність (100,). Така розмірність означає, що дані - одновимірні (колонка), якщо б розмірність була (100, 1), то дані сприймаються методами як двовимірні (таблиця), хоча для нас виглядати можуть так само."
   ]
  },
  {
   "cell_type": "code",
   "execution_count": 2,
   "id": "cce1632b",
   "metadata": {
    "colab": {
     "base_uri": "https://localhost:8080/"
    },
    "execution": {
     "iopub.execute_input": "2025-09-05T10:44:37.311367Z",
     "iopub.status.busy": "2025-09-05T10:44:37.310366Z",
     "iopub.status.idle": "2025-09-05T10:44:37.326386Z",
     "shell.execute_reply": "2025-09-05T10:44:37.325066Z",
     "shell.execute_reply.started": "2025-09-05T10:44:37.311367Z"
    },
    "id": "cce1632b",
    "outputId": "2e142439-2a4f-4057-ff9d-e6a4b3d7e955"
   },
   "outputs": [
    {
     "data": {
      "text/plain": [
       "(100,)"
      ]
     },
     "execution_count": 2,
     "metadata": {},
     "output_type": "execute_result"
    }
   ],
   "source": [
    "data = data.data.values\n",
    "data.shape"
   ]
  },
  {
   "cell_type": "markdown",
   "id": "abdcef5d",
   "metadata": {
    "id": "abdcef5d"
   },
   "source": [
    "**Завдання 1**. Зчитані дані - це сума покупок в доларах наших покупців на сайті протягом липня 2025 року.\n",
    "\n",
    "До цього місяця, ми мали продажі в середньому на чек $20.\n",
    "\n",
    "Необхідно зʼясувати, чи вийшло у нас статистично значущо **підвищити** середній чек за липень 2025?\n",
    "\n",
    "Аби дати відповідь - ми проведемо z-test на рівні значущості $\\alpha=0.05$ двома способами. В цьому завданні ми будемо виконувати обчислення \"вручну\" з використанням бібліотек numpy та scipy.stats подібно до прикладу в лекції. Для цього виконайте наступні 7 кроків. Правильне виконання кожного з кроків оцінюється в 1 бал.\n",
    "\n",
    "1. Запишіть параметри задачі у змінні Python:\n",
    "    - `sample_mean` - $\\bar{x}$, середнє значення в вибірці\n",
    "    - `population_mean` - $\\mu_0$, середнє значення в популяції (тобто те, з яким ми порівнюємо середнє вибіркове значення)\n",
    "    - `population_std` - $\\sigma$, вибіркове стандартне відхилення, яке ми вважаємо, що є рівним ст. відх. популяції, адже маємо достатньо велику вибірку.\n",
    "    - `sample_size` - $n$, розмір вибірки\n",
    "    - `alpha` - $\\alpha$ рівень значущості\n",
    "    \n",
    "    **Увага!** Для обчислення стандартного відхилення маємо скористатись функцією `np.std(your_dataframe, ddof=1)`. Чому так - розбираємо в лекції про t-test.\n",
    "\n",
    "\n",
    "2. Визначте для цієї задачі:\n",
    "    - якою є гіпотеза $H_0$\n",
    "    - якою є альтернативна гіпотеза $H_a$\n",
    "    - з яким типом тесту ми маємо справу - лівосторонній, правосторонній чи двосторонній.\n",
    "\n",
    "3. Обчисліть стандартну помилку SE.\n",
    "4. Розрахуйте z-статистику.\n",
    "5. Знайдіть критичне z-значення з допомогою бібліотеки stats.\n",
    "6. Обчисліть p-value з допомогою бібліотеки stats.\n",
    "7. Прийміть рішення, чи відхиляєте ви гіпотезу $H_0$. Для прийняття рішення зробіть і порівняння z-статистики з критичним значенням, і проаналізуйте p-value."
   ]
  },
  {
   "cell_type": "code",
   "execution_count": 3,
   "id": "487e880e-8a29-41d0-b7b4-4873ce2488e2",
   "metadata": {
    "execution": {
     "iopub.execute_input": "2025-09-05T10:44:40.439684Z",
     "iopub.status.busy": "2025-09-05T10:44:40.438682Z",
     "iopub.status.idle": "2025-09-05T10:44:40.447048Z",
     "shell.execute_reply": "2025-09-05T10:44:40.446035Z",
     "shell.execute_reply.started": "2025-09-05T10:44:40.439684Z"
    },
    "id": "NX2XezWLdf4t"
   },
   "outputs": [
    {
     "name": "stdout",
     "output_type": "stream",
     "text": [
      "sample_mean = 19.378\n",
      "population_mean = 20\n",
      "population_std = 6.254\n",
      "sample_size = 100\n",
      "alpha = 0.05\n"
     ]
    }
   ],
   "source": [
    "# Крок 1.\n",
    "\n",
    "# Задаємо всі відомі параметри\n",
    "sample_mean = np.mean(data)        # x̄ \n",
    "population_mean = 20    # μ₀ \n",
    "population_std = np.std(data, ddof=1)      # σ \n",
    "sample_size = len(data)         # n \n",
    "alpha = 0.05            # α \n",
    "\n",
    "print(f\"sample_mean = {sample_mean:.3f}\")\n",
    "print(\"population_mean =\", population_mean)\n",
    "print(f\"population_std = {population_std:.3f}\")\n",
    "print(\"sample_size =\", sample_size)\n",
    "print(\"alpha =\", alpha)"
   ]
  },
  {
   "cell_type": "markdown",
   "id": "6c2f2a95-4c1f-4dae-b5e1-84baa866316b",
   "metadata": {
    "execution": {
     "iopub.execute_input": "2025-09-01T13:25:18.779379Z",
     "iopub.status.busy": "2025-09-01T13:25:18.779379Z",
     "iopub.status.idle": "2025-09-01T13:25:18.806666Z",
     "shell.execute_reply": "2025-09-01T13:25:18.804658Z",
     "shell.execute_reply.started": "2025-09-01T13:25:18.779379Z"
    }
   },
   "source": [
    "Крок 2.\n",
    "**Гіпотези**   \n",
    "\n",
    "H₀: μ = 100 (чек не змінився)  \n",
    "H₁: μ > 100 (вартість чеку зросла)  \n",
    "Тип тесту: правосторонній (one-tailed) "
   ]
  },
  {
   "cell_type": "code",
   "execution_count": 4,
   "id": "a383d823-c4e7-4ab5-9315-3e0bae3cbcef",
   "metadata": {
    "execution": {
     "iopub.execute_input": "2025-09-05T10:44:43.411706Z",
     "iopub.status.busy": "2025-09-05T10:44:43.411706Z",
     "iopub.status.idle": "2025-09-05T10:44:43.419634Z",
     "shell.execute_reply": "2025-09-05T10:44:43.418627Z",
     "shell.execute_reply.started": "2025-09-05T10:44:43.411706Z"
    }
   },
   "outputs": [
    {
     "name": "stdout",
     "output_type": "stream",
     "text": [
      "SE = 0.625\n",
      "\n",
      "Інтерпретація: В середньому, вибіркове середнє відхиляється\n",
      "від справжнього середнього на ±0.625 одиниць\n"
     ]
    }
   ],
   "source": [
    "# Крок 3\n",
    "\n",
    "#Обчислюємо стандартну помилку SE\n",
    "\n",
    "standard_error = population_std / np.sqrt(sample_size)\n",
    "\n",
    "print(f\"SE = {standard_error:.3f}\")\n",
    "print()\n",
    "print(\"Інтерпретація: В середньому, вибіркове середнє відхиляється\")\n",
    "print(f\"від справжнього середнього на ±{standard_error:.3f} одиниць\")"
   ]
  },
  {
   "cell_type": "code",
   "execution_count": 5,
   "id": "67e44a60-6f1f-4769-b485-a75ce2801510",
   "metadata": {
    "execution": {
     "iopub.execute_input": "2025-09-05T10:44:45.405155Z",
     "iopub.status.busy": "2025-09-05T10:44:45.405155Z",
     "iopub.status.idle": "2025-09-05T10:44:45.411430Z",
     "shell.execute_reply": "2025-09-05T10:44:45.410373Z",
     "shell.execute_reply.started": "2025-09-05T10:44:45.405155Z"
    }
   },
   "outputs": [
    {
     "name": "stdout",
     "output_type": "stream",
     "text": [
      "z = -0.995\n",
      "\n",
      "Інтерпретація:\n",
      "Наше вибіркове середнє відхиляється на -0.995 стандартних\n",
      "помилок від гіпотетичного середнього популяції.\n",
      "\n",
      "Це невелике відхилення (менше 1 стандартної помилки).\n"
     ]
    }
   ],
   "source": [
    "#Крок 4.\n",
    "\n",
    "#Розрахуємо z-статистику\n",
    "\n",
    "z_statistic = (sample_mean - population_mean) / standard_error\n",
    "\n",
    "print(f\"z = {z_statistic:.3f}\")\n",
    "print()\n",
    "print(\"Інтерпретація:\")\n",
    "print(f\"Наше вибіркове середнє відхиляється на {z_statistic:.3f} стандартних\")\n",
    "print(\"помилок від гіпотетичного середнього популяції.\")\n",
    "print()\n",
    "print(\"Це невелике відхилення (менше 1 стандартної помилки).\")"
   ]
  },
  {
   "cell_type": "code",
   "execution_count": 6,
   "id": "50be7106-cd97-4a7c-89da-71266b89d95f",
   "metadata": {
    "execution": {
     "iopub.execute_input": "2025-09-05T10:44:47.161508Z",
     "iopub.status.busy": "2025-09-05T10:44:47.161508Z",
     "iopub.status.idle": "2025-09-05T10:44:47.173553Z",
     "shell.execute_reply": "2025-09-05T10:44:47.172476Z",
     "shell.execute_reply.started": "2025-09-05T10:44:47.161508Z"
    }
   },
   "outputs": [
    {
     "name": "stdout",
     "output_type": "stream",
     "text": [
      "Критичне z-значення = 1.645\n",
      "\n",
      "Що це означає?\n",
      "Якщо z-статистика > 1.645, то результат настільки\n",
      "незвичайний, що ми не віримо у випадковість за гіпотезою Н0.\n"
     ]
    }
   ],
   "source": [
    "# Крок 5.\n",
    "\n",
    "# Знайдемо критичне z-значення з допомогою бібліотеки stats\n",
    "\n",
    "z_critical = stats.norm.ppf(1 - alpha)\n",
    "\n",
    "print(f\"Критичне z-значення = {z_critical:.3f}\")\n",
    "print()\n",
    "print(\"Що це означає?\")\n",
    "print(f\"Якщо z-статистика > {z_critical:.3f}, то результат настільки\")\n",
    "print(\"незвичайний, що ми не віримо у випадковість за гіпотезою Н0.\")"
   ]
  },
  {
   "cell_type": "code",
   "execution_count": 7,
   "id": "0afe2cd6-b523-449a-bfa7-1163eafaaec1",
   "metadata": {
    "execution": {
     "iopub.execute_input": "2025-09-05T10:44:49.490402Z",
     "iopub.status.busy": "2025-09-05T10:44:49.490402Z",
     "iopub.status.idle": "2025-09-05T10:44:49.502784Z",
     "shell.execute_reply": "2025-09-05T10:44:49.502784Z",
     "shell.execute_reply.started": "2025-09-05T10:44:49.490402Z"
    }
   },
   "outputs": [
    {
     "name": "stdout",
     "output_type": "stream",
     "text": [
      "p-value = 0.840216\n",
      "\n",
      "Що це означає?\n",
      "Якщо H₀ правильна (вартість чеку НЕ змінилась), то ймовірність\n",
      "випадково отримати середню вартість чеку ≥ 19.37755319670441 становить 0.840216\n",
      "або приблизно 84.0216%\n",
      "\n"
     ]
    }
   ],
   "source": [
    "# Крок 6\n",
    "\n",
    "# Обчислимо p-value з допомогою бібліотеки stats\n",
    "\n",
    "p_value = 1 - stats.norm.cdf(z_statistic)\n",
    "\n",
    "print(f\"p-value = {p_value:.6f}\")\n",
    "print()\n",
    "print(\"Що це означає?\")\n",
    "print(f\"Якщо H₀ правильна (вартість чеку НЕ змінилась), то ймовірність\")\n",
    "print(f\"випадково отримати середню вартість чеку ≥ {sample_mean} становить {p_value:.6f}\")\n",
    "print(f\"або приблизно {p_value*100:.4f}%\")\n",
    "print()"
   ]
  },
  {
   "cell_type": "code",
   "execution_count": 14,
   "id": "875561b8-ab12-42fc-8f49-aacd917ffb8f",
   "metadata": {
    "execution": {
     "iopub.execute_input": "2025-09-05T10:59:16.694816Z",
     "iopub.status.busy": "2025-09-05T10:59:16.693449Z",
     "iopub.status.idle": "2025-09-05T10:59:16.709501Z",
     "shell.execute_reply": "2025-09-05T10:59:16.706486Z",
     "shell.execute_reply.started": "2025-09-05T10:59:16.694816Z"
    }
   },
   "outputs": [
    {
     "name": "stdout",
     "output_type": "stream",
     "text": [
      "============================================================\n",
      "МЕТОД 1: Порівняння z-статистики з критичним значенням\n",
      "============================================================\n",
      "z-статистика = -0.995\n",
      "Критичне значення = 1.645\n",
      "Порівняння: -0.995 ≤ 1.645\n",
      "Висновок: z-статистика НЕ перевищує критичне значення\n",
      "Рішення: НЕ ВІДХИЛЯЄМО H₀\n",
      "\n",
      "============================================================\n",
      "МЕТОД 2: Порівняння p-value з рівнем значущості\n",
      "============================================================\n",
      "\n",
      "p-value = 0.840216\n",
      "Рівень значущості α = 0.05\n",
      "Порівняння: 0.840216 ≥ 0.05\n",
      "Висновок: p-value НЕ менше за рівень значущості\n",
      "Рішення: НЕ ВІДХИЛЯЄМО H₀\n"
     ]
    }
   ],
   "source": [
    "# Крок 7.\n",
    "\n",
    "# Порівняємо отримані вище значення для прийняття рішення щодо гіпотез:\n",
    "\n",
    "print(\"=\" * 60)\n",
    "print(\"МЕТОД 1: Порівняння z-статистики з критичним значенням\")\n",
    "print(\"=\" * 60)\n",
    "print(f\"z-статистика = {z_statistic:.3f}\")\n",
    "print(f\"Критичне значення = {z_critical:.3f}\")\n",
    "print(f\"Порівняння: {z_statistic:.3f} {'>' if z_statistic > z_critical else '≤'} {z_critical:.3f}\")\n",
    "\n",
    "if z_statistic > z_critical:\n",
    "    print(\"Висновок: z-статистика ПЕРЕВИЩУЄ критичне значення\")\n",
    "    decision1 = \"ВІДХИЛЯЄМО H₀\"\n",
    "else:\n",
    "    print(\"Висновок: z-статистика НЕ перевищує критичне значення\")\n",
    "    decision1 = \"НЕ ВІДХИЛЯЄМО H₀\"\n",
    "\n",
    "print(f\"Рішення: {decision1}\")\n",
    "\n",
    "print(\"\\n\" + \"=\" * 60)\n",
    "print(\"МЕТОД 2: Порівняння p-value з рівнем значущості\")\n",
    "print(\"=\" * 60)\n",
    "print()\n",
    "print(f\"p-value = {p_value:.6f}\")\n",
    "print(f\"Рівень значущості α = {alpha}\")\n",
    "print(f\"Порівняння: {p_value:.6f} {'<' if p_value < alpha else '≥'} {alpha}\")\n",
    "\n",
    "if p_value < alpha:\n",
    "    print(\"Висновок: p-value МЕНШЕ за рівень значущості\")\n",
    "    decision2 = \"ВІДХИЛЯЄМО H₀\"\n",
    "else:\n",
    "    print(\"Висновок: p-value НЕ менше за рівень значущості\")\n",
    "    decision2 = \"НЕ ВІДХИЛЯЄМО H₀\"\n",
    "\n",
    "print(f\"Рішення: {decision2}\")"
   ]
  },
  {
   "cell_type": "markdown",
   "id": "c44e5ad1-6413-48eb-a1fb-e779f1f79efe",
   "metadata": {},
   "source": [
    "На основі проведених розрахунків, ми можемо зробити висновок, що нам недостатньо статистичних даних, аби відхилити гіпотезу H0. Отже, ми не можемо стверджувати, що вартість чеку зросла."
   ]
  },
  {
   "cell_type": "markdown",
   "id": "0FOBByRMXkL2",
   "metadata": {
    "id": "0FOBByRMXkL2"
   },
   "source": [
    "**Завдання 2.** Виконайте обчислення z-test з використанням бібліотеки statsmodels.\n",
    "\n",
    "Отримайте z-статистику та р-значення.\n",
    "\n",
    "Виведіть p-значення та зробіть висновок, чи ми маємо достатньо доказів, аби стверджувати, що середній чек зріс.\n",
    "\n",
    "Чи зійшлись значення z-статистику та р-значення в цьому завданні з попередніми обчисленнями?\n",
    "\n",
    "Завдання оцінюється в 3 бали."
   ]
  },
  {
   "cell_type": "code",
   "execution_count": 25,
   "id": "f_Oa0DJhdg6v",
   "metadata": {
    "execution": {
     "iopub.execute_input": "2025-09-05T11:55:49.465863Z",
     "iopub.status.busy": "2025-09-05T11:55:49.465863Z",
     "iopub.status.idle": "2025-09-05T11:55:49.474170Z",
     "shell.execute_reply": "2025-09-05T11:55:49.473123Z",
     "shell.execute_reply.started": "2025-09-05T11:55:49.465863Z"
    },
    "id": "f_Oa0DJhdg6v"
   },
   "outputs": [
    {
     "name": "stdout",
     "output_type": "stream",
     "text": [
      "z-статистика = -0.995\n",
      "p-value = 0.84022\n",
      "Висновок: p-value НЕ менше за рівень значущості\n",
      "\n",
      "НЕ ВІДХИЛЯЄМО H₀\n"
     ]
    }
   ],
   "source": [
    "from statsmodels.stats.weightstats import ztest\n",
    "\n",
    "z_stat, p_value = ztest(data, value=20, alternative='larger')  # перевірка на зростання\n",
    "\n",
    "print(\"z-статистика =\", round(z_stat, 3))\n",
    "print(\"p-value =\", round(p_value, 5))\n",
    "\n",
    "alpha = 0.05\n",
    "if p_value < alpha:\n",
    "    print(\"Висновок: p-value МЕНШЕ за рівень значущості\")\n",
    "    decision = \"ВІДХИЛЯЄМО H₀\"\n",
    "else:\n",
    "    print(\"Висновок: p-value НЕ менше за рівень значущості\")\n",
    "    decision = \"НЕ ВІДХИЛЯЄМО H₀\"\n",
    "print()\n",
    "print(decision)"
   ]
  },
  {
   "cell_type": "markdown",
   "id": "6f1e620a-ba19-4b62-8c01-95dcbc364718",
   "metadata": {},
   "source": [
    "Значення й висновки з Завдання 1 і Завдання 2 зійшлись."
   ]
  }
 ],
 "metadata": {
  "colab": {
   "provenance": []
  },
  "hide_input": false,
  "kernelspec": {
   "display_name": "Python [conda env:base] *",
   "language": "python",
   "name": "conda-base-py"
  },
  "language_info": {
   "codemirror_mode": {
    "name": "ipython",
    "version": 3
   },
   "file_extension": ".py",
   "mimetype": "text/x-python",
   "name": "python",
   "nbconvert_exporter": "python",
   "pygments_lexer": "ipython3",
   "version": "3.11.7"
  },
  "toc": {
   "base_numbering": 1,
   "nav_menu": {},
   "number_sections": true,
   "sideBar": true,
   "skip_h1_title": false,
   "title_cell": "Table of Contents",
   "title_sidebar": "Contents",
   "toc_cell": false,
   "toc_position": {},
   "toc_section_display": true,
   "toc_window_display": false
  },
  "varInspector": {
   "cols": {
    "lenName": 16,
    "lenType": 16,
    "lenVar": 40
   },
   "kernels_config": {
    "python": {
     "delete_cmd_postfix": "",
     "delete_cmd_prefix": "del ",
     "library": "var_list.py",
     "varRefreshCmd": "print(var_dic_list())"
    },
    "r": {
     "delete_cmd_postfix": ") ",
     "delete_cmd_prefix": "rm(",
     "library": "var_list.r",
     "varRefreshCmd": "cat(var_dic_list()) "
    }
   },
   "types_to_exclude": [
    "module",
    "function",
    "builtin_function_or_method",
    "instance",
    "_Feature"
   ],
   "window_display": false
  }
 },
 "nbformat": 4,
 "nbformat_minor": 5
}
