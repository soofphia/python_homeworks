{
 "cells": [
  {
   "cell_type": "markdown",
   "metadata": {
    "id": "XO6mRLe59D3H"
   },
   "source": [
    "#Домашнє завдання до теми \"Списки\""
   ]
  },
  {
   "cell_type": "markdown",
   "metadata": {
    "id": "RK9HC3UZZ8HZ"
   },
   "source": [
    "У нас є наступний список:"
   ]
  },
  {
   "cell_type": "code",
   "execution_count": 50,
   "metadata": {
    "execution": {
     "iopub.execute_input": "2025-06-29T18:35:33.255309Z",
     "iopub.status.busy": "2025-06-29T18:35:33.255309Z",
     "iopub.status.idle": "2025-06-29T18:35:33.260947Z",
     "shell.execute_reply": "2025-06-29T18:35:33.260947Z",
     "shell.execute_reply.started": "2025-06-29T18:35:33.255309Z"
    },
    "id": "7eOLd__FZyZp"
   },
   "outputs": [],
   "source": [
    "my_list = [\n",
    "    78, 12, 14, 27, 47, 28, 51, 46, 94, 37, 42, 20, 52, 33, 11, 11, 51,\n",
    "    20, 81, 54, 86, 51, 38, 42, 49, 99, 76, 17,  9, 23, 97, 29, 29, 63,\n",
    "    40, 11, 31, 76, 15, 21, 29, 75, 35,  2, 10, 71, 17, 10, 13,  7, 44,\n",
    "    12, 19, 61, 13, 25, 62, 46, 10, 44, 75, 57, 20, 57,  3, 44, 16, 28,\n",
    "    79, 57, 62, 70, 95,  8, 47, 82, 80, 45, 36, 44, 79, 95, 73, 42, 29,\n",
    "    83, 80, 66, 56,  8, 73,  5, 99, 65, 65, 98, 17, 36, 16, 60\n",
    "]"
   ]
  },
  {
   "cell_type": "code",
   "execution_count": 41,
   "metadata": {
    "execution": {
     "iopub.execute_input": "2025-06-29T18:33:12.041965Z",
     "iopub.status.busy": "2025-06-29T18:33:12.041965Z",
     "iopub.status.idle": "2025-06-29T18:33:12.059631Z",
     "shell.execute_reply": "2025-06-29T18:33:12.059631Z",
     "shell.execute_reply.started": "2025-06-29T18:33:12.041965Z"
    }
   },
   "outputs": [
    {
     "data": {
      "text/plain": [
       "100"
      ]
     },
     "execution_count": 41,
     "metadata": {},
     "output_type": "execute_result"
    }
   ],
   "source": [
    "len(my_list)"
   ]
  },
  {
   "cell_type": "markdown",
   "metadata": {
    "id": "xRqI75kkZ_2A"
   },
   "source": [
    "Будемо з ним працювати в наступних завданнях."
   ]
  },
  {
   "cell_type": "markdown",
   "metadata": {
    "id": "MOuwDHIdaC3O"
   },
   "source": [
    "1. Виведіть 5 перших елементів списку `my_list` з допомогою слайсингу."
   ]
  },
  {
   "cell_type": "code",
   "execution_count": 2,
   "metadata": {
    "execution": {
     "iopub.execute_input": "2025-06-29T18:09:22.042847Z",
     "iopub.status.busy": "2025-06-29T18:09:22.042847Z",
     "iopub.status.idle": "2025-06-29T18:09:22.048681Z",
     "shell.execute_reply": "2025-06-29T18:09:22.048681Z",
     "shell.execute_reply.started": "2025-06-29T18:09:22.042847Z"
    },
    "id": "Uypwuc8wZ_T2"
   },
   "outputs": [
    {
     "data": {
      "text/plain": [
       "[78, 12, 14, 27, 47]"
      ]
     },
     "execution_count": 2,
     "metadata": {},
     "output_type": "execute_result"
    }
   ],
   "source": [
    "my_list[:5]"
   ]
  },
  {
   "cell_type": "markdown",
   "metadata": {
    "id": "b5IeUxDHaGkb"
   },
   "source": [
    "Очікувана відповідь: [78, 12, 14, 27, 47]"
   ]
  },
  {
   "cell_type": "markdown",
   "metadata": {
    "id": "bNqAZFcJaJDR"
   },
   "source": [
    "2. Виведіть 3 останніх елементи списку `my_list` з допомогою слайсингу."
   ]
  },
  {
   "cell_type": "code",
   "execution_count": 4,
   "metadata": {
    "execution": {
     "iopub.execute_input": "2025-06-29T18:11:52.559673Z",
     "iopub.status.busy": "2025-06-29T18:11:52.559673Z",
     "iopub.status.idle": "2025-06-29T18:11:52.573299Z",
     "shell.execute_reply": "2025-06-29T18:11:52.573299Z",
     "shell.execute_reply.started": "2025-06-29T18:11:52.559673Z"
    }
   },
   "outputs": [
    {
     "data": {
      "text/plain": [
       "[98, 17, 36, 16, 60]"
      ]
     },
     "execution_count": 4,
     "metadata": {},
     "output_type": "execute_result"
    }
   ],
   "source": [
    "my_list[-5:]"
   ]
  },
  {
   "cell_type": "markdown",
   "metadata": {
    "id": "SGhwxnmXaR3S"
   },
   "source": [
    "3. Відсортуйте за зростанням список `my_list`, запишіть результат у змінну `my_list_sorted` та виведіть значення нової змінної на екран."
   ]
  },
  {
   "cell_type": "code",
   "execution_count": 11,
   "metadata": {
    "execution": {
     "iopub.execute_input": "2025-06-29T18:16:43.904644Z",
     "iopub.status.busy": "2025-06-29T18:16:43.904644Z",
     "iopub.status.idle": "2025-06-29T18:16:43.915305Z",
     "shell.execute_reply": "2025-06-29T18:16:43.915305Z",
     "shell.execute_reply.started": "2025-06-29T18:16:43.904644Z"
    },
    "id": "IKgCwCIbaTpf"
   },
   "outputs": [
    {
     "name": "stdout",
     "output_type": "stream",
     "text": [
      "[2, 3, 5, 7, 8, 8, 9, 10, 10, 10, 11, 11, 11, 12, 12, 13, 13, 14, 15, 16, 16, 17, 17, 17, 19, 20, 20, 20, 21, 23, 25, 27, 28, 28, 29, 29, 29, 29, 31, 33, 35, 36, 36, 37, 38, 40, 42, 42, 42, 44, 44, 44, 44, 45, 46, 46, 47, 47, 49, 51, 51, 51, 52, 54, 56, 57, 57, 57, 60, 61, 62, 62, 63, 65, 65, 66, 70, 71, 73, 73, 75, 75, 76, 76, 78, 79, 79, 80, 80, 81, 82, 83, 86, 94, 95, 95, 97, 98, 99, 99]\n"
     ]
    }
   ],
   "source": [
    "my_list_sorted = sorted(my_list)\n",
    "print (my_list_sorted)"
   ]
  },
  {
   "cell_type": "markdown",
   "metadata": {
    "id": "UuOFdraAaZhF"
   },
   "source": [
    "4. Виведіть максимальний і мінімальний елемент у списку `my_list`. Сформуйте відповідь у наступному форматі\n",
    "```\n",
    "Max element  <число>\n",
    "Min element  <число>\n",
    "```\n",
    "Можна скористатись результатом з попереднього завдання, або спеціальними фукнціями."
   ]
  },
  {
   "cell_type": "code",
   "execution_count": 40,
   "metadata": {
    "execution": {
     "iopub.execute_input": "2025-06-29T18:31:19.103562Z",
     "iopub.status.busy": "2025-06-29T18:31:19.103562Z",
     "iopub.status.idle": "2025-06-29T18:31:19.121088Z",
     "shell.execute_reply": "2025-06-29T18:31:19.119868Z",
     "shell.execute_reply.started": "2025-06-29T18:31:19.103562Z"
    },
    "id": "w50-Lpjsarg3"
   },
   "outputs": [
    {
     "name": "stdout",
     "output_type": "stream",
     "text": [
      "Max element 99\n",
      "Min element 2\n"
     ]
    }
   ],
   "source": [
    "max_el = max(my_list)\n",
    "min_el = min(my_list)\n",
    "print(\"Max element\", max_el)\n",
    "print(\"Min element\", min_el)"
   ]
  },
  {
   "cell_type": "markdown",
   "metadata": {
    "id": "VeS0Lr88apNZ"
   },
   "source": [
    "Очікувана відповідь:\n",
    "\n",
    "```\n",
    "Max element  99\n",
    "Min element  2\n",
    "```"
   ]
  },
  {
   "cell_type": "markdown",
   "metadata": {
    "id": "4xnVzP4fakvm"
   },
   "source": [
    "5. Створіть новий список `my_list_2`, який містить кожен 11-й елемент списку `my_list`. Виведіть `my_list_2` на екран.  \n",
    "Памʼятаємо, що перший з \"кожного одинадцятого елементу\" списку має індекс 10.\n",
    "Для виконання завдання використайте слайсинг."
   ]
  },
  {
   "cell_type": "code",
   "execution_count": 51,
   "metadata": {
    "execution": {
     "iopub.execute_input": "2025-06-29T18:35:37.469758Z",
     "iopub.status.busy": "2025-06-29T18:35:37.469758Z",
     "iopub.status.idle": "2025-06-29T18:35:37.473867Z",
     "shell.execute_reply": "2025-06-29T18:35:37.473867Z",
     "shell.execute_reply.started": "2025-06-29T18:35:37.469758Z"
    },
    "id": "DtOkWvVgaas0"
   },
   "outputs": [
    {
     "name": "stdout",
     "output_type": "stream",
     "text": [
      "[42, 51, 29, 2, 13, 44, 80, 66, 16]\n"
     ]
    }
   ],
   "source": [
    "my_list_2 = my_list[10::11]\n",
    "print(my_list_2)"
   ]
  },
  {
   "cell_type": "markdown",
   "metadata": {
    "id": "A-A6Mw_UbR8T"
   },
   "source": [
    "Очікуваний результат: `[42, 51, 29, 2, 13, 44, 80, 66, 16]`"
   ]
  }
 ],
 "metadata": {
  "colab": {
   "provenance": []
  },
  "kernelspec": {
   "display_name": "Python [conda env:base] *",
   "language": "python",
   "name": "conda-base-py"
  },
  "language_info": {
   "codemirror_mode": {
    "name": "ipython",
    "version": 3
   },
   "file_extension": ".py",
   "mimetype": "text/x-python",
   "name": "python",
   "nbconvert_exporter": "python",
   "pygments_lexer": "ipython3",
   "version": "3.11.7"
  }
 },
 "nbformat": 4,
 "nbformat_minor": 4
}
