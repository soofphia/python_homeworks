{
 "cells": [
  {
   "cell_type": "markdown",
   "metadata": {
    "id": "W8lqt6zd9axA"
   },
   "source": [
    "#Домашнє завдання до теми \"Цикл for\""
   ]
  },
  {
   "cell_type": "markdown",
   "metadata": {
    "id": "iXzoNTu604kH"
   },
   "source": [
    "0. Розігрів. Напишіть цикл, який виводить на екран числа від 1 до 10 включно."
   ]
  },
  {
   "cell_type": "code",
   "execution_count": 1,
   "metadata": {
    "execution": {
     "iopub.execute_input": "2025-06-29T20:42:40.099083Z",
     "iopub.status.busy": "2025-06-29T20:42:40.099083Z",
     "iopub.status.idle": "2025-06-29T20:42:40.115173Z",
     "shell.execute_reply": "2025-06-29T20:42:40.114151Z",
     "shell.execute_reply.started": "2025-06-29T20:42:40.099083Z"
    },
    "id": "zpwypSSp0MVm"
   },
   "outputs": [
    {
     "name": "stdout",
     "output_type": "stream",
     "text": [
      "0\n",
      "1\n",
      "2\n",
      "3\n",
      "4\n",
      "5\n",
      "6\n",
      "7\n",
      "8\n",
      "9\n",
      "10\n"
     ]
    }
   ],
   "source": [
    "values = range(11)\n",
    "for i in values:\n",
    "    print (i)"
   ]
  },
  {
   "cell_type": "markdown",
   "metadata": {
    "id": "JmWR8uze094H"
   },
   "source": [
    "**Початок покладено!**"
   ]
  },
  {
   "cell_type": "markdown",
   "metadata": {
    "id": "OJX3yG-Blplu"
   },
   "source": [
    "1. Задайте список `numbers`, який містить значення від 0 до 9 включно. Використовуючи цикл `for`, обчисліть суму елементів в створеному списку та виведіть фінальну суму на екран."
   ]
  },
  {
   "cell_type": "code",
   "execution_count": 8,
   "metadata": {
    "execution": {
     "iopub.execute_input": "2025-06-29T20:57:20.515652Z",
     "iopub.status.busy": "2025-06-29T20:57:20.515652Z",
     "iopub.status.idle": "2025-06-29T20:57:20.522535Z",
     "shell.execute_reply": "2025-06-29T20:57:20.522535Z",
     "shell.execute_reply.started": "2025-06-29T20:57:20.515652Z"
    },
    "id": "sSX30A5yuvUQ"
   },
   "outputs": [
    {
     "name": "stdout",
     "output_type": "stream",
     "text": [
      "45\n",
      "45\n",
      "45\n",
      "45\n",
      "45\n",
      "45\n",
      "45\n",
      "45\n",
      "45\n",
      "45\n"
     ]
    }
   ],
   "source": [
    "numbers = list(range(10))\n",
    "numbers_sum = sum(numbers)\n",
    "for el in numbers:\n",
    "    print (sum(numbers))"
   ]
  },
  {
   "cell_type": "code",
   "execution_count": 7,
   "metadata": {
    "execution": {
     "iopub.execute_input": "2025-06-29T20:56:41.626703Z",
     "iopub.status.busy": "2025-06-29T20:56:41.626703Z",
     "iopub.status.idle": "2025-06-29T20:56:41.636509Z",
     "shell.execute_reply": "2025-06-29T20:56:41.636509Z",
     "shell.execute_reply.started": "2025-06-29T20:56:41.626703Z"
    }
   },
   "outputs": [
    {
     "name": "stdout",
     "output_type": "stream",
     "text": [
      "45\n"
     ]
    }
   ],
   "source": [
    "# або\n",
    "numbers = list(range(10))\n",
    "numbers_sum = 0\n",
    "for el in numbers:\n",
    "    numbers_sum += el\n",
    "print (sum(numbers))"
   ]
  },
  {
   "cell_type": "markdown",
   "metadata": {
    "id": "6Tb2Kx_jmD5b"
   },
   "source": [
    "2. Використовуючи цикл  `for` виведіть для кожного елементу списку `numbers`,який ми створили в завданні 1, чи цей елемент дорівнює 5. Тобто після виконання циклу на екрані має бути 10 bool значень."
   ]
  },
  {
   "cell_type": "code",
   "execution_count": 12,
   "metadata": {
    "execution": {
     "iopub.execute_input": "2025-06-29T20:59:59.757923Z",
     "iopub.status.busy": "2025-06-29T20:59:59.757923Z",
     "iopub.status.idle": "2025-06-29T20:59:59.770293Z",
     "shell.execute_reply": "2025-06-29T20:59:59.769293Z",
     "shell.execute_reply.started": "2025-06-29T20:59:59.757923Z"
    },
    "id": "Ls8ZW8DWuwHC"
   },
   "outputs": [
    {
     "name": "stdout",
     "output_type": "stream",
     "text": [
      "False\n",
      "False\n",
      "False\n",
      "False\n",
      "False\n",
      "True\n",
      "False\n",
      "False\n",
      "False\n",
      "False\n"
     ]
    }
   ],
   "source": [
    "for el in numbers:\n",
    "    print (el == 5)"
   ]
  },
  {
   "cell_type": "markdown",
   "metadata": {
    "id": "ddFE1naOmp7Q"
   },
   "source": [
    "3. Використовуючи цикл  `for` для кожного елементу списку `numbers`, який ми створили в завданні 1, виявіть, чи цей елемент ділиться на 2 без остачі, та запишіть результат у новий список `numbers_divisible_by_2`.\n",
    "\n",
    "Увага! Виконання завдання відрізняється від попереднього тим, що тепер ми результат обчислення на кожній ітерації записуємо у новий список. До того ж ми тут виконуємо іншу математичну операцію.\n",
    "\n",
    "Виведіть фільнальний список `numbers_divisible_by_2` на екран."
   ]
  },
  {
   "cell_type": "code",
   "execution_count": 8,
   "metadata": {
    "execution": {
     "iopub.execute_input": "2025-06-30T09:34:43.090599Z",
     "iopub.status.busy": "2025-06-30T09:34:43.090599Z",
     "iopub.status.idle": "2025-06-30T09:34:43.099025Z",
     "shell.execute_reply": "2025-06-30T09:34:43.099025Z",
     "shell.execute_reply.started": "2025-06-30T09:34:43.090599Z"
    },
    "id": "S2Pk_W12uyDo"
   },
   "outputs": [
    {
     "name": "stdout",
     "output_type": "stream",
     "text": [
      "[True, False, True, False, True, False, True, False, True, False]\n"
     ]
    }
   ],
   "source": [
    "numbers = list(range(10))\n",
    "numbers_divisible_by_2 = []\n",
    "for el in numbers:\n",
    "    numbers_divisible_by_2.append (el % 2 == 0)\n",
    "print (numbers_divisible_by_2)"
   ]
  },
  {
   "cell_type": "markdown",
   "metadata": {
    "id": "cwvpWeVGnUGB"
   },
   "source": [
    "Очікуваний результат: `[True, False, True, False, True, False, True, False, True, False]`"
   ]
  },
  {
   "cell_type": "markdown",
   "metadata": {
    "id": "0rgeGpJ3utVN"
   },
   "source": [
    "4. Задано два списки в клітинці нижче - `a` і `b`. Створіть цикл, результатом якого буде список `result`, що містить елементи типу bool і який фактично каже,\n",
    "\"чи на цьому індексі елементи наших двох списків співпадають\". Приклад:\n",
    "```\n",
    "a = [1, 2, 3, 6]\n",
    "b = [1, 7, 3, 6]\n",
    "# ми виконали поелементне порівняння двох списків і отримали новий список result\n",
    "# result містить наступний результат -> [True, False, True, True]\n",
    "```\n",
    "В кінці виведіть вміст result на екран.\n",
    "\n",
    "<details>\n",
    "<summary>Підказка</summary>\n",
    "\n",
    "Аби порівняти елементи в циклі - треба створити цикл по індексам елементів. Зважаючи, що наші списки - одної довжини, цей підхід дозволить нам отримати чітко те, що треба.\n",
    "\n",
    "**Просунутий варіант.** Альтернативно можна створити цикл, який на кожній ітерації має доступ до двох елементів - по одному з кожного списка, для цього треба скористатись функцією `zip` - приклад [тут](https://realpython.com/python-zip-function/#traversing-lists-in-parallel)\n",
    "</details>\n"
   ]
  },
  {
   "cell_type": "code",
   "execution_count": 9,
   "metadata": {
    "execution": {
     "iopub.execute_input": "2025-06-30T09:35:12.454261Z",
     "iopub.status.busy": "2025-06-30T09:35:12.454261Z",
     "iopub.status.idle": "2025-06-30T09:35:12.469780Z",
     "shell.execute_reply": "2025-06-30T09:35:12.469780Z",
     "shell.execute_reply.started": "2025-06-30T09:35:12.454261Z"
    },
    "id": "IIYG41pWdJiG"
   },
   "outputs": [],
   "source": [
    "a = [64, 93, 60, 95, 66, 9, 15, 55, 77, 28, 74, 100, 13, 1, 85, 48, 66, 65, 59, 32]\n",
    "b = [64, 93, 60, 95, 66, 9, 15, 56, 77, 28, 74, 100, 13, 1, 85, 48, 67, 65, 59, 32]"
   ]
  },
  {
   "cell_type": "code",
   "execution_count": 19,
   "metadata": {
    "execution": {
     "iopub.execute_input": "2025-06-30T09:44:45.728276Z",
     "iopub.status.busy": "2025-06-30T09:44:45.728276Z",
     "iopub.status.idle": "2025-06-30T09:44:45.736049Z",
     "shell.execute_reply": "2025-06-30T09:44:45.735040Z",
     "shell.execute_reply.started": "2025-06-30T09:44:45.728276Z"
    },
    "id": "XgZwTwr4u2lA"
   },
   "outputs": [
    {
     "name": "stdout",
     "output_type": "stream",
     "text": [
      "[True, True, True, True, True, True, True, False, True, True, True, True, True, True, True, True, False, True, True, True]\n"
     ]
    }
   ],
   "source": [
    "result = []\n",
    "for el_a, el_b in zip (a, b):\n",
    "    result.append(el_a == el_b)\n",
    "print(result)"
   ]
  },
  {
   "cell_type": "markdown",
   "metadata": {
    "id": "0Z2cObcTutVO"
   },
   "source": [
    "5. Нижче задано список `numbers`. Виконайте клітинку з його заданням.\n",
    "\n",
    "  Давайте знайдемо середнє арифметичне значення елементів списку `numbers` округлене до 2 цифр після коми та запишемо його у змінну `numbers_mean`. Для цього виконаємо два простих кроки.\n",
    "\n",
    "  1) Знайдіть суму всіх елементів списку `numbers` та запишіть її у змінну `numbers_sum`. Можна з використанням циклу, а можна і без.\n",
    "\n",
    "  2) Обчисліть `numbers_mean` шляхом ділення суми елементів у списку на їх кількість. Кількість елементів в списку - це його довжина.\n",
    "\n",
    "  Виведіть `numbers_mean`, округлений до 2 цифр після коми, на екран.\n",
    "\n",
    "  **Підказка**: округлити число можна з використанням вбудованої функції Python [round()](https://docs.python.org/3/library/functions.html#round)."
   ]
  },
  {
   "cell_type": "code",
   "execution_count": 20,
   "metadata": {
    "execution": {
     "iopub.execute_input": "2025-06-30T09:45:07.772655Z",
     "iopub.status.busy": "2025-06-30T09:45:07.772655Z",
     "iopub.status.idle": "2025-06-30T09:45:07.784800Z",
     "shell.execute_reply": "2025-06-30T09:45:07.784800Z",
     "shell.execute_reply.started": "2025-06-30T09:45:07.772655Z"
    },
    "id": "TwuOmLpeutVO"
   },
   "outputs": [],
   "source": [
    "numbers = [42, 51, 29, 2, 13, 44, 80, 66, 16]"
   ]
  },
  {
   "cell_type": "code",
   "execution_count": 26,
   "metadata": {
    "execution": {
     "iopub.execute_input": "2025-06-30T09:51:12.619923Z",
     "iopub.status.busy": "2025-06-30T09:51:12.618895Z",
     "iopub.status.idle": "2025-06-30T09:51:12.637865Z",
     "shell.execute_reply": "2025-06-30T09:51:12.633592Z",
     "shell.execute_reply.started": "2025-06-30T09:51:12.619923Z"
    },
    "id": "R-qDvKVcu6e1"
   },
   "outputs": [
    {
     "name": "stdout",
     "output_type": "stream",
     "text": [
      "38.11\n"
     ]
    }
   ],
   "source": [
    "numbers_sum = sum(numbers)\n",
    "numbers_mean = sum(numbers)/len(numbers)\n",
    "print (round(numbers_mean, 2))"
   ]
  },
  {
   "cell_type": "markdown",
   "metadata": {
    "id": "pSdssHuuutVQ"
   },
   "source": [
    "Очікуваний результат: `38.11`"
   ]
  },
  {
   "cell_type": "markdown",
   "metadata": {
    "id": "JsevSvVtutVQ"
   },
   "source": [
    "6. Задано список `a` і елемент `element`. Перевірте програмно чи є в списку `a` елемент `element` з допомогою інструкцій `if ... else`. Виведіть на екран відповідь \"Так, є\", якщо цей елемент в списку присутній, або \"Ні, нема\", якщо його там немає.\n",
    "Важливо це зробити без використання імпортів будь-яких бібліотек.\n",
    "\n",
    "  Тут цикла немає :) Але це завдання - підготовче до наступного."
   ]
  },
  {
   "cell_type": "code",
   "execution_count": 27,
   "metadata": {
    "execution": {
     "iopub.execute_input": "2025-06-30T09:51:23.628720Z",
     "iopub.status.busy": "2025-06-30T09:51:23.628720Z",
     "iopub.status.idle": "2025-06-30T09:51:23.644231Z",
     "shell.execute_reply": "2025-06-30T09:51:23.644231Z",
     "shell.execute_reply.started": "2025-06-30T09:51:23.628720Z"
    },
    "id": "TqkTdlN_utVQ"
   },
   "outputs": [],
   "source": [
    "a = [64, 93, 60, 95, 66, 9, 15, 55, 77, 28, 74, 100, 13, 1, 85, 48, 66, 65, 59, 32]\n",
    "element = 33"
   ]
  },
  {
   "cell_type": "code",
   "execution_count": 31,
   "metadata": {
    "execution": {
     "iopub.execute_input": "2025-06-30T09:54:08.655616Z",
     "iopub.status.busy": "2025-06-30T09:54:08.655616Z",
     "iopub.status.idle": "2025-06-30T09:54:08.668602Z",
     "shell.execute_reply": "2025-06-30T09:54:08.668602Z",
     "shell.execute_reply.started": "2025-06-30T09:54:08.655616Z"
    },
    "id": "aL_76T8pu7fp"
   },
   "outputs": [
    {
     "name": "stdout",
     "output_type": "stream",
     "text": [
      "Ні, нема\n"
     ]
    }
   ],
   "source": [
    "if element in a:\n",
    "    print (f\"Так, є\")\n",
    "else:\n",
    "    print (f\"Ні, нема\")"
   ]
  },
  {
   "cell_type": "markdown",
   "metadata": {
    "id": "QKjmv4j0utVR"
   },
   "source": [
    "7. Тепер у нас не один елемент, а кілька. Вони наведені в змінній `elements`. За допомогою циклу і інструкцій `if ... else` для кожного елемента списку `elements` перевірте, чи він є в списку `a`.\n",
    "Виведіть на екран відповідь \"Так, є елемент <вставити значення елемента>\", якщо елемент в списку присутній, або \"Ні, нема елемента <вставити значення елемента>\", якщо його там немає."
   ]
  },
  {
   "cell_type": "code",
   "execution_count": 32,
   "metadata": {
    "execution": {
     "iopub.execute_input": "2025-06-30T09:54:16.009586Z",
     "iopub.status.busy": "2025-06-30T09:54:16.009586Z",
     "iopub.status.idle": "2025-06-30T09:54:16.016579Z",
     "shell.execute_reply": "2025-06-30T09:54:16.016579Z",
     "shell.execute_reply.started": "2025-06-30T09:54:16.009586Z"
    },
    "id": "TF3nT5TMutVR"
   },
   "outputs": [],
   "source": [
    "elements = [44, 66, 77, 100]"
   ]
  },
  {
   "cell_type": "code",
   "execution_count": 42,
   "metadata": {
    "execution": {
     "iopub.execute_input": "2025-06-30T10:41:29.412244Z",
     "iopub.status.busy": "2025-06-30T10:41:29.412244Z",
     "iopub.status.idle": "2025-06-30T10:41:29.417724Z",
     "shell.execute_reply": "2025-06-30T10:41:29.416654Z",
     "shell.execute_reply.started": "2025-06-30T10:41:29.412244Z"
    },
    "id": "pQD5InOQvG1d"
   },
   "outputs": [
    {
     "name": "stdout",
     "output_type": "stream",
     "text": [
      "Ні, нема елемента 44\n",
      "Так, є елемент 66\n",
      "Так, є елемент 77\n",
      "Так, є елемент 100\n"
     ]
    }
   ],
   "source": [
    "for el in elements:\n",
    "    if el in a:\n",
    "        print (f\"Так, є елемент {el}\")\n",
    "    else:\n",
    "        print (f\"Ні, нема елемента {el}\")"
   ]
  }
 ],
 "metadata": {
  "colab": {
   "provenance": []
  },
  "kernelspec": {
   "display_name": "Python [conda env:base] *",
   "language": "python",
   "name": "conda-base-py"
  },
  "language_info": {
   "codemirror_mode": {
    "name": "ipython",
    "version": 3
   },
   "file_extension": ".py",
   "mimetype": "text/x-python",
   "name": "python",
   "nbconvert_exporter": "python",
   "pygments_lexer": "ipython3",
   "version": "3.11.7"
  }
 },
 "nbformat": 4,
 "nbformat_minor": 4
}
