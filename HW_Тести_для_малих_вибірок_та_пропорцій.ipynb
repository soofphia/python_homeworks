{
 "cells": [
  {
   "cell_type": "markdown",
   "id": "e152f6d6",
   "metadata": {
    "ExecuteTime": {
     "end_time": "2022-12-10T14:29:24.703416Z",
     "start_time": "2022-12-10T14:29:24.688485Z"
    },
    "id": "e152f6d6"
   },
   "source": [
    "# Тести для малих вибірок та пропорцій\n",
    "\n"
   ]
  },
  {
   "cell_type": "markdown",
   "id": "abdcef5d",
   "metadata": {
    "id": "abdcef5d"
   },
   "source": [
    "**Завдання 1**. E-commerce компанія після редизайну сайту підозрює, що **середній час до покупки (time-to-purchase)** користувачів **збільшився**.\n",
    "Історично середній час від першого заходу на сайт до покупки становив $\\mu_0 = 123.7$ хвилин.\n",
    "\n",
    "Команда аналітиків випадково обрала дані **7 покупців після редизайну**:\n",
    "`128, 135, 121, 142, 126, 151, 123`\n",
    "\n",
    "З допомогою наявних даних зʼясуйте, чи збільшився середній час покупки після редизайну.\n",
    "\n",
    "Для цього виконайте наступні 6 кроків. Правильне виконання кожного з кроків оцінюється в 1 бал.\n",
    "\n",
    "1. Запишіть нульову та альтернативну гіпотези і визначте тип тесту.\n",
    "2. Обчисліть вибіркові статистики: $\\bar x$, $s$, $n$.\n",
    "3. Оберіть тип тесту та виконайте його (знайдіть критичне значення тесту, статистику тесту та р-значення) будь-яким пасуючим способом, щоб перевірити гіпотезу на рівні значущості $\\alpha = 0.10$.\n",
    "4. Прийміть рішення, чи відхиляєте ви гіпотезу $H_0$ використовуючи p-value.\n",
    "5. Напишіть висновок: чи справді редизайн сайту подовжив час до покупки?\n",
    "6. Чи зміниться ваше рішення при зміні рівня значущості на $\\alpha = 0.05$.\n"
   ]
  },
  {
   "cell_type": "markdown",
   "id": "9543d037-d875-4a2f-9ebc-9d8a405596ca",
   "metadata": {},
   "source": [
    "**Гіпотези**   \n",
    "\n",
    "H₀: μ = 123.7 (час до покупки не змінився)  \n",
    "H₁: μ > 123.7 (час до покупки зріс)  \n",
    "Тип тесту: правосторонній (one-tailed) "
   ]
  },
  {
   "cell_type": "code",
   "execution_count": 7,
   "id": "BcS4cm11QYpT",
   "metadata": {
    "execution": {
     "iopub.execute_input": "2025-09-07T17:38:55.596813Z",
     "iopub.status.busy": "2025-09-07T17:38:55.596813Z",
     "iopub.status.idle": "2025-09-07T17:38:55.614693Z",
     "shell.execute_reply": "2025-09-07T17:38:55.614693Z",
     "shell.execute_reply.started": "2025-09-07T17:38:55.596813Z"
    },
    "id": "BcS4cm11QYpT"
   },
   "outputs": [
    {
     "name": "stdout",
     "output_type": "stream",
     "text": [
      "============================================================\n",
      "Перевірка з рівнем значущості 0.1\n",
      "============================================================\n",
      "Вибіркове середнє: 132.29\n",
      "Вибіркове стандартне відхилення: 10.98\n",
      "t-статистика: 2.069\n",
      "Критичне значення (df=6): 1.440\n",
      "p-value: 0.0420\n",
      "Не відхиляємо H0: доказів недостатньо\n",
      "============================================================\n",
      "Перевірка з рівнем значущості 0.05\n",
      "============================================================\n",
      "Вибіркове середнє: 132.29\n",
      "Вибіркове стандартне відхилення: 10.98\n",
      "t-статистика: 2.069\n",
      "Критичне значення (df=6): 1.440\n",
      "p-value: 0.0420\n",
      "Не відхиляємо H0: доказів недостатньо\n"
     ]
    }
   ],
   "source": [
    "import numpy as np\n",
    "from scipy import stats\n",
    "\n",
    "# Дані з умови\n",
    "time = np.array([128, 135, 121, 142, 126, 151, 123])\n",
    "mu0 = 123.7   # середнє у магазині\n",
    "alpha_1 = 0.10\n",
    "\n",
    "# Крок 1. Обчислимо вибіркову статистику\n",
    "x_bar = np.mean(time)\n",
    "s = np.std(time, ddof=1)   # стандартне відхилення з n-1\n",
    "n = len(time)\n",
    "\n",
    "# Крок 2. Обчислимо t-статистику вручну\n",
    "t_stat = (x_bar - mu0) / (s / np.sqrt(n))\n",
    "\n",
    "# Крок 3. Критичне значення для лівостороннього тесту\n",
    "df = n - 1\n",
    "t_crit_1 = stats.t.ppf(1 - alpha_1, df)\n",
    "\n",
    "# Крок 4. p-value\n",
    "p_value = 1 - stats.t.cdf(t_stat, df)\n",
    "\n",
    "print(\"=\" * 60)\n",
    "print(f\"Перевірка з рівнем значущості {alpha_1}\")\n",
    "print(\"=\" * 60)\n",
    "print(f\"Вибіркове середнє: {x_bar:.2f}\")\n",
    "print(f\"Вибіркове стандартне відхилення: {s:.2f}\")\n",
    "print(f\"t-статистика: {t_stat:.3f}\")\n",
    "print(f\"Критичне значення (df={df}): {t_crit:.3f}\")\n",
    "print(f\"p-value: {p_value:.4f}\")\n",
    "\n",
    "# Крок 5. Висновок\n",
    "if t_stat < t_crit_1:\n",
    "    print(f\"Відхиляємо H0: середній час до покупки не більший за 123.7 хвилин на рівні значущості {alpha_1}\")\n",
    "else:\n",
    "    print(\"Не відхиляємо H0: доказів недостатньо\")\n",
    "\n",
    "# Перевірка результату з іншим рівнем значущості\n",
    "\n",
    "alpha_2 = 0.05\n",
    "\n",
    "t_crit_2 = stats.t.ppf(1 - alpha_2, df)\n",
    "\n",
    "print(\"=\" * 60)\n",
    "print(f\"Перевірка з рівнем значущості {alpha_2}\")\n",
    "print(\"=\" * 60)\n",
    "print(f\"Вибіркове середнє: {x_bar:.2f}\")\n",
    "print(f\"Вибіркове стандартне відхилення: {s:.2f}\")\n",
    "print(f\"t-статистика: {t_stat:.3f}\")\n",
    "print(f\"Критичне значення (df={df}): {t_crit:.3f}\")\n",
    "print(f\"p-value: {p_value:.4f}\")\n",
    "\n",
    "# Крок 5. Висновок\n",
    "if t_stat < t_crit_2:\n",
    "    print(f\"Відхиляємо H0: середній час до покупки не більший за 123.7 хвилин на рівні значущості {alpha_2}\")\n",
    "else:\n",
    "    print(\"Не відхиляємо H0: доказів недостатньо\")\n"
   ]
  },
  {
   "cell_type": "markdown",
   "id": "df23789b-53d4-4570-afcf-0d4e75d195df",
   "metadata": {},
   "source": [
    "Висновок: ми маємо підстави вважати, що середній час до покупки (time-to-purchase) користувачів збільшився. Перевірка на вужчому рівні значущості не змінила цього висновку."
   ]
  },
  {
   "cell_type": "markdown",
   "id": "5govLcx8FPSl",
   "metadata": {
    "id": "5govLcx8FPSl"
   },
   "source": [
    "**Завдання 2.**\n",
    "\n",
    "До спеціальної рекламної кампанії **23%** дорослих упізнавали логотип компанії. Після завершення кампанії відділ маркетингу провів опитування: з **1200** випадково відібраних дорослих **311** упізнали логотип.\n",
    "\n",
    "Перевірте на рівні значущості **3%** ($\\alpha=0.03$), чи дають ці дані достатні підстави стверджувати, що **тепер більше ніж 23%** дорослих упізнають логотип компанії. Для розвʼязку використовуйте бібліотеку `statsmodels`.\n",
    "\n",
    "Зробіть висновок, чи зросла впізнаваність логотипу.\n",
    "\n",
    "Додатково, обчисліть довірчий інтревал на заданому рівні значущості і проінтерпретуйте текстом - як він додатково пояснює прийняте нами рішення?"
   ]
  },
  {
   "cell_type": "code",
   "execution_count": 16,
   "id": "rcplRfotId51",
   "metadata": {
    "execution": {
     "iopub.execute_input": "2025-09-07T18:00:00.792395Z",
     "iopub.status.busy": "2025-09-07T18:00:00.792395Z",
     "iopub.status.idle": "2025-09-07T18:00:00.809240Z",
     "shell.execute_reply": "2025-09-07T18:00:00.809240Z",
     "shell.execute_reply.started": "2025-09-07T18:00:00.792395Z"
    },
    "id": "rcplRfotId51"
   },
   "outputs": [
    {
     "name": "stdout",
     "output_type": "stream",
     "text": [
      "🔹 Тест для однієї пропорції\n",
      "Вибіркова пропорція p̂ = 0.25917\n",
      "Z-статистика = 2.306\n",
      "Критичне Z: 1.2816\n",
      "p-value = 0.0106\n",
      "97% довірчий інтервал: (0.232695970152894, 0.2875202316147698)\n",
      "\n",
      "Відхиляємо H0\n"
     ]
    }
   ],
   "source": [
    "import statsmodels.api as sm\n",
    "from statsmodels.stats.proportion import proportions_ztest, proportion_confint\n",
    "from scipy.stats import norm\n",
    "\n",
    "count = 311   # кількість \"успіхів\"\n",
    "nobs = 1200    # обсяг вибірки\n",
    "p0 = 0.23      # гіпотетична пропорція (H0)\n",
    "\n",
    "p = count / nobs\n",
    "\n",
    "# z-тест для пропорції\n",
    "stat, pval = proportions_ztest(count, nobs, p0, alternative='larger')\n",
    "confint = proportion_confint(count, nobs, alpha=0.03, method='wilson')\n",
    "\n",
    "z_crit = norm.ppf(1 - alpha)\n",
    "\n",
    "print(\"🔹 Тест для однієї пропорції\")\n",
    "print(f\"Вибіркова пропорція p̂ = {p:.5f}\")\n",
    "print(f\"Z-статистика = {stat:.3f}\")\n",
    "print(f\"Критичне Z: {z_crit:.4f}\")\n",
    "print(f\"p-value = {pval:.4f}\")\n",
    "print(f\"97% довірчий інтервал: {confint}\")\n",
    "print()\n",
    "if p_value < alpha:\n",
    "    print(f\"Відхиляємо H0\")\n",
    "else:\n",
    "    print(\"Не відхиляємо H0: доказів недостатньо\")"
   ]
  },
  {
   "cell_type": "markdown",
   "id": "8e18470f-edb5-4460-9cff-c4765876747a",
   "metadata": {},
   "source": [
    "У нас є підстави стрерджувати, що впізнаваність логотипу зросла, з огляду на розрахунок з-статистики, та р-значення. Розрахований 97% довірчий інтервал підтверджує попереднє твердження, адже нижня межа інтервала (0.232), говорить нам про те, що пропорція зросла більше, ніж на 23%."
   ]
  }
 ],
 "metadata": {
  "colab": {
   "provenance": []
  },
  "hide_input": false,
  "kernelspec": {
   "display_name": "Python [conda env:base] *",
   "language": "python",
   "name": "conda-base-py"
  },
  "language_info": {
   "codemirror_mode": {
    "name": "ipython",
    "version": 3
   },
   "file_extension": ".py",
   "mimetype": "text/x-python",
   "name": "python",
   "nbconvert_exporter": "python",
   "pygments_lexer": "ipython3",
   "version": "3.11.7"
  },
  "toc": {
   "base_numbering": 1,
   "nav_menu": {},
   "number_sections": true,
   "sideBar": true,
   "skip_h1_title": false,
   "title_cell": "Table of Contents",
   "title_sidebar": "Contents",
   "toc_cell": false,
   "toc_position": {},
   "toc_section_display": true,
   "toc_window_display": false
  },
  "varInspector": {
   "cols": {
    "lenName": 16,
    "lenType": 16,
    "lenVar": 40
   },
   "kernels_config": {
    "python": {
     "delete_cmd_postfix": "",
     "delete_cmd_prefix": "del ",
     "library": "var_list.py",
     "varRefreshCmd": "print(var_dic_list())"
    },
    "r": {
     "delete_cmd_postfix": ") ",
     "delete_cmd_prefix": "rm(",
     "library": "var_list.r",
     "varRefreshCmd": "cat(var_dic_list()) "
    }
   },
   "types_to_exclude": [
    "module",
    "function",
    "builtin_function_or_method",
    "instance",
    "_Feature"
   ],
   "window_display": false
  }
 },
 "nbformat": 4,
 "nbformat_minor": 5
}
