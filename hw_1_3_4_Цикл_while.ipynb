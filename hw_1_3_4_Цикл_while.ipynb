{
 "cells": [
  {
   "cell_type": "markdown",
   "metadata": {
    "id": "15XCoYr0awZ6"
   },
   "source": [
    "#Домашнє завдання до теми \"Цикл while\""
   ]
  },
  {
   "cell_type": "markdown",
   "metadata": {
    "id": "xgCDxF5YhQSa"
   },
   "source": [
    "1. **Лічильник до заданого числа.**\n",
    "   Завдання:\n",
    "     - Створіть цикл `while`, щоб він лічив від 1 до заданого числа в змінній `limit` (включно).\n",
    "     - Виведіть кожне число, яке проходить лічильник, на екран.\n",
    "     - В кінці виведіть повідомлення \"Кінець розрахунку!\".\n"
   ]
  },
  {
   "cell_type": "code",
   "execution_count": 1,
   "metadata": {
    "execution": {
     "iopub.execute_input": "2025-06-30T12:21:28.272891Z",
     "iopub.status.busy": "2025-06-30T12:21:28.272891Z",
     "iopub.status.idle": "2025-06-30T12:21:28.277084Z",
     "shell.execute_reply": "2025-06-30T12:21:28.276084Z",
     "shell.execute_reply.started": "2025-06-30T12:21:28.272891Z"
    },
    "id": "wwSqYFCmiJTt"
   },
   "outputs": [],
   "source": [
    "limit = 9  # Задане число"
   ]
  },
  {
   "cell_type": "code",
   "execution_count": 6,
   "metadata": {
    "execution": {
     "iopub.execute_input": "2025-06-30T12:25:54.063384Z",
     "iopub.status.busy": "2025-06-30T12:25:54.063384Z",
     "iopub.status.idle": "2025-06-30T12:25:54.068630Z",
     "shell.execute_reply": "2025-06-30T12:25:54.067631Z",
     "shell.execute_reply.started": "2025-06-30T12:25:54.063384Z"
    },
    "id": "-t-kC6mJqNVx"
   },
   "outputs": [
    {
     "name": "stdout",
     "output_type": "stream",
     "text": [
      "1\n",
      "2\n",
      "3\n",
      "4\n",
      "5\n",
      "6\n",
      "7\n",
      "8\n",
      "9\n"
     ]
    }
   ],
   "source": [
    "i = 1\n",
    "while i <= limit:\n",
    "    print (i)\n",
    "    i = i+1"
   ]
  },
  {
   "cell_type": "markdown",
   "metadata": {
    "id": "DlqunQnphZ9s"
   },
   "source": [
    "2. **Пошук першого парного числа.** Завдання:\n",
    "     - Створіть цикл `while`, щоб знайти перше парне число після заданого числа `start`.\n",
    "     - Знайдіть та виведіть перше парне число.\n"
   ]
  },
  {
   "cell_type": "code",
   "execution_count": 7,
   "metadata": {
    "execution": {
     "iopub.execute_input": "2025-06-30T12:26:05.952280Z",
     "iopub.status.busy": "2025-06-30T12:26:05.951297Z",
     "iopub.status.idle": "2025-06-30T12:26:05.955634Z",
     "shell.execute_reply": "2025-06-30T12:26:05.955634Z",
     "shell.execute_reply.started": "2025-06-30T12:26:05.952280Z"
    },
    "id": "3CC3-gNJiW6X"
   },
   "outputs": [],
   "source": [
    "start = 7  # Задане число"
   ]
  },
  {
   "cell_type": "code",
   "execution_count": 12,
   "metadata": {
    "execution": {
     "iopub.execute_input": "2025-06-30T12:30:20.747398Z",
     "iopub.status.busy": "2025-06-30T12:30:20.747398Z",
     "iopub.status.idle": "2025-06-30T12:30:20.751832Z",
     "shell.execute_reply": "2025-06-30T12:30:20.751832Z",
     "shell.execute_reply.started": "2025-06-30T12:30:20.747398Z"
    },
    "id": "5M8Ly9_Lj4-t"
   },
   "outputs": [
    {
     "name": "stdout",
     "output_type": "stream",
     "text": [
      "Перше парне число після 7 це 8\n"
     ]
    }
   ],
   "source": [
    "next = start + 1\n",
    "while True:\n",
    "    if next % 2 == 0:\n",
    "        print (\"Перше парне число після\", start, \"це\", next)\n",
    "    break\n",
    "next += 1    "
   ]
  },
  {
   "cell_type": "markdown",
   "metadata": {
    "id": "OlhKezZYiQJ2"
   },
   "source": [
    "\n",
    "3. **Обчислення факторіалу.**   \n",
    "  Факторіал числа - це добуток всіх натуральних чисел від 1 до цього числа включно. Наприклад, факторіал числа 5 (позначається як 5!) дорівнює `1 * 2 * 3 * 4 * 5 = 120`.\n",
    "\n",
    "  Завдання:  \n",
    "      - Обчисліть факторіал заданого числа, використовуючи цикл `while`.  \n",
    "      - Задайте деяке число для обчислення факторіалу у змінній `num`.  \n",
    "      - Виведіть обчислений факторіал на екран.  \n"
   ]
  },
  {
   "cell_type": "code",
   "execution_count": 7,
   "metadata": {
    "execution": {
     "iopub.execute_input": "2025-06-30T18:28:13.098804Z",
     "iopub.status.busy": "2025-06-30T18:28:13.098804Z",
     "iopub.status.idle": "2025-06-30T18:28:13.106761Z",
     "shell.execute_reply": "2025-06-30T18:28:13.106761Z",
     "shell.execute_reply.started": "2025-06-30T18:28:13.098804Z"
    },
    "id": "s0JKm0Wtj5s9"
   },
   "outputs": [
    {
     "name": "stdout",
     "output_type": "stream",
     "text": [
      "5 ! = 120\n"
     ]
    }
   ],
   "source": [
    "num = 5\n",
    "factorial = 1\n",
    "current_num = 1\n",
    "while current_num <= num:\n",
    "    factorial *= current_num\n",
    "    current_num += 1\n",
    "print(num, \"!\", '=', factorial)"
   ]
  }
 ],
 "metadata": {
  "colab": {
   "provenance": []
  },
  "kernelspec": {
   "display_name": "Python [conda env:base] *",
   "language": "python",
   "name": "conda-base-py"
  },
  "language_info": {
   "codemirror_mode": {
    "name": "ipython",
    "version": 3
   },
   "file_extension": ".py",
   "mimetype": "text/x-python",
   "name": "python",
   "nbconvert_exporter": "python",
   "pygments_lexer": "ipython3",
   "version": "3.11.7"
  }
 },
 "nbformat": 4,
 "nbformat_minor": 4
}
